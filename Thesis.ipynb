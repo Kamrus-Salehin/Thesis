{
  "nbformat": 4,
  "nbformat_minor": 0,
  "metadata": {
    "colab": {
      "name": "Thesis.ipynb",
      "provenance": [],
      "collapsed_sections": []
    },
    "kernelspec": {
      "display_name": "Python 3",
      "name": "python3"
    },
    "language_info": {
      "name": "python"
    }
  },
  "cells": [
    {
      "cell_type": "code",
      "metadata": {
        "id": "ZCckn6cXRaG-"
      },
      "source": [
        "import pandas as pd\n",
        "import numpy as np\n",
        "import matplotlib.pyplot as plt\n",
        "%matplotlib inline\n",
        "from sklearn.model_selection import train_test_split\n",
        "from sklearn.metrics import confusion_matrix, plot_confusion_matrix, accuracy_score, classification_report"
      ],
      "execution_count": 1,
      "outputs": []
    },
    {
      "cell_type": "code",
      "metadata": {
        "id": "VIHBSlYVRdlt",
        "colab": {
          "base_uri": "https://localhost:8080/"
        },
        "outputId": "83074a0d-836e-4467-fbb3-8dea0944cbe7"
      },
      "source": [
        "from google.colab import drive\n",
        "drive.mount('/content/drive')"
      ],
      "execution_count": 2,
      "outputs": [
        {
          "output_type": "stream",
          "name": "stdout",
          "text": [
            "Mounted at /content/drive\n"
          ]
        }
      ]
    },
    {
      "cell_type": "code",
      "metadata": {
        "id": "mW8TpZJpgGxr"
      },
      "source": [
        "ds = pd.read_csv('/content/drive/MyDrive/full_doc_train.csv')"
      ],
      "execution_count": 7,
      "outputs": []
    },
    {
      "cell_type": "code",
      "metadata": {
        "colab": {
          "base_uri": "https://localhost:8080/",
          "height": 436
        },
        "id": "6VQo4KrrBXp0",
        "outputId": "a15b0a3c-2955-4bea-a363-3d36b686b315"
      },
      "source": [
        "pd.set_option('display.max_colwidth', 150)\n",
        "ds"
      ],
      "execution_count": 4,
      "outputs": [
        {
          "output_type": "execute_result",
          "data": {
            "text/html": [
              "<div>\n",
              "<style scoped>\n",
              "    .dataframe tbody tr th:only-of-type {\n",
              "        vertical-align: middle;\n",
              "    }\n",
              "\n",
              "    .dataframe tbody tr th {\n",
              "        vertical-align: top;\n",
              "    }\n",
              "\n",
              "    .dataframe thead th {\n",
              "        text-align: right;\n",
              "    }\n",
              "</style>\n",
              "<table border=\"1\" class=\"dataframe\">\n",
              "  <thead>\n",
              "    <tr style=\"text-align: right;\">\n",
              "      <th></th>\n",
              "      <th>label</th>\n",
              "      <th>text</th>\n",
              "      <th>is_valid</th>\n",
              "    </tr>\n",
              "  </thead>\n",
              "  <tbody>\n",
              "    <tr>\n",
              "      <th>0</th>\n",
              "      <td>opinion</td>\n",
              "      <td>উচ্চ মাধ্যমিক পরীক্ষার আগের দিন মঙ্গলবার এক বিবৃতিতে মন্ত্রী বলেন, “আমি হরতাল-অবরোধ ও সন্ত্রাসী কার্যক্রম পরিচালনাকারী জোটের প্রতি আহ্বান জানাচ্ছি...</td>\n",
              "      <td>False</td>\n",
              "    </tr>\n",
              "    <tr>\n",
              "      <th>1</th>\n",
              "      <td>opinion</td>\n",
              "      <td>জাতিসংঘের সহকারী মহাসচিব অস্কার ফার্নান্দেজ তারানকোর বাংলাদেশ সফরের পর সংলাপ-সংলাপ খেলা প্রায় ফাইনাল রাউন্ডে পৌঁছে গেছে বলে মনে হচ্ছে। তাঁর সফর, ...</td>\n",
              "      <td>False</td>\n",
              "    </tr>\n",
              "    <tr>\n",
              "      <th>2</th>\n",
              "      <td>opinion</td>\n",
              "      <td>একটা মেয়ে চিঠি লিখেছে তার বাবাকে। ইংরেজিতে লেখা চিঠি। অনুবাদ করলে মোটামুটি দাঁড়ায় এ রকম: ‘প্রিয় আব্বু, আমি জানি না এ চিঠি কোনো দিন তোমার কাছে...</td>\n",
              "      <td>False</td>\n",
              "    </tr>\n",
              "    <tr>\n",
              "      <th>3</th>\n",
              "      <td>opinion</td>\n",
              "      <td>গত বছরের নভেম্বরের শেষ। হেমন্তের সকাল।শীত আসি আসি করছে। আমরা কয়েকজন এসেছি গ্রামের বঞ্চিত-অবহেলিত মেয়েদের একটি স্কুল দেখতে।খুলনা শহর থেকে সামান্য দ...</td>\n",
              "      <td>False</td>\n",
              "    </tr>\n",
              "    <tr>\n",
              "      <th>4</th>\n",
              "      <td>opinion</td>\n",
              "      <td>ঢাকা৴ আগઍট ১৫ (িবিডিনউজ)- সমান পদমযગাদার অনઘানઘ কমગকতગােদর পেদাਭিত োদওয়ার পদেਉেপ পચাথিমক িশਉা অিধদਮেরর সহকাির পચিশਉকেদর (এআই) মেধઘ োਉােভর সৃিੈ হেয়...</td>\n",
              "      <td>False</td>\n",
              "    </tr>\n",
              "    <tr>\n",
              "      <th>...</th>\n",
              "      <td>...</td>\n",
              "      <td>...</td>\n",
              "      <td>...</td>\n",
              "    </tr>\n",
              "    <tr>\n",
              "      <th>76713</th>\n",
              "      <td>entertainment</td>\n",
              "      <td>ফারাহ খান পরিচালিত শাহরুখ খান-দীপিকা পাড়ুকোন জুটির হ্যাপি নিউ ইয়ার ছবি মুক্তি পেয়েছে গত ২৪ অক্টোবর। এরই মধ্যে বিশ্বের বিভিন্ন দেশ থেকে সাড়ে ৩০...</td>\n",
              "      <td>False</td>\n",
              "    </tr>\n",
              "    <tr>\n",
              "      <th>76714</th>\n",
              "      <td>entertainment</td>\n",
              "      <td>রাধারমণের ১০০তম তিরোধান তিথি চলছে। সেটা মনে রেখেই এই অনুষ্ঠান। এ ধারার প্রধান বলে লালনকেই প্রথম স্মরণ করা হলো তাঁর গানের মাধ্যমে। শিল্পকলা একাডেমী...</td>\n",
              "      <td>False</td>\n",
              "    </tr>\n",
              "    <tr>\n",
              "      <th>76715</th>\n",
              "      <td>entertainment</td>\n",
              "      <td>‘আমার আশপাশের সবাই চাইছেন এখনই বিয়ে করে থিতু হই আমি, কিন্তু কবে থিতু হব এ বিষয়ে আমি এখনো জানি না। অবশ্য থিতু হওয়ার জন্য নিজের ওপর কোনো রকম চাপ সৃষ...</td>\n",
              "      <td>False</td>\n",
              "    </tr>\n",
              "    <tr>\n",
              "      <th>76716</th>\n",
              "      <td>entertainment</td>\n",
              "      <td>টাইমস অফ ইন্ডিয়া জানিয়েছে, ছোট বোন কারিনা কাপুর খানের চোখে বরাবরই ভালো নাচিয়েদের তালিকার শীর্ষে ছিলেন কারিশমা। তবে তেমনভাবে আলোচিত কোনো আইটেম গানে...</td>\n",
              "      <td>False</td>\n",
              "    </tr>\n",
              "    <tr>\n",
              "      <th>76717</th>\n",
              "      <td>entertainment</td>\n",
              "      <td>আগস্ট ১৪ (বিডিনিউজটুয়েন্টিফোরডটকম) -- বলিউডের প্রবীন অভিনেতা অনুপম খের স\\r\\n</td>\n",
              "      <td>False</td>\n",
              "    </tr>\n",
              "  </tbody>\n",
              "</table>\n",
              "<p>76718 rows × 3 columns</p>\n",
              "</div>"
            ],
            "text/plain": [
              "               label  ... is_valid\n",
              "0            opinion  ...    False\n",
              "1            opinion  ...    False\n",
              "2            opinion  ...    False\n",
              "3            opinion  ...    False\n",
              "4            opinion  ...    False\n",
              "...              ...  ...      ...\n",
              "76713  entertainment  ...    False\n",
              "76714  entertainment  ...    False\n",
              "76715  entertainment  ...    False\n",
              "76716  entertainment  ...    False\n",
              "76717  entertainment  ...    False\n",
              "\n",
              "[76718 rows x 3 columns]"
            ]
          },
          "metadata": {},
          "execution_count": 4
        }
      ]
    },
    {
      "cell_type": "code",
      "metadata": {
        "colab": {
          "base_uri": "https://localhost:8080/",
          "height": 419
        },
        "id": "aZzgrSyLRlmI",
        "outputId": "1b220f7a-a46f-4203-9634-88b9137fb3b6"
      },
      "source": [
        "da = ds.drop(['is_valid'], axis = 1)\n",
        "da"
      ],
      "execution_count": 5,
      "outputs": [
        {
          "output_type": "execute_result",
          "data": {
            "text/html": [
              "<div>\n",
              "<style scoped>\n",
              "    .dataframe tbody tr th:only-of-type {\n",
              "        vertical-align: middle;\n",
              "    }\n",
              "\n",
              "    .dataframe tbody tr th {\n",
              "        vertical-align: top;\n",
              "    }\n",
              "\n",
              "    .dataframe thead th {\n",
              "        text-align: right;\n",
              "    }\n",
              "</style>\n",
              "<table border=\"1\" class=\"dataframe\">\n",
              "  <thead>\n",
              "    <tr style=\"text-align: right;\">\n",
              "      <th></th>\n",
              "      <th>label</th>\n",
              "      <th>text</th>\n",
              "    </tr>\n",
              "  </thead>\n",
              "  <tbody>\n",
              "    <tr>\n",
              "      <th>0</th>\n",
              "      <td>opinion</td>\n",
              "      <td>উচ্চ মাধ্যমিক পরীক্ষার আগের দিন মঙ্গলবার এক বিবৃতিতে মন্ত্রী বলেন, “আমি হরতাল-অবরোধ ও সন্ত্রাসী কার্যক্রম পরিচালনাকারী জোটের প্রতি আহ্বান জানাচ্ছি...</td>\n",
              "    </tr>\n",
              "    <tr>\n",
              "      <th>1</th>\n",
              "      <td>opinion</td>\n",
              "      <td>জাতিসংঘের সহকারী মহাসচিব অস্কার ফার্নান্দেজ তারানকোর বাংলাদেশ সফরের পর সংলাপ-সংলাপ খেলা প্রায় ফাইনাল রাউন্ডে পৌঁছে গেছে বলে মনে হচ্ছে। তাঁর সফর, ...</td>\n",
              "    </tr>\n",
              "    <tr>\n",
              "      <th>2</th>\n",
              "      <td>opinion</td>\n",
              "      <td>একটা মেয়ে চিঠি লিখেছে তার বাবাকে। ইংরেজিতে লেখা চিঠি। অনুবাদ করলে মোটামুটি দাঁড়ায় এ রকম: ‘প্রিয় আব্বু, আমি জানি না এ চিঠি কোনো দিন তোমার কাছে...</td>\n",
              "    </tr>\n",
              "    <tr>\n",
              "      <th>3</th>\n",
              "      <td>opinion</td>\n",
              "      <td>গত বছরের নভেম্বরের শেষ। হেমন্তের সকাল।শীত আসি আসি করছে। আমরা কয়েকজন এসেছি গ্রামের বঞ্চিত-অবহেলিত মেয়েদের একটি স্কুল দেখতে।খুলনা শহর থেকে সামান্য দ...</td>\n",
              "    </tr>\n",
              "    <tr>\n",
              "      <th>4</th>\n",
              "      <td>opinion</td>\n",
              "      <td>ঢাকা৴ আগઍট ১৫ (িবিডিনউজ)- সমান পদমযગাদার অনઘানઘ কমગকতગােদর পেদাਭিত োদওয়ার পদেਉেপ পચাথিমক িশਉা অিধদਮেরর সহকাির পચিশਉকেদর (এআই) মেধઘ োਉােভর সৃিੈ হেয়...</td>\n",
              "    </tr>\n",
              "    <tr>\n",
              "      <th>...</th>\n",
              "      <td>...</td>\n",
              "      <td>...</td>\n",
              "    </tr>\n",
              "    <tr>\n",
              "      <th>76713</th>\n",
              "      <td>entertainment</td>\n",
              "      <td>ফারাহ খান পরিচালিত শাহরুখ খান-দীপিকা পাড়ুকোন জুটির হ্যাপি নিউ ইয়ার ছবি মুক্তি পেয়েছে গত ২৪ অক্টোবর। এরই মধ্যে বিশ্বের বিভিন্ন দেশ থেকে সাড়ে ৩০...</td>\n",
              "    </tr>\n",
              "    <tr>\n",
              "      <th>76714</th>\n",
              "      <td>entertainment</td>\n",
              "      <td>রাধারমণের ১০০তম তিরোধান তিথি চলছে। সেটা মনে রেখেই এই অনুষ্ঠান। এ ধারার প্রধান বলে লালনকেই প্রথম স্মরণ করা হলো তাঁর গানের মাধ্যমে। শিল্পকলা একাডেমী...</td>\n",
              "    </tr>\n",
              "    <tr>\n",
              "      <th>76715</th>\n",
              "      <td>entertainment</td>\n",
              "      <td>‘আমার আশপাশের সবাই চাইছেন এখনই বিয়ে করে থিতু হই আমি, কিন্তু কবে থিতু হব এ বিষয়ে আমি এখনো জানি না। অবশ্য থিতু হওয়ার জন্য নিজের ওপর কোনো রকম চাপ সৃষ...</td>\n",
              "    </tr>\n",
              "    <tr>\n",
              "      <th>76716</th>\n",
              "      <td>entertainment</td>\n",
              "      <td>টাইমস অফ ইন্ডিয়া জানিয়েছে, ছোট বোন কারিনা কাপুর খানের চোখে বরাবরই ভালো নাচিয়েদের তালিকার শীর্ষে ছিলেন কারিশমা। তবে তেমনভাবে আলোচিত কোনো আইটেম গানে...</td>\n",
              "    </tr>\n",
              "    <tr>\n",
              "      <th>76717</th>\n",
              "      <td>entertainment</td>\n",
              "      <td>আগস্ট ১৪ (বিডিনিউজটুয়েন্টিফোরডটকম) -- বলিউডের প্রবীন অভিনেতা অনুপম খের স\\r\\n</td>\n",
              "    </tr>\n",
              "  </tbody>\n",
              "</table>\n",
              "<p>76718 rows × 2 columns</p>\n",
              "</div>"
            ],
            "text/plain": [
              "               label                                                                                                                                                   text\n",
              "0            opinion  উচ্চ মাধ্যমিক পরীক্ষার আগের দিন মঙ্গলবার এক বিবৃতিতে মন্ত্রী বলেন, “আমি হরতাল-অবরোধ ও সন্ত্রাসী কার্যক্রম পরিচালনাকারী জোটের প্রতি আহ্বান জানাচ্ছি...\n",
              "1            opinion  জাতিসংঘের সহকারী মহাসচিব অস্কার ফার্নান্দেজ তারানকোর বাংলাদেশ সফরের পর সংলাপ-সংলাপ খেলা প্রায় ফাইনাল রাউন্ডে পৌঁছে গেছে বলে মনে হচ্ছে। তাঁর সফর, ...\n",
              "2            opinion  একটা মেয়ে চিঠি লিখেছে তার বাবাকে। ইংরেজিতে লেখা চিঠি। অনুবাদ করলে মোটামুটি দাঁড়ায় এ রকম: ‘প্রিয় আব্বু, আমি জানি না এ চিঠি কোনো দিন তোমার কাছে...\n",
              "3            opinion  গত বছরের নভেম্বরের শেষ। হেমন্তের সকাল।শীত আসি আসি করছে। আমরা কয়েকজন এসেছি গ্রামের বঞ্চিত-অবহেলিত মেয়েদের একটি স্কুল দেখতে।খুলনা শহর থেকে সামান্য দ...\n",
              "4            opinion  ঢাকা৴ আগઍট ১৫ (িবিডিনউজ)- সমান পদমযગাদার অনઘানઘ কমગকতગােদর পেদাਭিত োদওয়ার পদেਉেপ পચাথিমক িশਉা অিধদਮেরর সহকাির পચিশਉকেদর (এআই) মেধઘ োਉােভর সৃিੈ হেয়...\n",
              "...              ...                                                                                                                                                    ...\n",
              "76713  entertainment  ফারাহ খান পরিচালিত শাহরুখ খান-দীপিকা পাড়ুকোন জুটির হ্যাপি নিউ ইয়ার ছবি মুক্তি পেয়েছে গত ২৪ অক্টোবর। এরই মধ্যে বিশ্বের বিভিন্ন দেশ থেকে সাড়ে ৩০...\n",
              "76714  entertainment  রাধারমণের ১০০তম তিরোধান তিথি চলছে। সেটা মনে রেখেই এই অনুষ্ঠান। এ ধারার প্রধান বলে লালনকেই প্রথম স্মরণ করা হলো তাঁর গানের মাধ্যমে। শিল্পকলা একাডেমী...\n",
              "76715  entertainment  ‘আমার আশপাশের সবাই চাইছেন এখনই বিয়ে করে থিতু হই আমি, কিন্তু কবে থিতু হব এ বিষয়ে আমি এখনো জানি না। অবশ্য থিতু হওয়ার জন্য নিজের ওপর কোনো রকম চাপ সৃষ...\n",
              "76716  entertainment  টাইমস অফ ইন্ডিয়া জানিয়েছে, ছোট বোন কারিনা কাপুর খানের চোখে বরাবরই ভালো নাচিয়েদের তালিকার শীর্ষে ছিলেন কারিশমা। তবে তেমনভাবে আলোচিত কোনো আইটেম গানে...\n",
              "76717  entertainment                                                                           আগস্ট ১৪ (বিডিনিউজটুয়েন্টিফোরডটকম) -- বলিউডের প্রবীন অভিনেতা অনুপম খের স\\r\\n\n",
              "\n",
              "[76718 rows x 2 columns]"
            ]
          },
          "metadata": {},
          "execution_count": 5
        }
      ]
    },
    {
      "cell_type": "code",
      "metadata": {
        "colab": {
          "base_uri": "https://localhost:8080/"
        },
        "id": "nVbmVbzxPMQ3",
        "outputId": "209365e2-2686-4f63-b895-d0cd34a7b5ef"
      },
      "source": [
        "da.isnull().sum()"
      ],
      "execution_count": null,
      "outputs": [
        {
          "output_type": "execute_result",
          "data": {
            "text/plain": [
              "label    0\n",
              "text     0\n",
              "dtype: int64"
            ]
          },
          "metadata": {},
          "execution_count": 6
        }
      ]
    },
    {
      "cell_type": "code",
      "metadata": {
        "colab": {
          "base_uri": "https://localhost:8080/",
          "height": 424
        },
        "id": "ROzB3JuUXz1Z",
        "outputId": "eaac5c56-dc37-425d-89bd-eb9231b02c25"
      },
      "source": [
        "da.drop_duplicates(inplace = True)\n",
        "df = da\n",
        "df"
      ],
      "execution_count": null,
      "outputs": [
        {
          "output_type": "execute_result",
          "data": {
            "text/html": [
              "<div>\n",
              "<style scoped>\n",
              "    .dataframe tbody tr th:only-of-type {\n",
              "        vertical-align: middle;\n",
              "    }\n",
              "\n",
              "    .dataframe tbody tr th {\n",
              "        vertical-align: top;\n",
              "    }\n",
              "\n",
              "    .dataframe thead th {\n",
              "        text-align: right;\n",
              "    }\n",
              "</style>\n",
              "<table border=\"1\" class=\"dataframe\">\n",
              "  <thead>\n",
              "    <tr style=\"text-align: right;\">\n",
              "      <th></th>\n",
              "      <th>label</th>\n",
              "      <th>text</th>\n",
              "    </tr>\n",
              "  </thead>\n",
              "  <tbody>\n",
              "    <tr>\n",
              "      <th>0</th>\n",
              "      <td>opinion</td>\n",
              "      <td>উচ্চ মাধ্যমিক পরীক্ষার আগের দিন মঙ্গলবার এক বিবৃতিতে মন্ত্রী বলেন, “আমি হরতাল-অবরোধ ও সন্ত্রাসী কার্যক্রম পরিচালনাকারী জোটের প্রতি আহ্বান জানাচ্ছি...</td>\n",
              "    </tr>\n",
              "    <tr>\n",
              "      <th>1</th>\n",
              "      <td>opinion</td>\n",
              "      <td>জাতিসংঘের সহকারী মহাসচিব অস্কার ফার্নান্দেজ তারানকোর বাংলাদেশ সফরের পর সংলাপ-সংলাপ খেলা প্রায় ফাইনাল রাউন্ডে পৌঁছে গেছে বলে মনে হচ্ছে। তাঁর সফর, ...</td>\n",
              "    </tr>\n",
              "    <tr>\n",
              "      <th>2</th>\n",
              "      <td>opinion</td>\n",
              "      <td>একটা মেয়ে চিঠি লিখেছে তার বাবাকে। ইংরেজিতে লেখা চিঠি। অনুবাদ করলে মোটামুটি দাঁড়ায় এ রকম: ‘প্রিয় আব্বু, আমি জানি না এ চিঠি কোনো দিন তোমার কাছে...</td>\n",
              "    </tr>\n",
              "    <tr>\n",
              "      <th>3</th>\n",
              "      <td>opinion</td>\n",
              "      <td>গত বছরের নভেম্বরের শেষ। হেমন্তের সকাল।শীত আসি আসি করছে। আমরা কয়েকজন এসেছি গ্রামের বঞ্চিত-অবহেলিত মেয়েদের একটি স্কুল দেখতে।খুলনা শহর থেকে সামান্য দ...</td>\n",
              "    </tr>\n",
              "    <tr>\n",
              "      <th>4</th>\n",
              "      <td>opinion</td>\n",
              "      <td>ঢাকা৴ আগઍট ১৫ (িবিডিনউজ)- সমান পদমযગাদার অনઘানઘ কমગকতગােদর পেদাਭিত োদওয়ার পদেਉেপ পચাথিমক িশਉা অিধদਮেরর সহকাির পચিশਉকেদর (এআই) মেধઘ োਉােভর সৃিੈ হেয়...</td>\n",
              "    </tr>\n",
              "    <tr>\n",
              "      <th>...</th>\n",
              "      <td>...</td>\n",
              "      <td>...</td>\n",
              "    </tr>\n",
              "    <tr>\n",
              "      <th>76713</th>\n",
              "      <td>entertainment</td>\n",
              "      <td>ফারাহ খান পরিচালিত শাহরুখ খান-দীপিকা পাড়ুকোন জুটির হ্যাপি নিউ ইয়ার ছবি মুক্তি পেয়েছে গত ২৪ অক্টোবর। এরই মধ্যে বিশ্বের বিভিন্ন দেশ থেকে সাড়ে ৩০...</td>\n",
              "    </tr>\n",
              "    <tr>\n",
              "      <th>76714</th>\n",
              "      <td>entertainment</td>\n",
              "      <td>রাধারমণের ১০০তম তিরোধান তিথি চলছে। সেটা মনে রেখেই এই অনুষ্ঠান। এ ধারার প্রধান বলে লালনকেই প্রথম স্মরণ করা হলো তাঁর গানের মাধ্যমে। শিল্পকলা একাডেমী...</td>\n",
              "    </tr>\n",
              "    <tr>\n",
              "      <th>76715</th>\n",
              "      <td>entertainment</td>\n",
              "      <td>‘আমার আশপাশের সবাই চাইছেন এখনই বিয়ে করে থিতু হই আমি, কিন্তু কবে থিতু হব এ বিষয়ে আমি এখনো জানি না। অবশ্য থিতু হওয়ার জন্য নিজের ওপর কোনো রকম চাপ সৃষ...</td>\n",
              "    </tr>\n",
              "    <tr>\n",
              "      <th>76716</th>\n",
              "      <td>entertainment</td>\n",
              "      <td>টাইমস অফ ইন্ডিয়া জানিয়েছে, ছোট বোন কারিনা কাপুর খানের চোখে বরাবরই ভালো নাচিয়েদের তালিকার শীর্ষে ছিলেন কারিশমা। তবে তেমনভাবে আলোচিত কোনো আইটেম গানে...</td>\n",
              "    </tr>\n",
              "    <tr>\n",
              "      <th>76717</th>\n",
              "      <td>entertainment</td>\n",
              "      <td>আগস্ট ১৪ (বিডিনিউজটুয়েন্টিফোরডটকম) -- বলিউডের প্রবীন অভিনেতা অনুপম খের স\\r\\n</td>\n",
              "    </tr>\n",
              "  </tbody>\n",
              "</table>\n",
              "<p>75951 rows × 2 columns</p>\n",
              "</div>"
            ],
            "text/plain": [
              "               label                                                                                                                                                   text\n",
              "0            opinion  উচ্চ মাধ্যমিক পরীক্ষার আগের দিন মঙ্গলবার এক বিবৃতিতে মন্ত্রী বলেন, “আমি হরতাল-অবরোধ ও সন্ত্রাসী কার্যক্রম পরিচালনাকারী জোটের প্রতি আহ্বান জানাচ্ছি...\n",
              "1            opinion  জাতিসংঘের সহকারী মহাসচিব অস্কার ফার্নান্দেজ তারানকোর বাংলাদেশ সফরের পর সংলাপ-সংলাপ খেলা প্রায় ফাইনাল রাউন্ডে পৌঁছে গেছে বলে মনে হচ্ছে। তাঁর সফর, ...\n",
              "2            opinion  একটা মেয়ে চিঠি লিখেছে তার বাবাকে। ইংরেজিতে লেখা চিঠি। অনুবাদ করলে মোটামুটি দাঁড়ায় এ রকম: ‘প্রিয় আব্বু, আমি জানি না এ চিঠি কোনো দিন তোমার কাছে...\n",
              "3            opinion  গত বছরের নভেম্বরের শেষ। হেমন্তের সকাল।শীত আসি আসি করছে। আমরা কয়েকজন এসেছি গ্রামের বঞ্চিত-অবহেলিত মেয়েদের একটি স্কুল দেখতে।খুলনা শহর থেকে সামান্য দ...\n",
              "4            opinion  ঢাকা৴ আগઍট ১৫ (িবিডিনউজ)- সমান পদমযગাদার অনઘানઘ কমગকতગােদর পেদাਭিত োদওয়ার পদেਉেপ পચাথিমক িশਉা অিধদਮেরর সহকাির পચিশਉকেদর (এআই) মেধઘ োਉােভর সৃিੈ হেয়...\n",
              "...              ...                                                                                                                                                    ...\n",
              "76713  entertainment  ফারাহ খান পরিচালিত শাহরুখ খান-দীপিকা পাড়ুকোন জুটির হ্যাপি নিউ ইয়ার ছবি মুক্তি পেয়েছে গত ২৪ অক্টোবর। এরই মধ্যে বিশ্বের বিভিন্ন দেশ থেকে সাড়ে ৩০...\n",
              "76714  entertainment  রাধারমণের ১০০তম তিরোধান তিথি চলছে। সেটা মনে রেখেই এই অনুষ্ঠান। এ ধারার প্রধান বলে লালনকেই প্রথম স্মরণ করা হলো তাঁর গানের মাধ্যমে। শিল্পকলা একাডেমী...\n",
              "76715  entertainment  ‘আমার আশপাশের সবাই চাইছেন এখনই বিয়ে করে থিতু হই আমি, কিন্তু কবে থিতু হব এ বিষয়ে আমি এখনো জানি না। অবশ্য থিতু হওয়ার জন্য নিজের ওপর কোনো রকম চাপ সৃষ...\n",
              "76716  entertainment  টাইমস অফ ইন্ডিয়া জানিয়েছে, ছোট বোন কারিনা কাপুর খানের চোখে বরাবরই ভালো নাচিয়েদের তালিকার শীর্ষে ছিলেন কারিশমা। তবে তেমনভাবে আলোচিত কোনো আইটেম গানে...\n",
              "76717  entertainment                                                                           আগস্ট ১৪ (বিডিনিউজটুয়েন্টিফোরডটকম) -- বলিউডের প্রবীন অভিনেতা অনুপম খের স\\r\\n\n",
              "\n",
              "[75951 rows x 2 columns]"
            ]
          },
          "metadata": {},
          "execution_count": 7
        }
      ]
    },
    {
      "cell_type": "code",
      "metadata": {
        "colab": {
          "base_uri": "https://localhost:8080/"
        },
        "id": "0xhj_12-am7t",
        "outputId": "febf6807-f253-4b02-8d0a-5c0a2d996ba9"
      },
      "source": [
        "df['label'].value_counts()"
      ],
      "execution_count": null,
      "outputs": [
        {
          "output_type": "execute_result",
          "data": {
            "text/plain": [
              "politics         15867\n",
              "education         9646\n",
              "sports            9478\n",
              "entertainment     7913\n",
              "crime             6858\n",
              "opinion           6430\n",
              "accident          5036\n",
              "international     4121\n",
              "environment       3439\n",
              "economics         2731\n",
              "science_tech      2315\n",
              "art               2117\n",
              "Name: label, dtype: int64"
            ]
          },
          "metadata": {},
          "execution_count": 8
        }
      ]
    },
    {
      "cell_type": "code",
      "metadata": {
        "id": "6OZtL8qavgqx"
      },
      "source": [
        "def remove_nonben(txt):\n",
        "  ben = \"\".join([i for i in txt if 2432 <= ord(i) <= 2533 or 2544 <= ord(i) <= 2559 or ord(i)== 32])\n",
        "  return ben"
      ],
      "execution_count": null,
      "outputs": []
    },
    {
      "cell_type": "code",
      "metadata": {
        "colab": {
          "base_uri": "https://localhost:8080/",
          "height": 580
        },
        "id": "sR4iAGBDNET5",
        "outputId": "38a99227-afaa-4c70-e8a4-80107b4ef870"
      },
      "source": [
        "df['ben_text'] = df['text'].apply(lambda x: remove_nonben(x))\n",
        "df"
      ],
      "execution_count": null,
      "outputs": [
        {
          "output_type": "execute_result",
          "data": {
            "text/html": [
              "<div>\n",
              "<style scoped>\n",
              "    .dataframe tbody tr th:only-of-type {\n",
              "        vertical-align: middle;\n",
              "    }\n",
              "\n",
              "    .dataframe tbody tr th {\n",
              "        vertical-align: top;\n",
              "    }\n",
              "\n",
              "    .dataframe thead th {\n",
              "        text-align: right;\n",
              "    }\n",
              "</style>\n",
              "<table border=\"1\" class=\"dataframe\">\n",
              "  <thead>\n",
              "    <tr style=\"text-align: right;\">\n",
              "      <th></th>\n",
              "      <th>label</th>\n",
              "      <th>text</th>\n",
              "      <th>ben_text</th>\n",
              "    </tr>\n",
              "  </thead>\n",
              "  <tbody>\n",
              "    <tr>\n",
              "      <th>0</th>\n",
              "      <td>opinion</td>\n",
              "      <td>উচ্চ মাধ্যমিক পরীক্ষার আগের দিন মঙ্গলবার এক বিবৃতিতে মন্ত্রী বলেন, “আমি হরতাল-অবরোধ ও সন্ত্রাসী কার্যক্রম পরিচালনাকারী জোটের প্রতি আহ্বান জানাচ্ছি...</td>\n",
              "      <td>উচ্চ মাধ্যমিক পরীক্ষার আগের দিন মঙ্গলবার এক বিবৃতিতে মন্ত্রী বলেন আমি হরতালঅবরোধ ও সন্ত্রাসী কার্যক্রম পরিচালনাকারী জোটের প্রতি আহ্বান জানাচ্ছি পর...</td>\n",
              "    </tr>\n",
              "    <tr>\n",
              "      <th>1</th>\n",
              "      <td>opinion</td>\n",
              "      <td>জাতিসংঘের সহকারী মহাসচিব অস্কার ফার্নান্দেজ তারানকোর বাংলাদেশ সফরের পর সংলাপ-সংলাপ খেলা প্রায় ফাইনাল রাউন্ডে পৌঁছে গেছে বলে মনে হচ্ছে। তাঁর সফর, ...</td>\n",
              "      <td>জাতিসংঘের সহকারী মহাসচিব অস্কার ফার্নান্দেজ তারানকোর বাংলাদেশ সফরের পর সংলাপসংলাপ খেলা প্রায় ফাইনাল রাউন্ডে পৌঁছে গেছে বলে মনে হচ্ছে তাঁর সফর প্র...</td>\n",
              "    </tr>\n",
              "    <tr>\n",
              "      <th>2</th>\n",
              "      <td>opinion</td>\n",
              "      <td>একটা মেয়ে চিঠি লিখেছে তার বাবাকে। ইংরেজিতে লেখা চিঠি। অনুবাদ করলে মোটামুটি দাঁড়ায় এ রকম: ‘প্রিয় আব্বু, আমি জানি না এ চিঠি কোনো দিন তোমার কাছে...</td>\n",
              "      <td>একটা মেয়ে চিঠি লিখেছে তার বাবাকে ইংরেজিতে লেখা চিঠি অনুবাদ করলে মোটামুটি দাঁড়ায় এ রকম প্রিয় আব্বু আমি জানি না এ চিঠি কোনো দিন তোমার কাছে পৌঁ...</td>\n",
              "    </tr>\n",
              "    <tr>\n",
              "      <th>3</th>\n",
              "      <td>opinion</td>\n",
              "      <td>গত বছরের নভেম্বরের শেষ। হেমন্তের সকাল।শীত আসি আসি করছে। আমরা কয়েকজন এসেছি গ্রামের বঞ্চিত-অবহেলিত মেয়েদের একটি স্কুল দেখতে।খুলনা শহর থেকে সামান্য দ...</td>\n",
              "      <td>গত বছরের নভেম্বরের শেষ হেমন্তের সকালশীত আসি আসি করছে আমরা কয়েকজন এসেছি গ্রামের বঞ্চিতঅবহেলিত মেয়েদের একটি স্কুল দেখতেখুলনা শহর থেকে সামান্য দূরে র...</td>\n",
              "    </tr>\n",
              "    <tr>\n",
              "      <th>4</th>\n",
              "      <td>opinion</td>\n",
              "      <td>ঢাকা৴ আগઍট ১৫ (িবিডিনউজ)- সমান পদমযગাদার অনઘানઘ কমગকতગােদর পেদাਭিত োদওয়ার পদেਉেপ পચাথিমক িশਉা অিধদਮেরর সহকাির পચিশਉকেদর (এআই) মেধઘ োਉােভর সৃিੈ হেয়...</td>\n",
              "      <td>ঢাকা৴ আগট  িবিডিনউজ সমান পদমযাদার অনান কমকতােদর পেদািত োদওয়ার পদেেপ পাথিমক িশা অিধদেরর সহকাির পিশকেদর এআই মেধ োােভর সৃি হেয়েছ৷ পাথিমক িশা অিধদর সূ...</td>\n",
              "    </tr>\n",
              "    <tr>\n",
              "      <th>...</th>\n",
              "      <td>...</td>\n",
              "      <td>...</td>\n",
              "      <td>...</td>\n",
              "    </tr>\n",
              "    <tr>\n",
              "      <th>76713</th>\n",
              "      <td>entertainment</td>\n",
              "      <td>ফারাহ খান পরিচালিত শাহরুখ খান-দীপিকা পাড়ুকোন জুটির হ্যাপি নিউ ইয়ার ছবি মুক্তি পেয়েছে গত ২৪ অক্টোবর। এরই মধ্যে বিশ্বের বিভিন্ন দেশ থেকে সাড়ে ৩০...</td>\n",
              "      <td>ফারাহ খান পরিচালিত শাহরুখ খানদীপিকা পাড়ুকোন জুটির হ্যাপি নিউ ইয়ার ছবি মুক্তি পেয়েছে গত  অক্টোবর এরই মধ্যে বিশ্বের বিভিন্ন দেশ থেকে সাড়ে  কোটি ...</td>\n",
              "    </tr>\n",
              "    <tr>\n",
              "      <th>76714</th>\n",
              "      <td>entertainment</td>\n",
              "      <td>রাধারমণের ১০০তম তিরোধান তিথি চলছে। সেটা মনে রেখেই এই অনুষ্ঠান। এ ধারার প্রধান বলে লালনকেই প্রথম স্মরণ করা হলো তাঁর গানের মাধ্যমে। শিল্পকলা একাডেমী...</td>\n",
              "      <td>রাধারমণের তম তিরোধান তিথি চলছে সেটা মনে রেখেই এই অনুষ্ঠান এ ধারার প্রধান বলে লালনকেই প্রথম স্মরণ করা হলো তাঁর গানের মাধ্যমে শিল্পকলা একাডেমীর সংগী...</td>\n",
              "    </tr>\n",
              "    <tr>\n",
              "      <th>76715</th>\n",
              "      <td>entertainment</td>\n",
              "      <td>‘আমার আশপাশের সবাই চাইছেন এখনই বিয়ে করে থিতু হই আমি, কিন্তু কবে থিতু হব এ বিষয়ে আমি এখনো জানি না। অবশ্য থিতু হওয়ার জন্য নিজের ওপর কোনো রকম চাপ সৃষ...</td>\n",
              "      <td>আমার আশপাশের সবাই চাইছেন এখনই বিয়ে করে থিতু হই আমি কিন্তু কবে থিতু হব এ বিষয়ে আমি এখনো জানি না অবশ্য থিতু হওয়ার জন্য নিজের ওপর কোনো রকম চাপ সৃষ্টি...</td>\n",
              "    </tr>\n",
              "    <tr>\n",
              "      <th>76716</th>\n",
              "      <td>entertainment</td>\n",
              "      <td>টাইমস অফ ইন্ডিয়া জানিয়েছে, ছোট বোন কারিনা কাপুর খানের চোখে বরাবরই ভালো নাচিয়েদের তালিকার শীর্ষে ছিলেন কারিশমা। তবে তেমনভাবে আলোচিত কোনো আইটেম গানে...</td>\n",
              "      <td>টাইমস অফ ইন্ডিয়া জানিয়েছে ছোট বোন কারিনা কাপুর খানের চোখে বরাবরই ভালো নাচিয়েদের তালিকার শীর্ষে ছিলেন কারিশমা তবে তেমনভাবে আলোচিত কোনো আইটেম গানে ক...</td>\n",
              "    </tr>\n",
              "    <tr>\n",
              "      <th>76717</th>\n",
              "      <td>entertainment</td>\n",
              "      <td>আগস্ট ১৪ (বিডিনিউজটুয়েন্টিফোরডটকম) -- বলিউডের প্রবীন অভিনেতা অনুপম খের স\\r\\n</td>\n",
              "      <td>আগস্ট  বিডিনিউজটুয়েন্টিফোরডটকম  বলিউডের প্রবীন অভিনেতা অনুপম খের স</td>\n",
              "    </tr>\n",
              "  </tbody>\n",
              "</table>\n",
              "<p>75951 rows × 3 columns</p>\n",
              "</div>"
            ],
            "text/plain": [
              "               label  ...                                                                                                                                               ben_text\n",
              "0            opinion  ...  উচ্চ মাধ্যমিক পরীক্ষার আগের দিন মঙ্গলবার এক বিবৃতিতে মন্ত্রী বলেন আমি হরতালঅবরোধ ও সন্ত্রাসী কার্যক্রম পরিচালনাকারী জোটের প্রতি আহ্বান জানাচ্ছি পর...\n",
              "1            opinion  ...  জাতিসংঘের সহকারী মহাসচিব অস্কার ফার্নান্দেজ তারানকোর বাংলাদেশ সফরের পর সংলাপসংলাপ খেলা প্রায় ফাইনাল রাউন্ডে পৌঁছে গেছে বলে মনে হচ্ছে তাঁর সফর প্র...\n",
              "2            opinion  ...  একটা মেয়ে চিঠি লিখেছে তার বাবাকে ইংরেজিতে লেখা চিঠি অনুবাদ করলে মোটামুটি দাঁড়ায় এ রকম প্রিয় আব্বু আমি জানি না এ চিঠি কোনো দিন তোমার কাছে পৌঁ...\n",
              "3            opinion  ...  গত বছরের নভেম্বরের শেষ হেমন্তের সকালশীত আসি আসি করছে আমরা কয়েকজন এসেছি গ্রামের বঞ্চিতঅবহেলিত মেয়েদের একটি স্কুল দেখতেখুলনা শহর থেকে সামান্য দূরে র...\n",
              "4            opinion  ...  ঢাকা৴ আগট  িবিডিনউজ সমান পদমযাদার অনান কমকতােদর পেদািত োদওয়ার পদেেপ পাথিমক িশা অিধদেরর সহকাির পিশকেদর এআই মেধ োােভর সৃি হেয়েছ৷ পাথিমক িশা অিধদর সূ...\n",
              "...              ...  ...                                                                                                                                                    ...\n",
              "76713  entertainment  ...  ফারাহ খান পরিচালিত শাহরুখ খানদীপিকা পাড়ুকোন জুটির হ্যাপি নিউ ইয়ার ছবি মুক্তি পেয়েছে গত  অক্টোবর এরই মধ্যে বিশ্বের বিভিন্ন দেশ থেকে সাড়ে  কোটি ...\n",
              "76714  entertainment  ...  রাধারমণের তম তিরোধান তিথি চলছে সেটা মনে রেখেই এই অনুষ্ঠান এ ধারার প্রধান বলে লালনকেই প্রথম স্মরণ করা হলো তাঁর গানের মাধ্যমে শিল্পকলা একাডেমীর সংগী...\n",
              "76715  entertainment  ...  আমার আশপাশের সবাই চাইছেন এখনই বিয়ে করে থিতু হই আমি কিন্তু কবে থিতু হব এ বিষয়ে আমি এখনো জানি না অবশ্য থিতু হওয়ার জন্য নিজের ওপর কোনো রকম চাপ সৃষ্টি...\n",
              "76716  entertainment  ...  টাইমস অফ ইন্ডিয়া জানিয়েছে ছোট বোন কারিনা কাপুর খানের চোখে বরাবরই ভালো নাচিয়েদের তালিকার শীর্ষে ছিলেন কারিশমা তবে তেমনভাবে আলোচিত কোনো আইটেম গানে ক...\n",
              "76717  entertainment  ...                                                                                     আগস্ট  বিডিনিউজটুয়েন্টিফোরডটকম  বলিউডের প্রবীন অভিনেতা অনুপম খের স\n",
              "\n",
              "[75951 rows x 3 columns]"
            ]
          },
          "metadata": {},
          "execution_count": 10
        }
      ]
    },
    {
      "cell_type": "code",
      "metadata": {
        "id": "jSuDrTLJLB4z",
        "colab": {
          "base_uri": "https://localhost:8080/"
        },
        "outputId": "974d2b89-b8e2-4572-81c0-88b582cc722e"
      },
      "source": [
        "!pip install -U bnlp_toolkit\n",
        "!pip install python-Levenshtein"
      ],
      "execution_count": null,
      "outputs": [
        {
          "output_type": "stream",
          "name": "stdout",
          "text": [
            "Collecting bnlp_toolkit\n",
            "  Downloading bnlp_toolkit-3.1.2-py3-none-any.whl (17 kB)\n",
            "Collecting sklearn-crfsuite\n",
            "  Downloading sklearn_crfsuite-0.3.6-py2.py3-none-any.whl (12 kB)\n",
            "Collecting sentencepiece\n",
            "  Downloading sentencepiece-0.1.96-cp37-cp37m-manylinux_2_17_x86_64.manylinux2014_x86_64.whl (1.2 MB)\n",
            "\u001b[K     |████████████████████████████████| 1.2 MB 9.1 MB/s \n",
            "\u001b[?25hRequirement already satisfied: nltk in /usr/local/lib/python3.7/dist-packages (from bnlp_toolkit) (3.2.5)\n",
            "Requirement already satisfied: scipy in /usr/local/lib/python3.7/dist-packages (from bnlp_toolkit) (1.4.1)\n",
            "Requirement already satisfied: wasabi in /usr/local/lib/python3.7/dist-packages (from bnlp_toolkit) (0.8.2)\n",
            "Requirement already satisfied: numpy in /usr/local/lib/python3.7/dist-packages (from bnlp_toolkit) (1.19.5)\n",
            "Collecting gensim==4.0.1\n",
            "  Downloading gensim-4.0.1-cp37-cp37m-manylinux1_x86_64.whl (23.9 MB)\n",
            "\u001b[K     |████████████████████████████████| 23.9 MB 1.2 MB/s \n",
            "\u001b[?25hRequirement already satisfied: smart-open>=1.8.1 in /usr/local/lib/python3.7/dist-packages (from gensim==4.0.1->bnlp_toolkit) (5.2.1)\n",
            "Requirement already satisfied: six in /usr/local/lib/python3.7/dist-packages (from nltk->bnlp_toolkit) (1.15.0)\n",
            "Requirement already satisfied: tqdm>=2.0 in /usr/local/lib/python3.7/dist-packages (from sklearn-crfsuite->bnlp_toolkit) (4.62.3)\n",
            "Requirement already satisfied: tabulate in /usr/local/lib/python3.7/dist-packages (from sklearn-crfsuite->bnlp_toolkit) (0.8.9)\n",
            "Collecting python-crfsuite>=0.8.3\n",
            "  Downloading python_crfsuite-0.9.7-cp37-cp37m-manylinux1_x86_64.whl (743 kB)\n",
            "\u001b[K     |████████████████████████████████| 743 kB 46.7 MB/s \n",
            "\u001b[?25hInstalling collected packages: python-crfsuite, sklearn-crfsuite, sentencepiece, gensim, bnlp-toolkit\n",
            "  Attempting uninstall: gensim\n",
            "    Found existing installation: gensim 3.6.0\n",
            "    Uninstalling gensim-3.6.0:\n",
            "      Successfully uninstalled gensim-3.6.0\n",
            "Successfully installed bnlp-toolkit-3.1.2 gensim-4.0.1 python-crfsuite-0.9.7 sentencepiece-0.1.96 sklearn-crfsuite-0.3.6\n",
            "Collecting python-Levenshtein\n",
            "  Downloading python-Levenshtein-0.12.2.tar.gz (50 kB)\n",
            "\u001b[K     |████████████████████████████████| 50 kB 3.5 MB/s \n",
            "\u001b[?25hRequirement already satisfied: setuptools in /usr/local/lib/python3.7/dist-packages (from python-Levenshtein) (57.4.0)\n",
            "Building wheels for collected packages: python-Levenshtein\n",
            "  Building wheel for python-Levenshtein (setup.py) ... \u001b[?25l\u001b[?25hdone\n",
            "  Created wheel for python-Levenshtein: filename=python_Levenshtein-0.12.2-cp37-cp37m-linux_x86_64.whl size=149858 sha256=afb368813a42cf82684b3ed59c40a147034095f00dabbda78a8a49e4ea529ea8\n",
            "  Stored in directory: /root/.cache/pip/wheels/05/5f/ca/7c4367734892581bb5ff896f15027a932c551080b2abd3e00d\n",
            "Successfully built python-Levenshtein\n",
            "Installing collected packages: python-Levenshtein\n",
            "Successfully installed python-Levenshtein-0.12.2\n"
          ]
        }
      ]
    },
    {
      "cell_type": "code",
      "metadata": {
        "id": "qrC8TLm0VUdO",
        "colab": {
          "base_uri": "https://localhost:8080/"
        },
        "outputId": "f50e6a27-5bec-49a6-9e06-265786a78e96"
      },
      "source": [
        "from bnlp import NLTKTokenizer\n",
        "bnltk = NLTKTokenizer()"
      ],
      "execution_count": null,
      "outputs": [
        {
          "output_type": "stream",
          "name": "stdout",
          "text": [
            "punkt not found. downloading...\n",
            "[nltk_data] Downloading package punkt to /root/nltk_data...\n",
            "[nltk_data]   Unzipping tokenizers/punkt.zip.\n"
          ]
        }
      ]
    },
    {
      "cell_type": "code",
      "metadata": {
        "colab": {
          "base_uri": "https://localhost:8080/",
          "height": 754
        },
        "id": "HsfLc3GmVY3Z",
        "outputId": "a6812a63-05cf-487e-e36c-4a55dafcdf9e"
      },
      "source": [
        "def tokenize(txt):\n",
        "  tokens = bnltk.word_tokenize(txt)\n",
        "  return tokens\n",
        "df['ben_token'] = df['ben_text'].apply(lambda x: tokenize(x))\n",
        "df"
      ],
      "execution_count": null,
      "outputs": [
        {
          "output_type": "execute_result",
          "data": {
            "text/html": [
              "<div>\n",
              "<style scoped>\n",
              "    .dataframe tbody tr th:only-of-type {\n",
              "        vertical-align: middle;\n",
              "    }\n",
              "\n",
              "    .dataframe tbody tr th {\n",
              "        vertical-align: top;\n",
              "    }\n",
              "\n",
              "    .dataframe thead th {\n",
              "        text-align: right;\n",
              "    }\n",
              "</style>\n",
              "<table border=\"1\" class=\"dataframe\">\n",
              "  <thead>\n",
              "    <tr style=\"text-align: right;\">\n",
              "      <th></th>\n",
              "      <th>label</th>\n",
              "      <th>text</th>\n",
              "      <th>ben_text</th>\n",
              "      <th>ben_token</th>\n",
              "    </tr>\n",
              "  </thead>\n",
              "  <tbody>\n",
              "    <tr>\n",
              "      <th>0</th>\n",
              "      <td>opinion</td>\n",
              "      <td>উচ্চ মাধ্যমিক পরীক্ষার আগের দিন মঙ্গলবার এক বিবৃতিতে মন্ত্রী বলেন, “আমি হরতাল-অবরোধ ও সন্ত্রাসী কার্যক্রম পরিচালনাকারী জোটের প্রতি আহ্বান জানাচ্ছি...</td>\n",
              "      <td>উচ্চ মাধ্যমিক পরীক্ষার আগের দিন মঙ্গলবার এক বিবৃতিতে মন্ত্রী বলেন আমি হরতালঅবরোধ ও সন্ত্রাসী কার্যক্রম পরিচালনাকারী জোটের প্রতি আহ্বান জানাচ্ছি পর...</td>\n",
              "      <td>[উচ্চ, মাধ্যমিক, পরীক্ষার, আগের, দিন, মঙ্গলবার, এক, বিবৃতিতে, মন্ত্রী, বলেন, আমি, হরতালঅবরোধ, ও, সন্ত্রাসী, কার্যক্রম, পরিচালনাকারী, জোটের, প্রতি,...</td>\n",
              "    </tr>\n",
              "    <tr>\n",
              "      <th>1</th>\n",
              "      <td>opinion</td>\n",
              "      <td>জাতিসংঘের সহকারী মহাসচিব অস্কার ফার্নান্দেজ তারানকোর বাংলাদেশ সফরের পর সংলাপ-সংলাপ খেলা প্রায় ফাইনাল রাউন্ডে পৌঁছে গেছে বলে মনে হচ্ছে। তাঁর সফর, ...</td>\n",
              "      <td>জাতিসংঘের সহকারী মহাসচিব অস্কার ফার্নান্দেজ তারানকোর বাংলাদেশ সফরের পর সংলাপসংলাপ খেলা প্রায় ফাইনাল রাউন্ডে পৌঁছে গেছে বলে মনে হচ্ছে তাঁর সফর প্র...</td>\n",
              "      <td>[জাতিসংঘের, সহকারী, মহাসচিব, অস্কার, ফার্নান্দেজ, তারানকোর, বাংলাদেশ, সফরের, পর, সংলাপসংলাপ, খেলা, প্রায়, ফাইনাল, রাউন্ডে, পৌঁছে, গেছে, বলে, মনে,...</td>\n",
              "    </tr>\n",
              "    <tr>\n",
              "      <th>2</th>\n",
              "      <td>opinion</td>\n",
              "      <td>একটা মেয়ে চিঠি লিখেছে তার বাবাকে। ইংরেজিতে লেখা চিঠি। অনুবাদ করলে মোটামুটি দাঁড়ায় এ রকম: ‘প্রিয় আব্বু, আমি জানি না এ চিঠি কোনো দিন তোমার কাছে...</td>\n",
              "      <td>একটা মেয়ে চিঠি লিখেছে তার বাবাকে ইংরেজিতে লেখা চিঠি অনুবাদ করলে মোটামুটি দাঁড়ায় এ রকম প্রিয় আব্বু আমি জানি না এ চিঠি কোনো দিন তোমার কাছে পৌঁ...</td>\n",
              "      <td>[একটা, মেয়ে, চিঠি, লিখেছে, তার, বাবাকে, ইংরেজিতে, লেখা, চিঠি, অনুবাদ, করলে, মোটামুটি, দাঁড়ায়, এ, রকম, প্রিয়, আব্বু, আমি, জানি, না, এ, চিঠি, কোন...</td>\n",
              "    </tr>\n",
              "    <tr>\n",
              "      <th>3</th>\n",
              "      <td>opinion</td>\n",
              "      <td>গত বছরের নভেম্বরের শেষ। হেমন্তের সকাল।শীত আসি আসি করছে। আমরা কয়েকজন এসেছি গ্রামের বঞ্চিত-অবহেলিত মেয়েদের একটি স্কুল দেখতে।খুলনা শহর থেকে সামান্য দ...</td>\n",
              "      <td>গত বছরের নভেম্বরের শেষ হেমন্তের সকালশীত আসি আসি করছে আমরা কয়েকজন এসেছি গ্রামের বঞ্চিতঅবহেলিত মেয়েদের একটি স্কুল দেখতেখুলনা শহর থেকে সামান্য দূরে র...</td>\n",
              "      <td>[গত, বছরের, নভেম্বরের, শেষ, হেমন্তের, সকালশীত, আসি, আসি, করছে, আমরা, কয়েকজন, এসেছি, গ্রামের, বঞ্চিতঅবহেলিত, মেয়েদের, একটি, স্কুল, দেখতেখুলনা, শহর,...</td>\n",
              "    </tr>\n",
              "    <tr>\n",
              "      <th>4</th>\n",
              "      <td>opinion</td>\n",
              "      <td>ঢাকা৴ আগઍট ১৫ (িবিডিনউজ)- সমান পদমযગাদার অনઘানઘ কমગকতગােদর পেদাਭিত োদওয়ার পদেਉেপ পચাথিমক িশਉা অিধদਮেরর সহকাির পચিশਉকেদর (এআই) মেধઘ োਉােভর সৃিੈ হেয়...</td>\n",
              "      <td>ঢাকা৴ আগট  িবিডিনউজ সমান পদমযাদার অনান কমকতােদর পেদািত োদওয়ার পদেেপ পাথিমক িশা অিধদেরর সহকাির পিশকেদর এআই মেধ োােভর সৃি হেয়েছ৷ পাথিমক িশা অিধদর সূ...</td>\n",
              "      <td>[ঢাকা৴, আগট, িবিডিনউজ, সমান, পদমযাদার, অনান, কমকতােদর, পেদািত, োদওয়ার, পদেেপ, পাথিমক, িশা, অিধদেরর, সহকাির, পিশকেদর, এআই, মেধ, োােভর, সৃি, হেয়েছ৷,...</td>\n",
              "    </tr>\n",
              "    <tr>\n",
              "      <th>...</th>\n",
              "      <td>...</td>\n",
              "      <td>...</td>\n",
              "      <td>...</td>\n",
              "      <td>...</td>\n",
              "    </tr>\n",
              "    <tr>\n",
              "      <th>76713</th>\n",
              "      <td>entertainment</td>\n",
              "      <td>ফারাহ খান পরিচালিত শাহরুখ খান-দীপিকা পাড়ুকোন জুটির হ্যাপি নিউ ইয়ার ছবি মুক্তি পেয়েছে গত ২৪ অক্টোবর। এরই মধ্যে বিশ্বের বিভিন্ন দেশ থেকে সাড়ে ৩০...</td>\n",
              "      <td>ফারাহ খান পরিচালিত শাহরুখ খানদীপিকা পাড়ুকোন জুটির হ্যাপি নিউ ইয়ার ছবি মুক্তি পেয়েছে গত  অক্টোবর এরই মধ্যে বিশ্বের বিভিন্ন দেশ থেকে সাড়ে  কোটি ...</td>\n",
              "      <td>[ফারাহ, খান, পরিচালিত, শাহরুখ, খানদীপিকা, পাড়ুকোন, জুটির, হ্যাপি, নিউ, ইয়ার, ছবি, মুক্তি, পেয়েছে, গত, অক্টোবর, এরই, মধ্যে, বিশ্বের, বিভিন্ন, দে...</td>\n",
              "    </tr>\n",
              "    <tr>\n",
              "      <th>76714</th>\n",
              "      <td>entertainment</td>\n",
              "      <td>রাধারমণের ১০০তম তিরোধান তিথি চলছে। সেটা মনে রেখেই এই অনুষ্ঠান। এ ধারার প্রধান বলে লালনকেই প্রথম স্মরণ করা হলো তাঁর গানের মাধ্যমে। শিল্পকলা একাডেমী...</td>\n",
              "      <td>রাধারমণের তম তিরোধান তিথি চলছে সেটা মনে রেখেই এই অনুষ্ঠান এ ধারার প্রধান বলে লালনকেই প্রথম স্মরণ করা হলো তাঁর গানের মাধ্যমে শিল্পকলা একাডেমীর সংগী...</td>\n",
              "      <td>[রাধারমণের, তম, তিরোধান, তিথি, চলছে, সেটা, মনে, রেখেই, এই, অনুষ্ঠান, এ, ধারার, প্রধান, বলে, লালনকেই, প্রথম, স্মরণ, করা, হলো, তাঁর, গানের, মাধ্যমে,...</td>\n",
              "    </tr>\n",
              "    <tr>\n",
              "      <th>76715</th>\n",
              "      <td>entertainment</td>\n",
              "      <td>‘আমার আশপাশের সবাই চাইছেন এখনই বিয়ে করে থিতু হই আমি, কিন্তু কবে থিতু হব এ বিষয়ে আমি এখনো জানি না। অবশ্য থিতু হওয়ার জন্য নিজের ওপর কোনো রকম চাপ সৃষ...</td>\n",
              "      <td>আমার আশপাশের সবাই চাইছেন এখনই বিয়ে করে থিতু হই আমি কিন্তু কবে থিতু হব এ বিষয়ে আমি এখনো জানি না অবশ্য থিতু হওয়ার জন্য নিজের ওপর কোনো রকম চাপ সৃষ্টি...</td>\n",
              "      <td>[আমার, আশপাশের, সবাই, চাইছেন, এখনই, বিয়ে, করে, থিতু, হই, আমি, কিন্তু, কবে, থিতু, হব, এ, বিষয়ে, আমি, এখনো, জানি, না, অবশ্য, থিতু, হওয়ার, জন্য, নিজে...</td>\n",
              "    </tr>\n",
              "    <tr>\n",
              "      <th>76716</th>\n",
              "      <td>entertainment</td>\n",
              "      <td>টাইমস অফ ইন্ডিয়া জানিয়েছে, ছোট বোন কারিনা কাপুর খানের চোখে বরাবরই ভালো নাচিয়েদের তালিকার শীর্ষে ছিলেন কারিশমা। তবে তেমনভাবে আলোচিত কোনো আইটেম গানে...</td>\n",
              "      <td>টাইমস অফ ইন্ডিয়া জানিয়েছে ছোট বোন কারিনা কাপুর খানের চোখে বরাবরই ভালো নাচিয়েদের তালিকার শীর্ষে ছিলেন কারিশমা তবে তেমনভাবে আলোচিত কোনো আইটেম গানে ক...</td>\n",
              "      <td>[টাইমস, অফ, ইন্ডিয়া, জানিয়েছে, ছোট, বোন, কারিনা, কাপুর, খানের, চোখে, বরাবরই, ভালো, নাচিয়েদের, তালিকার, শীর্ষে, ছিলেন, কারিশমা, তবে, তেমনভাবে, আলোচ...</td>\n",
              "    </tr>\n",
              "    <tr>\n",
              "      <th>76717</th>\n",
              "      <td>entertainment</td>\n",
              "      <td>আগস্ট ১৪ (বিডিনিউজটুয়েন্টিফোরডটকম) -- বলিউডের প্রবীন অভিনেতা অনুপম খের স\\r\\n</td>\n",
              "      <td>আগস্ট  বিডিনিউজটুয়েন্টিফোরডটকম  বলিউডের প্রবীন অভিনেতা অনুপম খের স</td>\n",
              "      <td>[আগস্ট, বিডিনিউজটুয়েন্টিফোরডটকম, বলিউডের, প্রবীন, অভিনেতা, অনুপম, খের, স]</td>\n",
              "    </tr>\n",
              "  </tbody>\n",
              "</table>\n",
              "<p>75951 rows × 4 columns</p>\n",
              "</div>"
            ],
            "text/plain": [
              "               label  ...                                                                                                                                              ben_token\n",
              "0            opinion  ...  [উচ্চ, মাধ্যমিক, পরীক্ষার, আগের, দিন, মঙ্গলবার, এক, বিবৃতিতে, মন্ত্রী, বলেন, আমি, হরতালঅবরোধ, ও, সন্ত্রাসী, কার্যক্রম, পরিচালনাকারী, জোটের, প্রতি,...\n",
              "1            opinion  ...  [জাতিসংঘের, সহকারী, মহাসচিব, অস্কার, ফার্নান্দেজ, তারানকোর, বাংলাদেশ, সফরের, পর, সংলাপসংলাপ, খেলা, প্রায়, ফাইনাল, রাউন্ডে, পৌঁছে, গেছে, বলে, মনে,...\n",
              "2            opinion  ...  [একটা, মেয়ে, চিঠি, লিখেছে, তার, বাবাকে, ইংরেজিতে, লেখা, চিঠি, অনুবাদ, করলে, মোটামুটি, দাঁড়ায়, এ, রকম, প্রিয়, আব্বু, আমি, জানি, না, এ, চিঠি, কোন...\n",
              "3            opinion  ...  [গত, বছরের, নভেম্বরের, শেষ, হেমন্তের, সকালশীত, আসি, আসি, করছে, আমরা, কয়েকজন, এসেছি, গ্রামের, বঞ্চিতঅবহেলিত, মেয়েদের, একটি, স্কুল, দেখতেখুলনা, শহর,...\n",
              "4            opinion  ...  [ঢাকা৴, আগট, িবিডিনউজ, সমান, পদমযাদার, অনান, কমকতােদর, পেদািত, োদওয়ার, পদেেপ, পাথিমক, িশা, অিধদেরর, সহকাির, পিশকেদর, এআই, মেধ, োােভর, সৃি, হেয়েছ৷,...\n",
              "...              ...  ...                                                                                                                                                    ...\n",
              "76713  entertainment  ...  [ফারাহ, খান, পরিচালিত, শাহরুখ, খানদীপিকা, পাড়ুকোন, জুটির, হ্যাপি, নিউ, ইয়ার, ছবি, মুক্তি, পেয়েছে, গত, অক্টোবর, এরই, মধ্যে, বিশ্বের, বিভিন্ন, দে...\n",
              "76714  entertainment  ...  [রাধারমণের, তম, তিরোধান, তিথি, চলছে, সেটা, মনে, রেখেই, এই, অনুষ্ঠান, এ, ধারার, প্রধান, বলে, লালনকেই, প্রথম, স্মরণ, করা, হলো, তাঁর, গানের, মাধ্যমে,...\n",
              "76715  entertainment  ...  [আমার, আশপাশের, সবাই, চাইছেন, এখনই, বিয়ে, করে, থিতু, হই, আমি, কিন্তু, কবে, থিতু, হব, এ, বিষয়ে, আমি, এখনো, জানি, না, অবশ্য, থিতু, হওয়ার, জন্য, নিজে...\n",
              "76716  entertainment  ...  [টাইমস, অফ, ইন্ডিয়া, জানিয়েছে, ছোট, বোন, কারিনা, কাপুর, খানের, চোখে, বরাবরই, ভালো, নাচিয়েদের, তালিকার, শীর্ষে, ছিলেন, কারিশমা, তবে, তেমনভাবে, আলোচ...\n",
              "76717  entertainment  ...                                                                              [আগস্ট, বিডিনিউজটুয়েন্টিফোরডটকম, বলিউডের, প্রবীন, অভিনেতা, অনুপম, খের, স]\n",
              "\n",
              "[75951 rows x 4 columns]"
            ]
          },
          "metadata": {},
          "execution_count": 13
        }
      ]
    },
    {
      "cell_type": "code",
      "metadata": {
        "colab": {
          "base_uri": "https://localhost:8080/"
        },
        "id": "Hk9IY_OOCiOU",
        "outputId": "1b745940-c876-4a8c-d450-0c7de7198fc1"
      },
      "source": [
        "from bnlp.corpus import stopwords\n",
        "print(stopwords)"
      ],
      "execution_count": null,
      "outputs": [
        {
          "output_type": "stream",
          "name": "stdout",
          "text": [
            "['অতএব', 'অথচ', 'অথবা', 'অনুযায়ী', 'অনেক', 'অনেকে', 'অনেকেই', 'অন্তত', 'অন্য', 'অবধি', 'অবশ্য', 'অর্থাত', 'আই', 'আগামী', 'আগে', 'আগেই', 'আছে', 'আজ', 'আদ্যভাগে', 'আপনার', 'আপনি', 'আবার', 'আমরা', 'আমাকে', 'আমাদের', 'আমার', 'আমি', 'আর', 'আরও', 'ই', 'ইত্যাদি', 'ইহা', 'উচিত', 'উত্তর', 'উনি', 'উপর', 'উপরে', 'এ', 'এঁদের', 'এঁরা', 'এই', 'একই', 'একটি', 'একবার', 'একে', 'এক্', 'এখন', 'এখনও', 'এখানে', 'এখানেই', 'এটা', 'এটাই', 'এটি', 'এত', 'এতটাই', 'এতে', 'এদের', 'এব', 'এবং', 'এবার', 'এমন', 'এমনকী', 'এমনি', 'এর', 'এরা', 'এল', 'এস', 'এসে', 'ঐ', 'ও', 'ওঁদের', 'ওঁর', 'ওঁরা', 'ওই', 'ওকে', 'ওখানে', 'ওদের', 'ওর', 'ওরা', 'কখনও', 'কত', 'কবে', 'কমনে', 'কয়েক', 'কয়েকটি', 'করছে', 'করছেন', 'করতে', 'করবে', 'করবেন', 'করলে', 'করলেন', 'করা', 'করাই', 'করায়', 'করার', 'করি', 'করিতে', 'করিয়া', 'করিয়ে', 'করে', 'করেই', 'করেছিলেন', 'করেছে', 'করেছেন', 'করেন', 'কাউকে', 'কাছ', 'কাছে', 'কাজ', 'কাজে', 'কারও', 'কারণ', 'কি', 'কিংবা', 'কিছু', 'কিছুই', 'কিন্তু', 'কী', 'কে', 'কেউ', 'কেউই', 'কেখা', 'কেন', 'কোটি', 'কোন', 'কোনও', 'কোনো', 'ক্ষেত্রে', 'কয়েক', 'খুব', 'গিয়ে', 'গিয়েছে', 'গিয়ে', 'গুলি', 'গেছে', 'গেল', 'গেলে', 'গোটা', 'চলে', 'চান', 'চায়', 'চার', 'চালু', 'চেয়ে', 'চেষ্টা', 'ছাড়া', 'ছাড়াও', 'ছিল', 'ছিলেন', 'জন', 'জনকে', 'জনের', 'জন্য', 'জন্যওজে', 'জানতে', 'জানা', 'জানানো', 'জানায়', 'জানিয়ে', 'জানিয়েছে', 'জে', 'জ্নজন', 'টি', 'ঠিক', 'তখন', 'তত', 'তথা', 'তবু', 'তবে', 'তা', 'তাঁকে', 'তাঁদের', 'তাঁর', 'তাঁরা', 'তাঁাহারা', 'তাই', 'তাও', 'তাকে', 'তাতে', 'তাদের', 'তার', 'তারপর', 'তারা', 'তারৈ', 'তাহলে', 'তাহা', 'তাহাতে', 'তাহার', 'তিনঐ', 'তিনি', 'তিনিও', 'তুমি', 'তুলে', 'তেমন', 'তো', 'তোমার', 'থাকবে', 'থাকবেন', 'থাকা', 'থাকায়', 'থাকে', 'থাকেন', 'থেকে', 'থেকেই', 'থেকেও', 'দিকে', 'দিতে', 'দিন', 'দিয়ে', 'দিয়েছে', 'দিয়েছেন', 'দিলেন', 'দু', 'দুই', 'দুটি', 'দুটো', 'দেওয়া', 'দেওয়ার', 'দেওয়া', 'দেখতে', 'দেখা', 'দেখে', 'দেন', 'দেয়', 'দ্বারা', 'ধরা', 'ধরে', 'ধামার', 'নতুন', 'নয়', 'না', 'নাই', 'নাকি', 'নাগাদ', 'নানা', 'নিজে', 'নিজেই', 'নিজেদের', 'নিজের', 'নিতে', 'নিয়ে', 'নিয়ে', 'নেই', 'নেওয়া', 'নেওয়ার', 'নেওয়া', 'নয়', 'পক্ষে', 'পর', 'পরে', 'পরেই', 'পরেও', 'পর্যন্ত', 'পাওয়া', 'পাচ', 'পারি', 'পারে', 'পারেন', 'পি', 'পেয়ে', 'পেয়্র্', 'প্রতি', 'প্রথম', 'প্রভৃতি', 'প্রযন্ত', 'প্রাথমিক', 'প্রায়', 'প্রায়', 'ফলে', 'ফিরে', 'ফের', 'বক্তব্য', 'বদলে', 'বন', 'বরং', 'বলতে', 'বলল', 'বললেন', 'বলা', 'বলে', 'বলেছেন', 'বলেন', 'বসে', 'বহু', 'বা', 'বাদে', 'বার', 'বি', 'বিনা', 'বিভিন্ন', 'বিশেষ', 'বিষয়টি', 'বেশ', 'বেশি', 'ব্যবহার', 'ব্যাপারে', 'ভাবে', 'ভাবেই', 'মতো', 'মতোই', 'মধ্যভাগে', 'মধ্যে', 'মধ্যেই', 'মধ্যেও', 'মনে', 'মাত্র', 'মাধ্যমে', 'মোট', 'মোটেই', 'যখন', 'যত', 'যতটা', 'যথেষ্ট', 'যদি', 'যদিও', 'যা', 'যাঁর', 'যাঁরা', 'যাওয়া', 'যাওয়ার', 'যাওয়া', 'যাকে', 'যাচ্ছে', 'যাতে', 'যাদের', 'যান', 'যাবে', 'যায়', 'যার', 'যারা', 'যিনি', 'যে', 'যেখানে', 'যেতে', 'যেন', 'যেমন', 'র', 'রকম', 'রয়েছে', 'রাখা', 'রেখে', 'লক্ষ', 'শুধু', 'শুরু', 'সঙ্গে', 'সঙ্গেও', 'সব', 'সবার', 'সমস্ত', 'সম্প্রতি', 'সহ', 'সহিত', 'সাধারণ', 'সামনে', 'সি', 'সুতরাং', 'সে', 'সেই', 'সেখান', 'সেখানে', 'সেটা', 'সেটাই', 'সেটাও', 'সেটি', 'স্পষ্ট', 'স্বয়ং', 'হইতে', 'হইবে', 'হইয়া', 'হওয়া', 'হওয়ায়', 'হওয়ার', 'হচ্ছে', 'হত', 'হতে', 'হতেই', 'হন', 'হবে', 'হবেন', 'হয়', 'হয়তো', 'হয়নি', 'হয়ে', 'হয়েই', 'হয়েছিল', 'হয়েছে', 'হয়েছেন', 'হল', 'হলে', 'হলেই', 'হলেও', 'হলো', 'হাজার', 'হিসাবে', 'হৈলে', 'হোক', 'হয়']\n"
          ]
        }
      ]
    },
    {
      "cell_type": "code",
      "metadata": {
        "id": "K5ACOlmvCmPC"
      },
      "source": [
        "def remove_stop(txt):\n",
        "  nostop = ' '.join([i for i in txt if i not in stopwords])\n",
        "  return nostop"
      ],
      "execution_count": null,
      "outputs": []
    },
    {
      "cell_type": "code",
      "metadata": {
        "colab": {
          "base_uri": "https://localhost:8080/",
          "height": 910
        },
        "id": "rNaNUYoWTAb_",
        "outputId": "a6c62f8e-3971-4ea7-fad6-16bd3b48441e"
      },
      "source": [
        "df['clean_text'] = df['ben_token'].apply(lambda x: remove_stop(x))\n",
        "df"
      ],
      "execution_count": null,
      "outputs": [
        {
          "output_type": "execute_result",
          "data": {
            "text/html": [
              "<div>\n",
              "<style scoped>\n",
              "    .dataframe tbody tr th:only-of-type {\n",
              "        vertical-align: middle;\n",
              "    }\n",
              "\n",
              "    .dataframe tbody tr th {\n",
              "        vertical-align: top;\n",
              "    }\n",
              "\n",
              "    .dataframe thead th {\n",
              "        text-align: right;\n",
              "    }\n",
              "</style>\n",
              "<table border=\"1\" class=\"dataframe\">\n",
              "  <thead>\n",
              "    <tr style=\"text-align: right;\">\n",
              "      <th></th>\n",
              "      <th>label</th>\n",
              "      <th>text</th>\n",
              "      <th>ben_text</th>\n",
              "      <th>ben_token</th>\n",
              "      <th>clean_text</th>\n",
              "    </tr>\n",
              "  </thead>\n",
              "  <tbody>\n",
              "    <tr>\n",
              "      <th>0</th>\n",
              "      <td>opinion</td>\n",
              "      <td>উচ্চ মাধ্যমিক পরীক্ষার আগের দিন মঙ্গলবার এক বিবৃতিতে মন্ত্রী বলেন, “আমি হরতাল-অবরোধ ও সন্ত্রাসী কার্যক্রম পরিচালনাকারী জোটের প্রতি আহ্বান জানাচ্ছি...</td>\n",
              "      <td>উচ্চ মাধ্যমিক পরীক্ষার আগের দিন মঙ্গলবার এক বিবৃতিতে মন্ত্রী বলেন আমি হরতালঅবরোধ ও সন্ত্রাসী কার্যক্রম পরিচালনাকারী জোটের প্রতি আহ্বান জানাচ্ছি পর...</td>\n",
              "      <td>[উচ্চ, মাধ্যমিক, পরীক্ষার, আগের, দিন, মঙ্গলবার, এক, বিবৃতিতে, মন্ত্রী, বলেন, আমি, হরতালঅবরোধ, ও, সন্ত্রাসী, কার্যক্রম, পরিচালনাকারী, জোটের, প্রতি,...</td>\n",
              "      <td>উচ্চ মাধ্যমিক পরীক্ষার আগের মঙ্গলবার এক বিবৃতিতে মন্ত্রী হরতালঅবরোধ সন্ত্রাসী কার্যক্রম পরিচালনাকারী জোটের আহ্বান জানাচ্ছি পরীক্ষার্থীদের শান্তিপূ...</td>\n",
              "    </tr>\n",
              "    <tr>\n",
              "      <th>1</th>\n",
              "      <td>opinion</td>\n",
              "      <td>জাতিসংঘের সহকারী মহাসচিব অস্কার ফার্নান্দেজ তারানকোর বাংলাদেশ সফরের পর সংলাপ-সংলাপ খেলা প্রায় ফাইনাল রাউন্ডে পৌঁছে গেছে বলে মনে হচ্ছে। তাঁর সফর, ...</td>\n",
              "      <td>জাতিসংঘের সহকারী মহাসচিব অস্কার ফার্নান্দেজ তারানকোর বাংলাদেশ সফরের পর সংলাপসংলাপ খেলা প্রায় ফাইনাল রাউন্ডে পৌঁছে গেছে বলে মনে হচ্ছে তাঁর সফর প্র...</td>\n",
              "      <td>[জাতিসংঘের, সহকারী, মহাসচিব, অস্কার, ফার্নান্দেজ, তারানকোর, বাংলাদেশ, সফরের, পর, সংলাপসংলাপ, খেলা, প্রায়, ফাইনাল, রাউন্ডে, পৌঁছে, গেছে, বলে, মনে,...</td>\n",
              "      <td>জাতিসংঘের সহকারী মহাসচিব অস্কার ফার্নান্দেজ তারানকোর বাংলাদেশ সফরের সংলাপসংলাপ খেলা ফাইনাল রাউন্ডে পৌঁছে সফর প্রধানমন্ত্রী বিরোধীদলীয় নেতার একাধি...</td>\n",
              "    </tr>\n",
              "    <tr>\n",
              "      <th>2</th>\n",
              "      <td>opinion</td>\n",
              "      <td>একটা মেয়ে চিঠি লিখেছে তার বাবাকে। ইংরেজিতে লেখা চিঠি। অনুবাদ করলে মোটামুটি দাঁড়ায় এ রকম: ‘প্রিয় আব্বু, আমি জানি না এ চিঠি কোনো দিন তোমার কাছে...</td>\n",
              "      <td>একটা মেয়ে চিঠি লিখেছে তার বাবাকে ইংরেজিতে লেখা চিঠি অনুবাদ করলে মোটামুটি দাঁড়ায় এ রকম প্রিয় আব্বু আমি জানি না এ চিঠি কোনো দিন তোমার কাছে পৌঁ...</td>\n",
              "      <td>[একটা, মেয়ে, চিঠি, লিখেছে, তার, বাবাকে, ইংরেজিতে, লেখা, চিঠি, অনুবাদ, করলে, মোটামুটি, দাঁড়ায়, এ, রকম, প্রিয়, আব্বু, আমি, জানি, না, এ, চিঠি, কোন...</td>\n",
              "      <td>একটা মেয়ে চিঠি লিখেছে বাবাকে ইংরেজিতে লেখা চিঠি অনুবাদ মোটামুটি দাঁড়ায় প্রিয় আব্বু জানি চিঠি কোনো তোমার পৌঁছে পারব তোমাকে অনুভূতি প্রকাশের ...</td>\n",
              "    </tr>\n",
              "    <tr>\n",
              "      <th>3</th>\n",
              "      <td>opinion</td>\n",
              "      <td>গত বছরের নভেম্বরের শেষ। হেমন্তের সকাল।শীত আসি আসি করছে। আমরা কয়েকজন এসেছি গ্রামের বঞ্চিত-অবহেলিত মেয়েদের একটি স্কুল দেখতে।খুলনা শহর থেকে সামান্য দ...</td>\n",
              "      <td>গত বছরের নভেম্বরের শেষ হেমন্তের সকালশীত আসি আসি করছে আমরা কয়েকজন এসেছি গ্রামের বঞ্চিতঅবহেলিত মেয়েদের একটি স্কুল দেখতেখুলনা শহর থেকে সামান্য দূরে র...</td>\n",
              "      <td>[গত, বছরের, নভেম্বরের, শেষ, হেমন্তের, সকালশীত, আসি, আসি, করছে, আমরা, কয়েকজন, এসেছি, গ্রামের, বঞ্চিতঅবহেলিত, মেয়েদের, একটি, স্কুল, দেখতেখুলনা, শহর,...</td>\n",
              "      <td>গত বছরের নভেম্বরের শেষ হেমন্তের সকালশীত আসি আসি কয়েকজন এসেছি গ্রামের বঞ্চিতঅবহেলিত মেয়েদের স্কুল দেখতেখুলনা শহর সামান্য দূরে রূপসা উপজেলার ডোমরা ...</td>\n",
              "    </tr>\n",
              "    <tr>\n",
              "      <th>4</th>\n",
              "      <td>opinion</td>\n",
              "      <td>ঢাকা৴ আগઍট ১৫ (িবিডিনউজ)- সমান পদমযગাদার অনઘানઘ কমગকতગােদর পেদাਭিত োদওয়ার পদেਉেপ পચাথিমক িশਉা অিধদਮেরর সহকাির পચিশਉকেদর (এআই) মেধઘ োਉােভর সৃিੈ হেয়...</td>\n",
              "      <td>ঢাকা৴ আগট  িবিডিনউজ সমান পদমযাদার অনান কমকতােদর পেদািত োদওয়ার পদেেপ পাথিমক িশা অিধদেরর সহকাির পিশকেদর এআই মেধ োােভর সৃি হেয়েছ৷ পাথিমক িশা অিধদর সূ...</td>\n",
              "      <td>[ঢাকা৴, আগট, িবিডিনউজ, সমান, পদমযাদার, অনান, কমকতােদর, পেদািত, োদওয়ার, পদেেপ, পাথিমক, িশা, অিধদেরর, সহকাির, পিশকেদর, এআই, মেধ, োােভর, সৃি, হেয়েছ৷,...</td>\n",
              "      <td>ঢাকা৴ আগট িবিডিনউজ সমান পদমযাদার অনান কমকতােদর পেদািত োদওয়ার পদেেপ পাথিমক িশা অিধদেরর সহকাির পিশকেদর এআই মেধ োােভর সৃি হেয়েছ৷ পাথিমক িশা অিধদর সূ ...</td>\n",
              "    </tr>\n",
              "    <tr>\n",
              "      <th>...</th>\n",
              "      <td>...</td>\n",
              "      <td>...</td>\n",
              "      <td>...</td>\n",
              "      <td>...</td>\n",
              "      <td>...</td>\n",
              "    </tr>\n",
              "    <tr>\n",
              "      <th>76713</th>\n",
              "      <td>entertainment</td>\n",
              "      <td>ফারাহ খান পরিচালিত শাহরুখ খান-দীপিকা পাড়ুকোন জুটির হ্যাপি নিউ ইয়ার ছবি মুক্তি পেয়েছে গত ২৪ অক্টোবর। এরই মধ্যে বিশ্বের বিভিন্ন দেশ থেকে সাড়ে ৩০...</td>\n",
              "      <td>ফারাহ খান পরিচালিত শাহরুখ খানদীপিকা পাড়ুকোন জুটির হ্যাপি নিউ ইয়ার ছবি মুক্তি পেয়েছে গত  অক্টোবর এরই মধ্যে বিশ্বের বিভিন্ন দেশ থেকে সাড়ে  কোটি ...</td>\n",
              "      <td>[ফারাহ, খান, পরিচালিত, শাহরুখ, খানদীপিকা, পাড়ুকোন, জুটির, হ্যাপি, নিউ, ইয়ার, ছবি, মুক্তি, পেয়েছে, গত, অক্টোবর, এরই, মধ্যে, বিশ্বের, বিভিন্ন, দে...</td>\n",
              "      <td>ফারাহ খান পরিচালিত শাহরুখ খানদীপিকা পাড়ুকোন জুটির হ্যাপি নিউ ইয়ার ছবি মুক্তি পেয়েছে গত অক্টোবর এরই বিশ্বের দেশ সাড়ে রুপি আয় ছবিটি সাফল্যের পা...</td>\n",
              "    </tr>\n",
              "    <tr>\n",
              "      <th>76714</th>\n",
              "      <td>entertainment</td>\n",
              "      <td>রাধারমণের ১০০তম তিরোধান তিথি চলছে। সেটা মনে রেখেই এই অনুষ্ঠান। এ ধারার প্রধান বলে লালনকেই প্রথম স্মরণ করা হলো তাঁর গানের মাধ্যমে। শিল্পকলা একাডেমী...</td>\n",
              "      <td>রাধারমণের তম তিরোধান তিথি চলছে সেটা মনে রেখেই এই অনুষ্ঠান এ ধারার প্রধান বলে লালনকেই প্রথম স্মরণ করা হলো তাঁর গানের মাধ্যমে শিল্পকলা একাডেমীর সংগী...</td>\n",
              "      <td>[রাধারমণের, তম, তিরোধান, তিথি, চলছে, সেটা, মনে, রেখেই, এই, অনুষ্ঠান, এ, ধারার, প্রধান, বলে, লালনকেই, প্রথম, স্মরণ, করা, হলো, তাঁর, গানের, মাধ্যমে,...</td>\n",
              "      <td>রাধারমণের তম তিরোধান তিথি চলছে রেখেই অনুষ্ঠান ধারার প্রধান লালনকেই স্মরণ গানের শিল্পকলা একাডেমীর সংগীত নৃত্যকলা মিলনায়তনে গতকাল সন্ধ্যায় বসেছিল ...</td>\n",
              "    </tr>\n",
              "    <tr>\n",
              "      <th>76715</th>\n",
              "      <td>entertainment</td>\n",
              "      <td>‘আমার আশপাশের সবাই চাইছেন এখনই বিয়ে করে থিতু হই আমি, কিন্তু কবে থিতু হব এ বিষয়ে আমি এখনো জানি না। অবশ্য থিতু হওয়ার জন্য নিজের ওপর কোনো রকম চাপ সৃষ...</td>\n",
              "      <td>আমার আশপাশের সবাই চাইছেন এখনই বিয়ে করে থিতু হই আমি কিন্তু কবে থিতু হব এ বিষয়ে আমি এখনো জানি না অবশ্য থিতু হওয়ার জন্য নিজের ওপর কোনো রকম চাপ সৃষ্টি...</td>\n",
              "      <td>[আমার, আশপাশের, সবাই, চাইছেন, এখনই, বিয়ে, করে, থিতু, হই, আমি, কিন্তু, কবে, থিতু, হব, এ, বিষয়ে, আমি, এখনো, জানি, না, অবশ্য, থিতু, হওয়ার, জন্য, নিজে...</td>\n",
              "      <td>আশপাশের সবাই চাইছেন এখনই বিয়ে থিতু হই থিতু হব বিষয়ে এখনো জানি থিতু হওয়ার ওপর চাপ সৃষ্টি চাই বিষয় ঘটার তখনই ঘটবে এভাবেই বিয়ে মন্তব্য বাঙালি বংশোদ্ভ...</td>\n",
              "    </tr>\n",
              "    <tr>\n",
              "      <th>76716</th>\n",
              "      <td>entertainment</td>\n",
              "      <td>টাইমস অফ ইন্ডিয়া জানিয়েছে, ছোট বোন কারিনা কাপুর খানের চোখে বরাবরই ভালো নাচিয়েদের তালিকার শীর্ষে ছিলেন কারিশমা। তবে তেমনভাবে আলোচিত কোনো আইটেম গানে...</td>\n",
              "      <td>টাইমস অফ ইন্ডিয়া জানিয়েছে ছোট বোন কারিনা কাপুর খানের চোখে বরাবরই ভালো নাচিয়েদের তালিকার শীর্ষে ছিলেন কারিশমা তবে তেমনভাবে আলোচিত কোনো আইটেম গানে ক...</td>\n",
              "      <td>[টাইমস, অফ, ইন্ডিয়া, জানিয়েছে, ছোট, বোন, কারিনা, কাপুর, খানের, চোখে, বরাবরই, ভালো, নাচিয়েদের, তালিকার, শীর্ষে, ছিলেন, কারিশমা, তবে, তেমনভাবে, আলোচ...</td>\n",
              "      <td>টাইমস অফ ইন্ডিয়া জানিয়েছে ছোট বোন কারিনা কাপুর খানের চোখে বরাবরই ভালো নাচিয়েদের তালিকার শীর্ষে কারিশমা তেমনভাবে আলোচিত আইটেম গানে করেননি অন্যদিকে ...</td>\n",
              "    </tr>\n",
              "    <tr>\n",
              "      <th>76717</th>\n",
              "      <td>entertainment</td>\n",
              "      <td>আগস্ট ১৪ (বিডিনিউজটুয়েন্টিফোরডটকম) -- বলিউডের প্রবীন অভিনেতা অনুপম খের স\\r\\n</td>\n",
              "      <td>আগস্ট  বিডিনিউজটুয়েন্টিফোরডটকম  বলিউডের প্রবীন অভিনেতা অনুপম খের স</td>\n",
              "      <td>[আগস্ট, বিডিনিউজটুয়েন্টিফোরডটকম, বলিউডের, প্রবীন, অভিনেতা, অনুপম, খের, স]</td>\n",
              "      <td>আগস্ট বিডিনিউজটুয়েন্টিফোরডটকম বলিউডের প্রবীন অভিনেতা অনুপম খের স</td>\n",
              "    </tr>\n",
              "  </tbody>\n",
              "</table>\n",
              "<p>75951 rows × 5 columns</p>\n",
              "</div>"
            ],
            "text/plain": [
              "               label  ...                                                                                                                                             clean_text\n",
              "0            opinion  ...  উচ্চ মাধ্যমিক পরীক্ষার আগের মঙ্গলবার এক বিবৃতিতে মন্ত্রী হরতালঅবরোধ সন্ত্রাসী কার্যক্রম পরিচালনাকারী জোটের আহ্বান জানাচ্ছি পরীক্ষার্থীদের শান্তিপূ...\n",
              "1            opinion  ...  জাতিসংঘের সহকারী মহাসচিব অস্কার ফার্নান্দেজ তারানকোর বাংলাদেশ সফরের সংলাপসংলাপ খেলা ফাইনাল রাউন্ডে পৌঁছে সফর প্রধানমন্ত্রী বিরোধীদলীয় নেতার একাধি...\n",
              "2            opinion  ...  একটা মেয়ে চিঠি লিখেছে বাবাকে ইংরেজিতে লেখা চিঠি অনুবাদ মোটামুটি দাঁড়ায় প্রিয় আব্বু জানি চিঠি কোনো তোমার পৌঁছে পারব তোমাকে অনুভূতি প্রকাশের ...\n",
              "3            opinion  ...  গত বছরের নভেম্বরের শেষ হেমন্তের সকালশীত আসি আসি কয়েকজন এসেছি গ্রামের বঞ্চিতঅবহেলিত মেয়েদের স্কুল দেখতেখুলনা শহর সামান্য দূরে রূপসা উপজেলার ডোমরা ...\n",
              "4            opinion  ...  ঢাকা৴ আগট িবিডিনউজ সমান পদমযাদার অনান কমকতােদর পেদািত োদওয়ার পদেেপ পাথিমক িশা অিধদেরর সহকাির পিশকেদর এআই মেধ োােভর সৃি হেয়েছ৷ পাথিমক িশা অিধদর সূ ...\n",
              "...              ...  ...                                                                                                                                                    ...\n",
              "76713  entertainment  ...  ফারাহ খান পরিচালিত শাহরুখ খানদীপিকা পাড়ুকোন জুটির হ্যাপি নিউ ইয়ার ছবি মুক্তি পেয়েছে গত অক্টোবর এরই বিশ্বের দেশ সাড়ে রুপি আয় ছবিটি সাফল্যের পা...\n",
              "76714  entertainment  ...  রাধারমণের তম তিরোধান তিথি চলছে রেখেই অনুষ্ঠান ধারার প্রধান লালনকেই স্মরণ গানের শিল্পকলা একাডেমীর সংগীত নৃত্যকলা মিলনায়তনে গতকাল সন্ধ্যায় বসেছিল ...\n",
              "76715  entertainment  ...  আশপাশের সবাই চাইছেন এখনই বিয়ে থিতু হই থিতু হব বিষয়ে এখনো জানি থিতু হওয়ার ওপর চাপ সৃষ্টি চাই বিষয় ঘটার তখনই ঘটবে এভাবেই বিয়ে মন্তব্য বাঙালি বংশোদ্ভ...\n",
              "76716  entertainment  ...  টাইমস অফ ইন্ডিয়া জানিয়েছে ছোট বোন কারিনা কাপুর খানের চোখে বরাবরই ভালো নাচিয়েদের তালিকার শীর্ষে কারিশমা তেমনভাবে আলোচিত আইটেম গানে করেননি অন্যদিকে ...\n",
              "76717  entertainment  ...                                                                                       আগস্ট বিডিনিউজটুয়েন্টিফোরডটকম বলিউডের প্রবীন অভিনেতা অনুপম খের স\n",
              "\n",
              "[75951 rows x 5 columns]"
            ]
          },
          "metadata": {},
          "execution_count": 16
        }
      ]
    },
    {
      "cell_type": "code",
      "metadata": {
        "id": "iNkz-TE-KnQA"
      },
      "source": [
        "Y = df['label'].map({'accident': 0, 'art': 1, 'crime': 2, 'economics': 3, 'education': 4, 'entertainment': 5, 'environment': 6, 'international': 7, 'opinion': 8, 'politics': 9, 'science_tech': 10, 'sports': 11})"
      ],
      "execution_count": null,
      "outputs": []
    },
    {
      "cell_type": "code",
      "metadata": {
        "id": "3veNkQ1RVBdf"
      },
      "source": [
        "x = df.clean_text.values\n",
        "y = Y.values"
      ],
      "execution_count": null,
      "outputs": []
    },
    {
      "cell_type": "code",
      "metadata": {
        "id": "QUbDTOArVTZS"
      },
      "source": [
        "xtrain, xtest, ytrain, ytest = train_test_split(x, y, test_size = 0.2, random_state = 1, stratify = y)"
      ],
      "execution_count": null,
      "outputs": []
    },
    {
      "cell_type": "code",
      "metadata": {
        "colab": {
          "base_uri": "https://localhost:8080/"
        },
        "id": "6dCXN0xSoof3",
        "outputId": "c6ca0849-3df4-430f-9017-7a0ad9a64831"
      },
      "source": [
        "ytrain"
      ],
      "execution_count": null,
      "outputs": [
        {
          "output_type": "execute_result",
          "data": {
            "text/plain": [
              "array([11,  7,  2, ..., 10,  9,  5])"
            ]
          },
          "metadata": {
            "tags": []
          },
          "execution_count": 26
        }
      ]
    },
    {
      "cell_type": "code",
      "metadata": {
        "colab": {
          "base_uri": "https://localhost:8080/"
        },
        "id": "fXIKHR12DuSR",
        "outputId": "338fc45d-3898-4d21-f28a-396c97a43759"
      },
      "source": [
        "np.unique(ytrain, return_counts=True)"
      ],
      "execution_count": null,
      "outputs": [
        {
          "output_type": "execute_result",
          "data": {
            "text/plain": [
              "(array([ 0,  1,  2,  3,  4,  5,  6,  7,  8,  9, 10, 11]),\n",
              " array([ 4029,  1694,  5486,  2185,  7717,  6330,  2751,  3297,  5144,\n",
              "        12693,  1852,  7582]))"
            ]
          },
          "metadata": {
            "tags": []
          },
          "execution_count": 27
        }
      ]
    },
    {
      "cell_type": "code",
      "metadata": {
        "colab": {
          "base_uri": "https://localhost:8080/"
        },
        "id": "PcCzLT-Boq_Z",
        "outputId": "169b3fe1-eb0d-4c3c-88df-c81ed206133c"
      },
      "source": [
        "ytest"
      ],
      "execution_count": null,
      "outputs": [
        {
          "output_type": "execute_result",
          "data": {
            "text/plain": [
              "array([2, 9, 2, ..., 4, 3, 2])"
            ]
          },
          "metadata": {
            "tags": []
          },
          "execution_count": 29
        }
      ]
    },
    {
      "cell_type": "code",
      "metadata": {
        "colab": {
          "base_uri": "https://localhost:8080/"
        },
        "id": "pA32nMGFkpmp",
        "outputId": "89010b56-6863-4c4c-dfe6-8caddbd3dfc3"
      },
      "source": [
        "np.unique(ytest, return_counts=True)"
      ],
      "execution_count": null,
      "outputs": [
        {
          "output_type": "execute_result",
          "data": {
            "text/plain": [
              "(array([ 0,  1,  2,  3,  4,  5,  6,  7,  8,  9, 10, 11]),\n",
              " array([1007,  423, 1372,  546, 1929, 1583,  688,  824, 1286, 3174,  463,\n",
              "        1896]))"
            ]
          },
          "metadata": {
            "tags": []
          },
          "execution_count": 33
        }
      ]
    },
    {
      "cell_type": "code",
      "metadata": {
        "id": "618HDqeLTAjU"
      },
      "source": [
        "from tensorflow.keras.models import Sequential\n",
        "from tensorflow.keras.optimizers import RMSprop\n",
        "from tensorflow.keras.layers import LSTM, Activation, Dense, Dropout, Embedding\n",
        "from keras.layers import CuDNNLSTM\n",
        "from tensorflow.keras.preprocessing.text import Tokenizer\n",
        "from tensorflow.keras.preprocessing.sequence import pad_sequences\n",
        "from tensorflow.keras.callbacks import EarlyStopping"
      ],
      "execution_count": null,
      "outputs": []
    },
    {
      "cell_type": "code",
      "metadata": {
        "id": "5xbR02t1OtsI"
      },
      "source": [
        "vocab_size = 75000\n",
        "max_len = 500\n",
        "tok = Tokenizer(num_words = vocab_size)\n",
        "tok.fit_on_texts(xtrain)\n",
        "sequences = tok.texts_to_sequences(xtrain)\n",
        "sequences_matrix = pad_sequences(sequences, maxlen = max_len)\n",
        "test_sequences = tok.texts_to_sequences(xtest)\n",
        "test_sequences_matrix = pad_sequences(test_sequences, maxlen = max_len)"
      ],
      "execution_count": null,
      "outputs": []
    },
    {
      "cell_type": "code",
      "metadata": {
        "colab": {
          "base_uri": "https://localhost:8080/"
        },
        "id": "hjN9mrJuBLJl",
        "outputId": "e7947785-2493-4bbd-e529-5cecae5fbfb7"
      },
      "source": [
        "vec_feature = 60\n",
        "model = Sequential()\n",
        "model.add(Embedding(vocab_size, vec_feature, input_length = max_len))\n",
        "model.add(LSTM(128, return_sequences = True))\n",
        "model.add(Dropout(0.3))\n",
        "model.add(LSTM(128))\n",
        "model.add(Dropout(0.3))\n",
        "model.add(Dense(128, activation = 'relu'))\n",
        "model.add(Dropout(0.3))\n",
        "model.add(Dense(12, activation = 'softmax'))\n",
        "model.compile(loss = 'sparse_categorical_crossentropy', optimizer = RMSprop(learning_rate = 0.001, epsilon = 1e-07), metrics = ['accuracy'])\n",
        "model.summary()"
      ],
      "execution_count": null,
      "outputs": [
        {
          "output_type": "stream",
          "text": [
            "Model: \"sequential\"\n",
            "_________________________________________________________________\n",
            "Layer (type)                 Output Shape              Param #   \n",
            "=================================================================\n",
            "embedding (Embedding)        (None, 500, 60)           4500000   \n",
            "_________________________________________________________________\n",
            "lstm (LSTM)                  (None, 500, 128)          96768     \n",
            "_________________________________________________________________\n",
            "dropout (Dropout)            (None, 500, 128)          0         \n",
            "_________________________________________________________________\n",
            "lstm_1 (LSTM)                (None, 128)               131584    \n",
            "_________________________________________________________________\n",
            "dropout_1 (Dropout)          (None, 128)               0         \n",
            "_________________________________________________________________\n",
            "dense (Dense)                (None, 128)               16512     \n",
            "_________________________________________________________________\n",
            "dropout_2 (Dropout)          (None, 128)               0         \n",
            "_________________________________________________________________\n",
            "dense_1 (Dense)              (None, 12)                1548      \n",
            "=================================================================\n",
            "Total params: 4,746,412\n",
            "Trainable params: 4,746,412\n",
            "Non-trainable params: 0\n",
            "_________________________________________________________________\n"
          ],
          "name": "stdout"
        }
      ]
    },
    {
      "cell_type": "code",
      "metadata": {
        "colab": {
          "base_uri": "https://localhost:8080/"
        },
        "id": "dSN38W98avko",
        "outputId": "ea93672c-9209-418e-c502-b40ba532d4fc"
      },
      "source": [
        "#call = EarlyStopping(monitor = 'val_accuracy', patience = 2, mode = 'auto', restore_best_weights = True)\n",
        "M = model.fit(sequences_matrix, ytrain, epochs = 60, validation_split = 0.2, batch_size = 64, shuffle = True, initial_epoch = 0)"
      ],
      "execution_count": null,
      "outputs": [
        {
          "output_type": "stream",
          "text": [
            "Epoch 1/60\n",
            "760/760 [==============================] - 172s 215ms/step - loss: 1.4807 - accuracy: 0.5276 - val_loss: 1.0269 - val_accuracy: 0.7078\n",
            "Epoch 2/60\n",
            "760/760 [==============================] - 162s 213ms/step - loss: 0.9387 - accuracy: 0.7428 - val_loss: 0.8346 - val_accuracy: 0.7706\n",
            "Epoch 3/60\n",
            "760/760 [==============================] - 162s 213ms/step - loss: 0.7374 - accuracy: 0.8049 - val_loss: 0.7341 - val_accuracy: 0.8019\n",
            "Epoch 4/60\n",
            "760/760 [==============================] - 162s 213ms/step - loss: 0.6010 - accuracy: 0.8410 - val_loss: 0.6564 - val_accuracy: 0.8192\n",
            "Epoch 5/60\n",
            "760/760 [==============================] - 162s 213ms/step - loss: 0.5266 - accuracy: 0.8558 - val_loss: 0.6065 - val_accuracy: 0.8356\n",
            "Epoch 6/60\n",
            "760/760 [==============================] - 162s 213ms/step - loss: 0.4677 - accuracy: 0.8707 - val_loss: 0.6163 - val_accuracy: 0.8284\n",
            "Epoch 7/60\n",
            "760/760 [==============================] - 162s 213ms/step - loss: 0.4070 - accuracy: 0.8872 - val_loss: 0.5863 - val_accuracy: 0.8419\n",
            "Epoch 8/60\n",
            "760/760 [==============================] - 162s 213ms/step - loss: 0.3548 - accuracy: 0.8977 - val_loss: 0.5777 - val_accuracy: 0.8446\n",
            "Epoch 9/60\n",
            "760/760 [==============================] - 162s 213ms/step - loss: 0.3072 - accuracy: 0.9077 - val_loss: 0.5780 - val_accuracy: 0.8464\n",
            "Epoch 10/60\n",
            "760/760 [==============================] - 161s 212ms/step - loss: 0.2732 - accuracy: 0.9148 - val_loss: 0.5646 - val_accuracy: 0.8492\n",
            "Epoch 11/60\n",
            "760/760 [==============================] - 162s 213ms/step - loss: 0.2388 - accuracy: 0.9249 - val_loss: 0.5411 - val_accuracy: 0.8542\n",
            "Epoch 12/60\n",
            "760/760 [==============================] - 161s 212ms/step - loss: 0.2165 - accuracy: 0.9302 - val_loss: 0.6356 - val_accuracy: 0.8388\n",
            "Epoch 13/60\n",
            "760/760 [==============================] - 161s 212ms/step - loss: 0.1980 - accuracy: 0.9350 - val_loss: 0.6175 - val_accuracy: 0.8376\n",
            "Epoch 14/60\n",
            "760/760 [==============================] - 161s 212ms/step - loss: 0.1792 - accuracy: 0.9385 - val_loss: 0.7049 - val_accuracy: 0.8390\n",
            "Epoch 15/60\n",
            "760/760 [==============================] - 162s 213ms/step - loss: 0.1727 - accuracy: 0.9418 - val_loss: 0.7685 - val_accuracy: 0.8432\n",
            "Epoch 16/60\n",
            "760/760 [==============================] - 162s 213ms/step - loss: 0.1609 - accuracy: 0.9432 - val_loss: 0.7564 - val_accuracy: 0.8384\n",
            "Epoch 17/60\n",
            "760/760 [==============================] - 161s 212ms/step - loss: 0.1502 - accuracy: 0.9465 - val_loss: 0.8033 - val_accuracy: 0.8270\n",
            "Epoch 18/60\n",
            "760/760 [==============================] - 162s 213ms/step - loss: 0.1471 - accuracy: 0.9473 - val_loss: 0.7730 - val_accuracy: 0.8335\n",
            "Epoch 19/60\n",
            "760/760 [==============================] - 161s 212ms/step - loss: 0.1377 - accuracy: 0.9497 - val_loss: 0.9436 - val_accuracy: 0.8407\n",
            "Epoch 20/60\n",
            "760/760 [==============================] - 162s 213ms/step - loss: 0.1366 - accuracy: 0.9504 - val_loss: 0.7481 - val_accuracy: 0.8298\n",
            "Epoch 21/60\n",
            "760/760 [==============================] - 162s 213ms/step - loss: 0.1305 - accuracy: 0.9521 - val_loss: 1.0035 - val_accuracy: 0.8268\n",
            "Epoch 22/60\n",
            "760/760 [==============================] - 161s 212ms/step - loss: 0.1291 - accuracy: 0.9536 - val_loss: 0.8828 - val_accuracy: 0.8259\n",
            "Epoch 23/60\n",
            "760/760 [==============================] - 162s 213ms/step - loss: 0.1242 - accuracy: 0.9537 - val_loss: 0.9777 - val_accuracy: 0.8334\n",
            "Epoch 24/60\n",
            "760/760 [==============================] - 161s 212ms/step - loss: 0.1241 - accuracy: 0.9549 - val_loss: 1.1517 - val_accuracy: 0.8099\n",
            "Epoch 25/60\n",
            "760/760 [==============================] - 161s 212ms/step - loss: 0.1229 - accuracy: 0.9544 - val_loss: 1.0053 - val_accuracy: 0.8310\n",
            "Epoch 26/60\n",
            "760/760 [==============================] - 161s 212ms/step - loss: 0.1214 - accuracy: 0.9556 - val_loss: 1.0611 - val_accuracy: 0.8317\n",
            "Epoch 27/60\n",
            "760/760 [==============================] - 162s 213ms/step - loss: 0.1225 - accuracy: 0.9558 - val_loss: 1.0787 - val_accuracy: 0.8251\n",
            "Epoch 28/60\n",
            "760/760 [==============================] - 161s 212ms/step - loss: 0.1157 - accuracy: 0.9571 - val_loss: 1.1019 - val_accuracy: 0.8202\n",
            "Epoch 29/60\n",
            "760/760 [==============================] - 162s 213ms/step - loss: 0.1149 - accuracy: 0.9571 - val_loss: 1.1851 - val_accuracy: 0.8182\n",
            "Epoch 30/60\n",
            "760/760 [==============================] - 162s 213ms/step - loss: 0.1164 - accuracy: 0.9575 - val_loss: 1.2605 - val_accuracy: 0.8218\n",
            "Epoch 31/60\n",
            "760/760 [==============================] - 162s 213ms/step - loss: 0.1160 - accuracy: 0.9577 - val_loss: 1.2855 - val_accuracy: 0.7849\n",
            "Epoch 32/60\n",
            "760/760 [==============================] - 162s 213ms/step - loss: 0.1140 - accuracy: 0.9579 - val_loss: 1.4147 - val_accuracy: 0.8169\n",
            "Epoch 33/60\n",
            "760/760 [==============================] - 162s 213ms/step - loss: 0.1106 - accuracy: 0.9592 - val_loss: 1.3668 - val_accuracy: 0.8308\n",
            "Epoch 34/60\n",
            "760/760 [==============================] - 161s 213ms/step - loss: 0.1151 - accuracy: 0.9584 - val_loss: 1.8745 - val_accuracy: 0.8173\n",
            "Epoch 35/60\n",
            "760/760 [==============================] - 162s 213ms/step - loss: 0.1111 - accuracy: 0.9600 - val_loss: 1.3956 - val_accuracy: 0.8225\n",
            "Epoch 36/60\n",
            "760/760 [==============================] - 161s 212ms/step - loss: 0.1084 - accuracy: 0.9590 - val_loss: 1.1961 - val_accuracy: 0.8041\n",
            "Epoch 37/60\n",
            "760/760 [==============================] - 162s 213ms/step - loss: 0.1077 - accuracy: 0.9602 - val_loss: 1.3733 - val_accuracy: 0.8117\n",
            "Epoch 38/60\n",
            "760/760 [==============================] - 162s 213ms/step - loss: 0.1105 - accuracy: 0.9606 - val_loss: 1.3439 - val_accuracy: 0.8285\n",
            "Epoch 39/60\n",
            "760/760 [==============================] - 162s 213ms/step - loss: 0.1127 - accuracy: 0.9603 - val_loss: 1.9438 - val_accuracy: 0.8230\n",
            "Epoch 40/60\n",
            "760/760 [==============================] - 162s 213ms/step - loss: 0.1215 - accuracy: 0.9606 - val_loss: 1.5732 - val_accuracy: 0.8232\n",
            "Epoch 41/60\n",
            "760/760 [==============================] - 161s 212ms/step - loss: 0.1085 - accuracy: 0.9608 - val_loss: 1.6051 - val_accuracy: 0.8112\n",
            "Epoch 42/60\n",
            "760/760 [==============================] - 161s 212ms/step - loss: 0.1077 - accuracy: 0.9606 - val_loss: 1.5229 - val_accuracy: 0.8130\n",
            "Epoch 43/60\n",
            "760/760 [==============================] - 161s 212ms/step - loss: 0.1115 - accuracy: 0.9609 - val_loss: 2.1454 - val_accuracy: 0.8210\n",
            "Epoch 44/60\n",
            "760/760 [==============================] - 162s 213ms/step - loss: 0.1101 - accuracy: 0.9598 - val_loss: 1.6558 - val_accuracy: 0.8199\n",
            "Epoch 45/60\n",
            "760/760 [==============================] - 161s 212ms/step - loss: 0.1068 - accuracy: 0.9610 - val_loss: 1.6190 - val_accuracy: 0.8179\n",
            "Epoch 46/60\n",
            "760/760 [==============================] - 161s 212ms/step - loss: 0.1059 - accuracy: 0.9604 - val_loss: 1.1871 - val_accuracy: 0.8202\n",
            "Epoch 47/60\n",
            "760/760 [==============================] - 162s 213ms/step - loss: 0.1017 - accuracy: 0.9617 - val_loss: 1.4558 - val_accuracy: 0.8222\n",
            "Epoch 48/60\n",
            "760/760 [==============================] - 161s 212ms/step - loss: 0.1035 - accuracy: 0.9614 - val_loss: 1.6663 - val_accuracy: 0.8032\n",
            "Epoch 49/60\n",
            "760/760 [==============================] - 161s 212ms/step - loss: 0.1113 - accuracy: 0.9610 - val_loss: 1.7835 - val_accuracy: 0.8228\n",
            "Epoch 50/60\n",
            "760/760 [==============================] - 162s 213ms/step - loss: 0.1066 - accuracy: 0.9610 - val_loss: 1.7290 - val_accuracy: 0.8185\n",
            "Epoch 51/60\n",
            "760/760 [==============================] - 161s 212ms/step - loss: 0.1073 - accuracy: 0.9621 - val_loss: 1.5112 - val_accuracy: 0.8113\n",
            "Epoch 52/60\n",
            "760/760 [==============================] - 162s 213ms/step - loss: 0.1089 - accuracy: 0.9615 - val_loss: 1.6316 - val_accuracy: 0.8189\n",
            "Epoch 53/60\n",
            "760/760 [==============================] - 162s 213ms/step - loss: 0.1076 - accuracy: 0.9612 - val_loss: 2.0705 - val_accuracy: 0.8171\n",
            "Epoch 54/60\n",
            "760/760 [==============================] - 162s 213ms/step - loss: 0.1217 - accuracy: 0.9610 - val_loss: 1.9476 - val_accuracy: 0.8156\n",
            "Epoch 55/60\n",
            "760/760 [==============================] - 162s 213ms/step - loss: 0.1218 - accuracy: 0.9614 - val_loss: 1.8029 - val_accuracy: 0.8236\n",
            "Epoch 56/60\n",
            "760/760 [==============================] - 162s 213ms/step - loss: 0.1079 - accuracy: 0.9600 - val_loss: 1.8101 - val_accuracy: 0.8137\n",
            "Epoch 57/60\n",
            "760/760 [==============================] - 162s 213ms/step - loss: 0.1040 - accuracy: 0.9615 - val_loss: 2.1732 - val_accuracy: 0.8107\n",
            "Epoch 58/60\n",
            "760/760 [==============================] - 162s 213ms/step - loss: 0.1088 - accuracy: 0.9621 - val_loss: 1.4148 - val_accuracy: 0.8061\n",
            "Epoch 59/60\n",
            "760/760 [==============================] - 162s 213ms/step - loss: 0.1181 - accuracy: 0.9615 - val_loss: 2.7766 - val_accuracy: 0.8159\n",
            "Epoch 60/60\n",
            "760/760 [==============================] - 162s 213ms/step - loss: 0.1078 - accuracy: 0.9620 - val_loss: 1.5440 - val_accuracy: 0.8223\n"
          ],
          "name": "stdout"
        }
      ]
    },
    {
      "cell_type": "code",
      "metadata": {
        "id": "ZVmrOaO3D_v0",
        "colab": {
          "base_uri": "https://localhost:8080/",
          "height": 295
        },
        "outputId": "fdd186a1-4d3c-42b9-9e7f-bfb97f9fcc4f"
      },
      "source": [
        "plt.plot(M.history['loss'], label = 'Training')\n",
        "plt.plot(M.history['val_loss'], label = 'Validation')\n",
        "plt.title('Training and validation loss')\n",
        "plt.xlabel('Epochs')\n",
        "plt.ylabel('Loss')\n",
        "plt.legend()\n",
        "plt.savefig('LSTM_loss', dpi = 500)\n",
        "plt.show()"
      ],
      "execution_count": null,
      "outputs": [
        {
          "output_type": "display_data",
          "data": {
            "image/png": "[encoded data removed]",
            "text/plain": [
              "<Figure size 432x288 with 1 Axes>"
            ]
          },
          "metadata": {
            "tags": [],
            "needs_background": "light"
          }
        }
      ]
    },
    {
      "cell_type": "code",
      "metadata": {
        "id": "57g6T6BlJzhR",
        "colab": {
          "base_uri": "https://localhost:8080/",
          "height": 295
        },
        "outputId": "eaac9774-5674-4390-fe9b-5e42267a7548"
      },
      "source": [
        "plt.plot(M.history['accuracy'], label = 'Training')\n",
        "plt.plot(M.history['val_accuracy'], label = 'Validation')\n",
        "plt.title('Training and validation accuracy')\n",
        "plt.xlabel('Epochs')\n",
        "plt.ylabel('Accuracy')\n",
        "plt.legend()\n",
        "plt.savefig('LSTM_accuracy', dpi = 500)\n",
        "plt.show()"
      ],
      "execution_count": null,
      "outputs": [
        {
          "output_type": "display_data",
          "data": {
            "image/png": "[encoded data removed]",
            "text/plain": [
              "<Figure size 432x288 with 1 Axes>"
            ]
          },
          "metadata": {
            "tags": [],
            "needs_background": "light"
          }
        }
      ]
    },
    {
      "cell_type": "code",
      "metadata": {
        "id": "_G7N1hE63Nxb",
        "colab": {
          "base_uri": "https://localhost:8080/"
        },
        "outputId": "c8ad38ff-432d-45cf-c3fa-636c8a961b5a"
      },
      "source": [
        "accu = model.evaluate(test_sequences_matrix, ytest)"
      ],
      "execution_count": null,
      "outputs": [
        {
          "output_type": "stream",
          "text": [
            "475/475 [==============================] - 40s 83ms/step - loss: 1.5746 - accuracy: 0.8271\n"
          ],
          "name": "stdout"
        }
      ]
    },
    {
      "cell_type": "code",
      "metadata": {
        "id": "jH_KrHn9pl2n",
        "colab": {
          "base_uri": "https://localhost:8080/"
        },
        "outputId": "cdc2bd83-df95-4b22-8350-2225044097f5"
      },
      "source": [
        "y_predl = np.argmax(model.predict(test_sequences_matrix), axis = -1)\n",
        "confusion_matrix(ytest, y_predl)"
      ],
      "execution_count": null,
      "outputs": [
        {
          "output_type": "execute_result",
          "data": {
            "text/plain": [
              "array([[ 922,    3,   22,    0,    7,    5,   14,    2,    1,   19,    4,\n",
              "           8],\n",
              "       [   3,  188,    9,    0,   10,  138,    7,    4,   20,   10,    7,\n",
              "          27],\n",
              "       [  31,    9, 1078,    2,   25,   17,   23,    9,    7,  154,    4,\n",
              "          13],\n",
              "       [   1,    1,    2,  431,    7,    4,    8,    6,   15,   42,   27,\n",
              "           2],\n",
              "       [   4,   10,    9,    2, 1603,   37,   55,    5,   24,  132,   10,\n",
              "          38],\n",
              "       [  11,   87,    8,    2,   22, 1327,   11,    7,    6,   30,   27,\n",
              "          45],\n",
              "       [  13,    3,    6,    0,   32,   10,  520,    5,   16,   69,    3,\n",
              "          11],\n",
              "       [   5,    6,    3,   13,    9,   23,    6,  696,   13,   26,   14,\n",
              "          10],\n",
              "       [  12,   20,   16,   16,   60,   33,   58,   15,  939,   83,   15,\n",
              "          19],\n",
              "       [  18,    7,   52,   29,  163,   37,   84,   10,   49, 2691,    5,\n",
              "          29],\n",
              "       [   3,    1,    2,   14,    6,   25,    3,    5,    6,    4,  389,\n",
              "           5],\n",
              "       [   8,    7,    2,    1,   12,   31,    8,   14,    4,   21,    8,\n",
              "        1780]])"
            ]
          },
          "metadata": {
            "tags": []
          },
          "execution_count": 27
        }
      ]
    },
    {
      "cell_type": "code",
      "metadata": {
        "id": "nlad8Fw4p23c",
        "colab": {
          "base_uri": "https://localhost:8080/"
        },
        "outputId": "d27fe3da-5492-42cc-a468-88c7b959619e"
      },
      "source": [
        "print(classification_report(ytest, y_predl))"
      ],
      "execution_count": null,
      "outputs": [
        {
          "output_type": "stream",
          "text": [
            "              precision    recall  f1-score   support\n",
            "\n",
            "           0       0.89      0.92      0.90      1007\n",
            "           1       0.55      0.44      0.49       423\n",
            "           2       0.89      0.79      0.84      1372\n",
            "           3       0.85      0.79      0.82       546\n",
            "           4       0.82      0.83      0.83      1929\n",
            "           5       0.79      0.84      0.81      1583\n",
            "           6       0.65      0.76      0.70       688\n",
            "           7       0.89      0.84      0.87       824\n",
            "           8       0.85      0.73      0.79      1286\n",
            "           9       0.82      0.85      0.83      3174\n",
            "          10       0.76      0.84      0.80       463\n",
            "          11       0.90      0.94      0.92      1896\n",
            "\n",
            "    accuracy                           0.83     15191\n",
            "   macro avg       0.81      0.80      0.80     15191\n",
            "weighted avg       0.83      0.83      0.83     15191\n",
            "\n"
          ],
          "name": "stdout"
        }
      ]
    },
    {
      "cell_type": "code",
      "metadata": {
        "id": "q1Zp0pLni-dF"
      },
      "source": [
        "from sklearn.feature_extraction.text import TfidfVectorizer\n",
        "tfidf = TfidfVectorizer()\n",
        "x_train = tfidf.fit_transform(xtrain)\n",
        "x_test = tfidf.transform(xtest)"
      ],
      "execution_count": null,
      "outputs": []
    },
    {
      "cell_type": "code",
      "metadata": {
        "colab": {
          "base_uri": "https://localhost:8080/"
        },
        "id": "Gew50t_ZxM3s",
        "outputId": "3d248b93-7dc6-4f80-d773-968624af5ca7"
      },
      "source": [
        "from sklearn.neighbors import KNeighborsClassifier\n",
        "neigh = KNeighborsClassifier(n_neighbors=1)\n",
        "neigh.fit(x_train, ytrain)"
      ],
      "execution_count": null,
      "outputs": [
        {
          "output_type": "execute_result",
          "data": {
            "text/plain": [
              "KNeighborsClassifier(algorithm='auto', leaf_size=30, metric='minkowski',\n",
              "                     metric_params=None, n_jobs=None, n_neighbors=1, p=2,\n",
              "                     weights='uniform')"
            ]
          },
          "metadata": {},
          "execution_count": 30
        }
      ]
    },
    {
      "cell_type": "code",
      "metadata": {
        "colab": {
          "base_uri": "https://localhost:8080/"
        },
        "id": "CNbfJ_GNxiRV",
        "outputId": "2ed6ae93-96d2-4011-9767-cccf636b91ec"
      },
      "source": [
        "y_predk = neigh.predict(x_test)\n",
        "confusion_matrix(ytest, y_predk)"
      ],
      "execution_count": null,
      "outputs": [
        {
          "output_type": "execute_result",
          "data": {
            "text/plain": [
              "array([[ 411,    4,   29,    1,  486,    8,   15,    9,    7,   26,    4,\n",
              "           7],\n",
              "       [   2,   35,    6,    0,  211,  110,    4,    4,   16,   15,    4,\n",
              "          16],\n",
              "       [  52,   11,  455,    3,  683,   23,   16,    6,   24,   83,    4,\n",
              "          12],\n",
              "       [   3,    0,    3,  338,  144,    3,    7,    2,   17,   18,    6,\n",
              "           5],\n",
              "       [   4,   11,   19,   10, 1466,   29,   70,    9,   65,  209,    7,\n",
              "          30],\n",
              "       [  12,  105,   19,    4,  637,  664,   16,   12,   18,   45,   12,\n",
              "          39],\n",
              "       [  13,    3,   11,    7,  295,   12,  213,    4,   27,   87,    4,\n",
              "          12],\n",
              "       [   8,    4,    5,    3,  374,    6,    8,  353,   28,   19,   12,\n",
              "           4],\n",
              "       [   8,   10,   18,   22,  627,   32,   24,   13,  362,  145,    8,\n",
              "          17],\n",
              "       [  27,    9,   79,   16,  834,   49,  108,   14,  156, 1847,    7,\n",
              "          28],\n",
              "       [   8,    5,    3,   19,  177,   16,    4,    4,   13,    6,  203,\n",
              "           5],\n",
              "       [  20,   15,   12,    5,  799,   36,    9,   13,   12,   44,    8,\n",
              "         923]])"
            ]
          },
          "metadata": {},
          "execution_count": 31
        }
      ]
    },
    {
      "cell_type": "code",
      "metadata": {
        "colab": {
          "base_uri": "https://localhost:8080/"
        },
        "id": "Zab7pNKdxv0Y",
        "outputId": "9473719c-6cd6-4091-fc9e-52269f2f24c7"
      },
      "source": [
        "print(classification_report(ytest, y_predk))"
      ],
      "execution_count": null,
      "outputs": [
        {
          "output_type": "stream",
          "name": "stdout",
          "text": [
            "              precision    recall  f1-score   support\n",
            "\n",
            "           0       0.72      0.41      0.52      1007\n",
            "           1       0.17      0.08      0.11       423\n",
            "           2       0.69      0.33      0.45      1372\n",
            "           3       0.79      0.62      0.69       546\n",
            "           4       0.22      0.76      0.34      1929\n",
            "           5       0.67      0.42      0.52      1583\n",
            "           6       0.43      0.31      0.36       688\n",
            "           7       0.80      0.43      0.56       824\n",
            "           8       0.49      0.28      0.36      1286\n",
            "           9       0.73      0.58      0.65      3174\n",
            "          10       0.73      0.44      0.55       463\n",
            "          11       0.84      0.49      0.62      1896\n",
            "\n",
            "    accuracy                           0.48     15191\n",
            "   macro avg       0.61      0.43      0.48     15191\n",
            "weighted avg       0.62      0.48      0.51     15191\n",
            "\n"
          ]
        }
      ]
    },
    {
      "cell_type": "code",
      "metadata": {
        "colab": {
          "base_uri": "https://localhost:8080/"
        },
        "id": "vSeb1k3j7Qqu",
        "outputId": "79135a89-89f8-4313-aefe-47f8c38c7137"
      },
      "source": [
        "import lightgbm as lgb\n",
        "lg = lgb.LGBMClassifier()\n",
        "lg.fit(x_train, ytrain)"
      ],
      "execution_count": null,
      "outputs": [
        {
          "output_type": "execute_result",
          "data": {
            "text/plain": [
              "LGBMClassifier(boosting_type='gbdt', class_weight=None, colsample_bytree=1.0,\n",
              "               importance_type='split', learning_rate=0.1, max_depth=-1,\n",
              "               min_child_samples=20, min_child_weight=0.001, min_split_gain=0.0,\n",
              "               n_estimators=100, n_jobs=-1, num_leaves=31, objective=None,\n",
              "               random_state=None, reg_alpha=0.0, reg_lambda=0.0, silent=True,\n",
              "               subsample=1.0, subsample_for_bin=200000, subsample_freq=0)"
            ]
          },
          "metadata": {},
          "execution_count": 34
        }
      ]
    },
    {
      "cell_type": "code",
      "metadata": {
        "colab": {
          "base_uri": "https://localhost:8080/"
        },
        "id": "XOV9Vn4U8LYu",
        "outputId": "b487cb8d-808d-48c1-bb9e-bdb89789f144"
      },
      "source": [
        "y_predlg = lg.predict(x_test)\n",
        "confusion_matrix(ytest, y_predlg)"
      ],
      "execution_count": null,
      "outputs": [
        {
          "output_type": "execute_result",
          "data": {
            "text/plain": [
              "array([[ 858,    4,   48,    0,   22,    5,    9,    9,   10,   31,    0,\n",
              "          11],\n",
              "       [   4,  157,   12,    1,   15,  158,    1,    7,   31,   11,    4,\n",
              "          22],\n",
              "       [  46,    7, 1056,    7,   37,   28,   10,   16,   24,  129,    0,\n",
              "          12],\n",
              "       [   0,    1,    3,  433,   12,    9,    4,    9,   26,   32,   15,\n",
              "           2],\n",
              "       [  23,   17,   33,    6, 1364,   41,   37,   28,   67,  244,   15,\n",
              "          54],\n",
              "       [  13,   78,   33,    0,   47, 1294,    1,   12,   21,   35,   14,\n",
              "          35],\n",
              "       [  14,    4,   20,    8,  129,   18,  288,   11,   43,  131,    5,\n",
              "          17],\n",
              "       [  12,    5,   15,   12,   15,   17,    4,  628,   36,   30,   18,\n",
              "          32],\n",
              "       [   8,   23,   13,   11,   83,   44,   21,   11,  928,  109,    7,\n",
              "          28],\n",
              "       [  21,    4,   53,   23,  105,   35,   21,   16,   81, 2789,    3,\n",
              "          23],\n",
              "       [   9,    6,   13,   15,   18,   33,    2,   18,   12,    9,  324,\n",
              "           4],\n",
              "       [  22,   15,   20,    4,   43,   52,    2,   20,   11,   50,   10,\n",
              "        1647]])"
            ]
          },
          "metadata": {},
          "execution_count": 35
        }
      ]
    },
    {
      "cell_type": "code",
      "metadata": {
        "colab": {
          "base_uri": "https://localhost:8080/"
        },
        "id": "wI-uD0HW8WgZ",
        "outputId": "3dcda319-ba4e-4525-ddde-50478a78451a"
      },
      "source": [
        "print(classification_report(ytest, y_predlg))"
      ],
      "execution_count": null,
      "outputs": [
        {
          "output_type": "stream",
          "name": "stdout",
          "text": [
            "              precision    recall  f1-score   support\n",
            "\n",
            "           0       0.83      0.85      0.84      1007\n",
            "           1       0.49      0.37      0.42       423\n",
            "           2       0.80      0.77      0.78      1372\n",
            "           3       0.83      0.79      0.81       546\n",
            "           4       0.72      0.71      0.71      1929\n",
            "           5       0.75      0.82      0.78      1583\n",
            "           6       0.72      0.42      0.53       688\n",
            "           7       0.80      0.76      0.78       824\n",
            "           8       0.72      0.72      0.72      1286\n",
            "           9       0.77      0.88      0.82      3174\n",
            "          10       0.78      0.70      0.74       463\n",
            "          11       0.87      0.87      0.87      1896\n",
            "\n",
            "    accuracy                           0.77     15191\n",
            "   macro avg       0.76      0.72      0.73     15191\n",
            "weighted avg       0.77      0.77      0.77     15191\n",
            "\n"
          ]
        }
      ]
    },
    {
      "cell_type": "code",
      "metadata": {
        "colab": {
          "base_uri": "https://localhost:8080/"
        },
        "id": "IyrHOE4Z8YsN",
        "outputId": "ca29c0c1-ca98-4df8-eaab-d9c8560cef99"
      },
      "source": [
        "lg.score(x_train, ytrain)"
      ],
      "execution_count": null,
      "outputs": [
        {
          "output_type": "execute_result",
          "data": {
            "text/plain": [
              "0.85775181040158"
            ]
          },
          "metadata": {},
          "execution_count": 37
        }
      ]
    },
    {
      "cell_type": "code",
      "metadata": {
        "colab": {
          "base_uri": "https://localhost:8080/"
        },
        "id": "ejBPPNZa_K0K",
        "outputId": "8dd7527e-1204-4702-ed39-a7247a1ce988"
      },
      "source": [
        "!pip install catboost\n",
        "from catboost import CatBoostClassifier\n",
        "cat = CatBoostClassifier()\n",
        "cat.fit(x_train, ytrain)"
      ],
      "execution_count": null,
      "outputs": [
        {
          "output_type": "stream",
          "name": "stdout",
          "text": [
            "Requirement already satisfied: catboost in /usr/local/lib/python3.7/dist-packages (0.26.1)\n",
            "Requirement already satisfied: scipy in /usr/local/lib/python3.7/dist-packages (from catboost) (1.4.1)\n",
            "Requirement already satisfied: plotly in /usr/local/lib/python3.7/dist-packages (from catboost) (4.4.1)\n",
            "Requirement already satisfied: matplotlib in /usr/local/lib/python3.7/dist-packages (from catboost) (3.2.2)\n",
            "Requirement already satisfied: pandas>=0.24.0 in /usr/local/lib/python3.7/dist-packages (from catboost) (1.1.5)\n",
            "Requirement already satisfied: graphviz in /usr/local/lib/python3.7/dist-packages (from catboost) (0.10.1)\n",
            "Requirement already satisfied: six in /usr/local/lib/python3.7/dist-packages (from catboost) (1.15.0)\n",
            "Requirement already satisfied: numpy>=1.16.0 in /usr/local/lib/python3.7/dist-packages (from catboost) (1.19.5)\n",
            "Requirement already satisfied: pytz>=2017.2 in /usr/local/lib/python3.7/dist-packages (from pandas>=0.24.0->catboost) (2018.9)\n",
            "Requirement already satisfied: python-dateutil>=2.7.3 in /usr/local/lib/python3.7/dist-packages (from pandas>=0.24.0->catboost) (2.8.2)\n",
            "Requirement already satisfied: kiwisolver>=1.0.1 in /usr/local/lib/python3.7/dist-packages (from matplotlib->catboost) (1.3.1)\n",
            "Requirement already satisfied: pyparsing!=2.0.4,!=2.1.2,!=2.1.6,>=2.0.1 in /usr/local/lib/python3.7/dist-packages (from matplotlib->catboost) (2.4.7)\n",
            "Requirement already satisfied: cycler>=0.10 in /usr/local/lib/python3.7/dist-packages (from matplotlib->catboost) (0.10.0)\n",
            "Requirement already satisfied: retrying>=1.3.3 in /usr/local/lib/python3.7/dist-packages (from plotly->catboost) (1.3.3)\n",
            "Learning rate set to 0.097564\n",
            "0:\tlearn: 2.2699386\ttotal: 21.6s\tremaining: 5h 58m 49s\n",
            "1:\tlearn: 2.1530623\ttotal: 42.1s\tremaining: 5h 50m 3s\n",
            "2:\tlearn: 2.0766437\ttotal: 1m 2s\tremaining: 5h 47m 51s\n",
            "3:\tlearn: 2.0121169\ttotal: 1m 23s\tremaining: 5h 46m 48s\n",
            "4:\tlearn: 1.9603358\ttotal: 1m 44s\tremaining: 5h 45m 40s\n",
            "5:\tlearn: 1.9064500\ttotal: 2m 4s\tremaining: 5h 44m 34s\n",
            "6:\tlearn: 1.8599243\ttotal: 2m 25s\tremaining: 5h 43m 27s\n",
            "7:\tlearn: 1.8163870\ttotal: 2m 45s\tremaining: 5h 42m 32s\n",
            "8:\tlearn: 1.7829235\ttotal: 3m 6s\tremaining: 5h 41m 54s\n",
            "9:\tlearn: 1.7574104\ttotal: 3m 26s\tremaining: 5h 41m 31s\n",
            "10:\tlearn: 1.7289161\ttotal: 3m 47s\tremaining: 5h 40m 54s\n",
            "11:\tlearn: 1.6953312\ttotal: 4m 7s\tremaining: 5h 40m 14s\n",
            "12:\tlearn: 1.6669501\ttotal: 4m 28s\tremaining: 5h 39m 56s\n",
            "13:\tlearn: 1.6477069\ttotal: 4m 49s\tremaining: 5h 39m 42s\n",
            "14:\tlearn: 1.6264363\ttotal: 5m 9s\tremaining: 5h 39m 11s\n",
            "15:\tlearn: 1.6070614\ttotal: 5m 30s\tremaining: 5h 38m 38s\n",
            "16:\tlearn: 1.5890745\ttotal: 5m 50s\tremaining: 5h 38m 14s\n",
            "17:\tlearn: 1.5660780\ttotal: 6m 11s\tremaining: 5h 37m 50s\n",
            "18:\tlearn: 1.5497866\ttotal: 6m 32s\tremaining: 5h 37m 30s\n",
            "19:\tlearn: 1.5348343\ttotal: 6m 53s\tremaining: 5h 37m 22s\n",
            "20:\tlearn: 1.5202990\ttotal: 7m 14s\tremaining: 5h 37m 39s\n",
            "21:\tlearn: 1.5067140\ttotal: 7m 35s\tremaining: 5h 37m 22s\n",
            "22:\tlearn: 1.4909219\ttotal: 7m 55s\tremaining: 5h 36m 57s\n",
            "23:\tlearn: 1.4800904\ttotal: 8m 16s\tremaining: 5h 36m 33s\n",
            "24:\tlearn: 1.4671879\ttotal: 8m 37s\tremaining: 5h 36m 12s\n",
            "25:\tlearn: 1.4560318\ttotal: 8m 59s\tremaining: 5h 36m 46s\n",
            "26:\tlearn: 1.4391106\ttotal: 9m 20s\tremaining: 5h 36m 26s\n",
            "27:\tlearn: 1.4218486\ttotal: 9m 40s\tremaining: 5h 35m 58s\n",
            "28:\tlearn: 1.4098191\ttotal: 10m 1s\tremaining: 5h 35m 40s\n",
            "29:\tlearn: 1.4000737\ttotal: 10m 22s\tremaining: 5h 35m 21s\n",
            "30:\tlearn: 1.3926107\ttotal: 10m 42s\tremaining: 5h 34m 56s\n",
            "31:\tlearn: 1.3831910\ttotal: 11m 3s\tremaining: 5h 34m 41s\n",
            "32:\tlearn: 1.3731443\ttotal: 11m 25s\tremaining: 5h 34m 36s\n",
            "33:\tlearn: 1.3652605\ttotal: 11m 46s\tremaining: 5h 34m 26s\n",
            "34:\tlearn: 1.3548613\ttotal: 12m 6s\tremaining: 5h 34m 4s\n",
            "35:\tlearn: 1.3455037\ttotal: 12m 28s\tremaining: 5h 33m 50s\n",
            "36:\tlearn: 1.3385478\ttotal: 12m 49s\tremaining: 5h 33m 36s\n",
            "37:\tlearn: 1.3328592\ttotal: 13m 9s\tremaining: 5h 33m 19s\n",
            "38:\tlearn: 1.3253963\ttotal: 13m 31s\tremaining: 5h 33m 11s\n",
            "39:\tlearn: 1.3193236\ttotal: 13m 52s\tremaining: 5h 33m\n",
            "40:\tlearn: 1.3127625\ttotal: 14m 13s\tremaining: 5h 32m 46s\n",
            "41:\tlearn: 1.3039144\ttotal: 14m 34s\tremaining: 5h 32m 22s\n",
            "42:\tlearn: 1.2977939\ttotal: 14m 55s\tremaining: 5h 32m 5s\n",
            "43:\tlearn: 1.2928268\ttotal: 15m 16s\tremaining: 5h 31m 51s\n",
            "44:\tlearn: 1.2863522\ttotal: 15m 37s\tremaining: 5h 31m 35s\n",
            "45:\tlearn: 1.2818057\ttotal: 15m 58s\tremaining: 5h 31m 22s\n",
            "46:\tlearn: 1.2740691\ttotal: 16m 19s\tremaining: 5h 31m 4s\n",
            "47:\tlearn: 1.2672535\ttotal: 16m 40s\tremaining: 5h 30m 46s\n",
            "48:\tlearn: 1.2611550\ttotal: 17m 1s\tremaining: 5h 30m 29s\n",
            "49:\tlearn: 1.2569145\ttotal: 17m 22s\tremaining: 5h 30m 10s\n",
            "50:\tlearn: 1.2524229\ttotal: 17m 43s\tremaining: 5h 29m 53s\n",
            "51:\tlearn: 1.2475590\ttotal: 18m 4s\tremaining: 5h 29m 38s\n",
            "52:\tlearn: 1.2425240\ttotal: 18m 25s\tremaining: 5h 29m 21s\n",
            "53:\tlearn: 1.2373107\ttotal: 18m 46s\tremaining: 5h 28m 59s\n",
            "54:\tlearn: 1.2340289\ttotal: 19m 9s\tremaining: 5h 29m 9s\n",
            "55:\tlearn: 1.2296205\ttotal: 19m 30s\tremaining: 5h 28m 52s\n",
            "56:\tlearn: 1.2248288\ttotal: 19m 51s\tremaining: 5h 28m 31s\n",
            "57:\tlearn: 1.2204605\ttotal: 20m 12s\tremaining: 5h 28m 12s\n",
            "58:\tlearn: 1.2160397\ttotal: 20m 33s\tremaining: 5h 27m 52s\n",
            "59:\tlearn: 1.2119459\ttotal: 20m 54s\tremaining: 5h 27m 32s\n",
            "60:\tlearn: 1.2084906\ttotal: 21m 15s\tremaining: 5h 27m 16s\n",
            "61:\tlearn: 1.2032723\ttotal: 21m 36s\tremaining: 5h 26m 57s\n",
            "62:\tlearn: 1.1991098\ttotal: 21m 57s\tremaining: 5h 26m 34s\n",
            "63:\tlearn: 1.1953442\ttotal: 22m 18s\tremaining: 5h 26m 16s\n",
            "64:\tlearn: 1.1927620\ttotal: 22m 39s\tremaining: 5h 25m 55s\n",
            "65:\tlearn: 1.1892046\ttotal: 23m\tremaining: 5h 25m 38s\n",
            "66:\tlearn: 1.1834177\ttotal: 23m 22s\tremaining: 5h 25m 29s\n",
            "67:\tlearn: 1.1788850\ttotal: 23m 43s\tremaining: 5h 25m 9s\n",
            "68:\tlearn: 1.1747243\ttotal: 24m 4s\tremaining: 5h 24m 48s\n",
            "69:\tlearn: 1.1708368\ttotal: 24m 25s\tremaining: 5h 24m 28s\n",
            "70:\tlearn: 1.1663077\ttotal: 24m 46s\tremaining: 5h 24m 4s\n",
            "71:\tlearn: 1.1634736\ttotal: 25m 7s\tremaining: 5h 23m 46s\n",
            "72:\tlearn: 1.1595491\ttotal: 25m 28s\tremaining: 5h 23m 23s\n",
            "73:\tlearn: 1.1556860\ttotal: 25m 49s\tremaining: 5h 23m 4s\n",
            "74:\tlearn: 1.1524698\ttotal: 26m 10s\tremaining: 5h 22m 43s\n",
            "75:\tlearn: 1.1496963\ttotal: 26m 31s\tremaining: 5h 22m 23s\n",
            "76:\tlearn: 1.1462337\ttotal: 26m 51s\tremaining: 5h 22m 2s\n",
            "77:\tlearn: 1.1426366\ttotal: 27m 12s\tremaining: 5h 21m 42s\n",
            "78:\tlearn: 1.1396808\ttotal: 27m 33s\tremaining: 5h 21m 20s\n",
            "79:\tlearn: 1.1374084\ttotal: 27m 54s\tremaining: 5h 21m\n",
            "80:\tlearn: 1.1345455\ttotal: 28m 15s\tremaining: 5h 20m 36s\n",
            "81:\tlearn: 1.1315040\ttotal: 28m 36s\tremaining: 5h 20m 16s\n",
            "82:\tlearn: 1.1292159\ttotal: 28m 57s\tremaining: 5h 19m 54s\n",
            "83:\tlearn: 1.1261352\ttotal: 29m 20s\tremaining: 5h 20m\n",
            "84:\tlearn: 1.1225300\ttotal: 29m 41s\tremaining: 5h 19m 34s\n",
            "85:\tlearn: 1.1186124\ttotal: 30m 2s\tremaining: 5h 19m 12s\n",
            "86:\tlearn: 1.1163690\ttotal: 30m 22s\tremaining: 5h 18m 48s\n",
            "87:\tlearn: 1.1141604\ttotal: 30m 43s\tremaining: 5h 18m 27s\n",
            "88:\tlearn: 1.1113226\ttotal: 31m 4s\tremaining: 5h 18m 4s\n",
            "89:\tlearn: 1.1094325\ttotal: 31m 25s\tremaining: 5h 17m 43s\n",
            "90:\tlearn: 1.1065149\ttotal: 31m 46s\tremaining: 5h 17m 19s\n",
            "91:\tlearn: 1.1038798\ttotal: 32m 6s\tremaining: 5h 16m 56s\n",
            "92:\tlearn: 1.1017115\ttotal: 32m 27s\tremaining: 5h 16m 36s\n",
            "93:\tlearn: 1.0990033\ttotal: 32m 48s\tremaining: 5h 16m 14s\n",
            "94:\tlearn: 1.0964910\ttotal: 33m 9s\tremaining: 5h 15m 50s\n",
            "95:\tlearn: 1.0943631\ttotal: 33m 30s\tremaining: 5h 15m 27s\n",
            "96:\tlearn: 1.0907824\ttotal: 33m 50s\tremaining: 5h 15m 3s\n",
            "97:\tlearn: 1.0879363\ttotal: 34m 11s\tremaining: 5h 14m 38s\n",
            "98:\tlearn: 1.0848899\ttotal: 34m 31s\tremaining: 5h 14m 15s\n",
            "99:\tlearn: 1.0821002\ttotal: 34m 52s\tremaining: 5h 13m 52s\n",
            "100:\tlearn: 1.0792242\ttotal: 35m 13s\tremaining: 5h 13m 31s\n",
            "101:\tlearn: 1.0764176\ttotal: 35m 34s\tremaining: 5h 13m 8s\n",
            "102:\tlearn: 1.0744021\ttotal: 35m 54s\tremaining: 5h 12m 45s\n",
            "103:\tlearn: 1.0718529\ttotal: 36m 15s\tremaining: 5h 12m 23s\n",
            "104:\tlearn: 1.0694926\ttotal: 36m 36s\tremaining: 5h 12m\n",
            "105:\tlearn: 1.0671147\ttotal: 36m 57s\tremaining: 5h 11m 38s\n",
            "106:\tlearn: 1.0652448\ttotal: 37m 17s\tremaining: 5h 11m 17s\n",
            "107:\tlearn: 1.0632779\ttotal: 37m 38s\tremaining: 5h 10m 56s\n",
            "108:\tlearn: 1.0613598\ttotal: 37m 59s\tremaining: 5h 10m 35s\n",
            "109:\tlearn: 1.0591042\ttotal: 38m 20s\tremaining: 5h 10m 13s\n",
            "110:\tlearn: 1.0554718\ttotal: 38m 41s\tremaining: 5h 9m 50s\n",
            "111:\tlearn: 1.0535202\ttotal: 39m 2s\tremaining: 5h 9m 28s\n",
            "112:\tlearn: 1.0517600\ttotal: 39m 25s\tremaining: 5h 9m 30s\n",
            "113:\tlearn: 1.0492560\ttotal: 39m 46s\tremaining: 5h 9m 7s\n",
            "114:\tlearn: 1.0471364\ttotal: 40m 7s\tremaining: 5h 8m 47s\n",
            "115:\tlearn: 1.0446011\ttotal: 40m 27s\tremaining: 5h 8m 22s\n",
            "116:\tlearn: 1.0421960\ttotal: 40m 48s\tremaining: 5h 8m 1s\n",
            "117:\tlearn: 1.0398685\ttotal: 41m 9s\tremaining: 5h 7m 39s\n",
            "118:\tlearn: 1.0384393\ttotal: 41m 30s\tremaining: 5h 7m 20s\n",
            "119:\tlearn: 1.0362646\ttotal: 41m 51s\tremaining: 5h 7m\n",
            "120:\tlearn: 1.0352103\ttotal: 42m 12s\tremaining: 5h 6m 40s\n",
            "121:\tlearn: 1.0335310\ttotal: 42m 33s\tremaining: 5h 6m 19s\n",
            "122:\tlearn: 1.0321999\ttotal: 42m 54s\tremaining: 5h 5m 58s\n",
            "123:\tlearn: 1.0306208\ttotal: 43m 16s\tremaining: 5h 5m 40s\n",
            "124:\tlearn: 1.0290526\ttotal: 43m 37s\tremaining: 5h 5m 20s\n",
            "125:\tlearn: 1.0260871\ttotal: 43m 58s\tremaining: 5h 4m 59s\n",
            "126:\tlearn: 1.0234918\ttotal: 44m 18s\tremaining: 5h 4m 37s\n",
            "127:\tlearn: 1.0215677\ttotal: 44m 40s\tremaining: 5h 4m 17s\n",
            "128:\tlearn: 1.0196914\ttotal: 45m\tremaining: 5h 3m 56s\n",
            "129:\tlearn: 1.0183966\ttotal: 45m 22s\tremaining: 5h 3m 36s\n",
            "130:\tlearn: 1.0166776\ttotal: 45m 43s\tremaining: 5h 3m 16s\n",
            "131:\tlearn: 1.0150911\ttotal: 46m 4s\tremaining: 5h 2m 55s\n",
            "132:\tlearn: 1.0127119\ttotal: 46m 24s\tremaining: 5h 2m 34s\n",
            "133:\tlearn: 1.0112696\ttotal: 46m 45s\tremaining: 5h 2m 13s\n",
            "134:\tlearn: 1.0092695\ttotal: 47m 6s\tremaining: 5h 1m 51s\n",
            "135:\tlearn: 1.0075330\ttotal: 47m 27s\tremaining: 5h 1m 31s\n",
            "136:\tlearn: 1.0058587\ttotal: 47m 48s\tremaining: 5h 1m 10s\n",
            "137:\tlearn: 1.0032421\ttotal: 48m 9s\tremaining: 5h 48s\n",
            "138:\tlearn: 1.0012324\ttotal: 48m 30s\tremaining: 5h 27s\n",
            "139:\tlearn: 0.9993707\ttotal: 48m 50s\tremaining: 5h 4s\n",
            "140:\tlearn: 0.9975994\ttotal: 49m 11s\tremaining: 4h 59m 42s\n",
            "141:\tlearn: 0.9957616\ttotal: 49m 36s\tremaining: 4h 59m 42s\n",
            "142:\tlearn: 0.9943951\ttotal: 49m 56s\tremaining: 4h 59m 20s\n",
            "143:\tlearn: 0.9928177\ttotal: 50m 17s\tremaining: 4h 58m 59s\n",
            "144:\tlearn: 0.9906803\ttotal: 50m 38s\tremaining: 4h 58m 37s\n",
            "145:\tlearn: 0.9888387\ttotal: 50m 59s\tremaining: 4h 58m 15s\n",
            "146:\tlearn: 0.9870163\ttotal: 51m 21s\tremaining: 4h 57m 59s\n",
            "147:\tlearn: 0.9854754\ttotal: 51m 42s\tremaining: 4h 57m 38s\n",
            "148:\tlearn: 0.9844375\ttotal: 52m 3s\tremaining: 4h 57m 17s\n",
            "149:\tlearn: 0.9826278\ttotal: 52m 23s\tremaining: 4h 56m 55s\n",
            "150:\tlearn: 0.9810670\ttotal: 52m 44s\tremaining: 4h 56m 34s\n",
            "151:\tlearn: 0.9797884\ttotal: 53m 5s\tremaining: 4h 56m 13s\n",
            "152:\tlearn: 0.9779065\ttotal: 53m 26s\tremaining: 4h 55m 50s\n",
            "153:\tlearn: 0.9763366\ttotal: 53m 47s\tremaining: 4h 55m 29s\n",
            "154:\tlearn: 0.9749655\ttotal: 54m 8s\tremaining: 4h 55m 8s\n",
            "155:\tlearn: 0.9736664\ttotal: 54m 29s\tremaining: 4h 54m 47s\n",
            "156:\tlearn: 0.9719706\ttotal: 54m 50s\tremaining: 4h 54m 26s\n",
            "157:\tlearn: 0.9707695\ttotal: 55m 11s\tremaining: 4h 54m 5s\n",
            "158:\tlearn: 0.9698420\ttotal: 55m 32s\tremaining: 4h 53m 45s\n",
            "159:\tlearn: 0.9682722\ttotal: 55m 53s\tremaining: 4h 53m 24s\n",
            "160:\tlearn: 0.9670424\ttotal: 56m 14s\tremaining: 4h 53m 2s\n",
            "161:\tlearn: 0.9652704\ttotal: 56m 35s\tremaining: 4h 52m 41s\n",
            "162:\tlearn: 0.9637231\ttotal: 56m 55s\tremaining: 4h 52m 20s\n",
            "163:\tlearn: 0.9620932\ttotal: 57m 16s\tremaining: 4h 51m 58s\n",
            "164:\tlearn: 0.9607796\ttotal: 57m 37s\tremaining: 4h 51m 37s\n",
            "165:\tlearn: 0.9598310\ttotal: 57m 58s\tremaining: 4h 51m 16s\n",
            "166:\tlearn: 0.9587012\ttotal: 58m 19s\tremaining: 4h 50m 55s\n",
            "167:\tlearn: 0.9575348\ttotal: 58m 40s\tremaining: 4h 50m 34s\n",
            "168:\tlearn: 0.9562134\ttotal: 59m 1s\tremaining: 4h 50m 13s\n",
            "169:\tlearn: 0.9544876\ttotal: 59m 22s\tremaining: 4h 49m 52s\n",
            "170:\tlearn: 0.9533627\ttotal: 59m 46s\tremaining: 4h 49m 46s\n",
            "171:\tlearn: 0.9523861\ttotal: 1h 7s\tremaining: 4h 49m 26s\n",
            "172:\tlearn: 0.9509925\ttotal: 1h 28s\tremaining: 4h 49m 5s\n",
            "173:\tlearn: 0.9491786\ttotal: 1h 49s\tremaining: 4h 48m 43s\n",
            "174:\tlearn: 0.9476874\ttotal: 1h 1m 10s\tremaining: 4h 48m 21s\n",
            "175:\tlearn: 0.9460441\ttotal: 1h 1m 30s\tremaining: 4h 48m\n",
            "176:\tlearn: 0.9448758\ttotal: 1h 1m 51s\tremaining: 4h 47m 39s\n",
            "177:\tlearn: 0.9436251\ttotal: 1h 2m 12s\tremaining: 4h 47m 18s\n",
            "178:\tlearn: 0.9423016\ttotal: 1h 2m 33s\tremaining: 4h 46m 57s\n",
            "179:\tlearn: 0.9407385\ttotal: 1h 2m 54s\tremaining: 4h 46m 35s\n",
            "180:\tlearn: 0.9396408\ttotal: 1h 3m 15s\tremaining: 4h 46m 13s\n",
            "181:\tlearn: 0.9384939\ttotal: 1h 3m 36s\tremaining: 4h 45m 51s\n",
            "182:\tlearn: 0.9365413\ttotal: 1h 3m 56s\tremaining: 4h 45m 29s\n",
            "183:\tlearn: 0.9347515\ttotal: 1h 4m 17s\tremaining: 4h 45m 8s\n",
            "184:\tlearn: 0.9337098\ttotal: 1h 4m 38s\tremaining: 4h 44m 47s\n",
            "185:\tlearn: 0.9318722\ttotal: 1h 4m 59s\tremaining: 4h 44m 25s\n",
            "186:\tlearn: 0.9308258\ttotal: 1h 5m 20s\tremaining: 4h 44m 4s\n",
            "187:\tlearn: 0.9294784\ttotal: 1h 5m 41s\tremaining: 4h 43m 42s\n",
            "188:\tlearn: 0.9281861\ttotal: 1h 6m 2s\tremaining: 4h 43m 21s\n",
            "189:\tlearn: 0.9271256\ttotal: 1h 6m 23s\tremaining: 4h 43m 1s\n",
            "190:\tlearn: 0.9264420\ttotal: 1h 6m 44s\tremaining: 4h 42m 40s\n",
            "191:\tlearn: 0.9247849\ttotal: 1h 7m 5s\tremaining: 4h 42m 18s\n",
            "192:\tlearn: 0.9234623\ttotal: 1h 7m 25s\tremaining: 4h 41m 57s\n",
            "193:\tlearn: 0.9226033\ttotal: 1h 7m 46s\tremaining: 4h 41m 35s\n",
            "194:\tlearn: 0.9219092\ttotal: 1h 8m 7s\tremaining: 4h 41m 15s\n",
            "195:\tlearn: 0.9205871\ttotal: 1h 8m 28s\tremaining: 4h 40m 53s\n",
            "196:\tlearn: 0.9193030\ttotal: 1h 8m 49s\tremaining: 4h 40m 32s\n",
            "197:\tlearn: 0.9182731\ttotal: 1h 9m 10s\tremaining: 4h 40m 11s\n",
            "198:\tlearn: 0.9173877\ttotal: 1h 9m 31s\tremaining: 4h 39m 49s\n",
            "199:\tlearn: 0.9159372\ttotal: 1h 9m 55s\tremaining: 4h 39m 41s\n",
            "200:\tlearn: 0.9149819\ttotal: 1h 10m 16s\tremaining: 4h 39m 19s\n",
            "201:\tlearn: 0.9139675\ttotal: 1h 10m 36s\tremaining: 4h 38m 58s\n",
            "202:\tlearn: 0.9126458\ttotal: 1h 10m 57s\tremaining: 4h 38m 36s\n",
            "203:\tlearn: 0.9114619\ttotal: 1h 11m 18s\tremaining: 4h 38m 15s\n",
            "204:\tlearn: 0.9104890\ttotal: 1h 11m 39s\tremaining: 4h 37m 53s\n",
            "205:\tlearn: 0.9094630\ttotal: 1h 12m\tremaining: 4h 37m 32s\n",
            "206:\tlearn: 0.9083736\ttotal: 1h 12m 21s\tremaining: 4h 37m 10s\n",
            "207:\tlearn: 0.9071866\ttotal: 1h 12m 42s\tremaining: 4h 36m 49s\n",
            "208:\tlearn: 0.9064314\ttotal: 1h 13m 3s\tremaining: 4h 36m 28s\n",
            "209:\tlearn: 0.9057365\ttotal: 1h 13m 24s\tremaining: 4h 36m 7s\n",
            "210:\tlearn: 0.9048747\ttotal: 1h 13m 44s\tremaining: 4h 35m 46s\n",
            "211:\tlearn: 0.9040449\ttotal: 1h 14m 5s\tremaining: 4h 35m 25s\n",
            "212:\tlearn: 0.9031084\ttotal: 1h 14m 26s\tremaining: 4h 35m 4s\n",
            "213:\tlearn: 0.9022756\ttotal: 1h 14m 47s\tremaining: 4h 34m 43s\n",
            "214:\tlearn: 0.9013274\ttotal: 1h 15m 8s\tremaining: 4h 34m 22s\n",
            "215:\tlearn: 0.9005093\ttotal: 1h 15m 30s\tremaining: 4h 34m 2s\n",
            "216:\tlearn: 0.8993926\ttotal: 1h 15m 51s\tremaining: 4h 33m 41s\n",
            "217:\tlearn: 0.8985632\ttotal: 1h 16m 12s\tremaining: 4h 33m 21s\n",
            "218:\tlearn: 0.8979232\ttotal: 1h 16m 33s\tremaining: 4h 33m 1s\n",
            "219:\tlearn: 0.8972797\ttotal: 1h 16m 54s\tremaining: 4h 32m 41s\n",
            "220:\tlearn: 0.8965286\ttotal: 1h 17m 15s\tremaining: 4h 32m 20s\n",
            "221:\tlearn: 0.8956465\ttotal: 1h 17m 36s\tremaining: 4h 31m 59s\n",
            "222:\tlearn: 0.8943054\ttotal: 1h 17m 57s\tremaining: 4h 31m 37s\n",
            "223:\tlearn: 0.8938187\ttotal: 1h 18m 18s\tremaining: 4h 31m 17s\n",
            "224:\tlearn: 0.8930363\ttotal: 1h 18m 39s\tremaining: 4h 30m 55s\n",
            "225:\tlearn: 0.8918112\ttotal: 1h 19m\tremaining: 4h 30m 34s\n",
            "226:\tlearn: 0.8915046\ttotal: 1h 19m 21s\tremaining: 4h 30m 13s\n",
            "227:\tlearn: 0.8910962\ttotal: 1h 19m 42s\tremaining: 4h 29m 52s\n",
            "228:\tlearn: 0.8902275\ttotal: 1h 20m 6s\tremaining: 4h 29m 43s\n",
            "229:\tlearn: 0.8892001\ttotal: 1h 20m 27s\tremaining: 4h 29m 22s\n",
            "230:\tlearn: 0.8883981\ttotal: 1h 20m 48s\tremaining: 4h 29m\n",
            "231:\tlearn: 0.8876529\ttotal: 1h 21m 9s\tremaining: 4h 28m 40s\n",
            "232:\tlearn: 0.8872272\ttotal: 1h 21m 30s\tremaining: 4h 28m 19s\n",
            "233:\tlearn: 0.8863828\ttotal: 1h 21m 51s\tremaining: 4h 27m 58s\n",
            "234:\tlearn: 0.8857207\ttotal: 1h 22m 12s\tremaining: 4h 27m 37s\n",
            "235:\tlearn: 0.8853520\ttotal: 1h 22m 33s\tremaining: 4h 27m 16s\n",
            "236:\tlearn: 0.8843811\ttotal: 1h 22m 54s\tremaining: 4h 26m 54s\n",
            "237:\tlearn: 0.8832303\ttotal: 1h 23m 15s\tremaining: 4h 26m 33s\n",
            "238:\tlearn: 0.8825867\ttotal: 1h 23m 36s\tremaining: 4h 26m 12s\n",
            "239:\tlearn: 0.8816333\ttotal: 1h 23m 56s\tremaining: 4h 25m 50s\n",
            "240:\tlearn: 0.8806605\ttotal: 1h 24m 17s\tremaining: 4h 25m 28s\n",
            "241:\tlearn: 0.8801264\ttotal: 1h 24m 38s\tremaining: 4h 25m 7s\n",
            "242:\tlearn: 0.8794928\ttotal: 1h 24m 59s\tremaining: 4h 24m 45s\n",
            "243:\tlearn: 0.8787149\ttotal: 1h 25m 20s\tremaining: 4h 24m 24s\n",
            "244:\tlearn: 0.8780788\ttotal: 1h 25m 41s\tremaining: 4h 24m 3s\n",
            "245:\tlearn: 0.8771671\ttotal: 1h 26m 1s\tremaining: 4h 23m 41s\n",
            "246:\tlearn: 0.8766546\ttotal: 1h 26m 23s\tremaining: 4h 23m 20s\n",
            "247:\tlearn: 0.8758396\ttotal: 1h 26m 44s\tremaining: 4h 23m\n",
            "248:\tlearn: 0.8752622\ttotal: 1h 27m 5s\tremaining: 4h 22m 39s\n",
            "249:\tlearn: 0.8743002\ttotal: 1h 27m 26s\tremaining: 4h 22m 18s\n",
            "250:\tlearn: 0.8736870\ttotal: 1h 27m 47s\tremaining: 4h 21m 57s\n",
            "251:\tlearn: 0.8727791\ttotal: 1h 28m 8s\tremaining: 4h 21m 36s\n",
            "252:\tlearn: 0.8716895\ttotal: 1h 28m 28s\tremaining: 4h 21m 14s\n",
            "253:\tlearn: 0.8710712\ttotal: 1h 28m 49s\tremaining: 4h 20m 53s\n",
            "254:\tlearn: 0.8705837\ttotal: 1h 29m 10s\tremaining: 4h 20m 32s\n",
            "255:\tlearn: 0.8694057\ttotal: 1h 29m 31s\tremaining: 4h 20m 10s\n",
            "256:\tlearn: 0.8684870\ttotal: 1h 29m 52s\tremaining: 4h 19m 49s\n",
            "257:\tlearn: 0.8671225\ttotal: 1h 30m 16s\tremaining: 4h 19m 37s\n",
            "258:\tlearn: 0.8662815\ttotal: 1h 30m 37s\tremaining: 4h 19m 15s\n",
            "259:\tlearn: 0.8652218\ttotal: 1h 30m 57s\tremaining: 4h 18m 53s\n",
            "260:\tlearn: 0.8644956\ttotal: 1h 31m 18s\tremaining: 4h 18m 32s\n",
            "261:\tlearn: 0.8641789\ttotal: 1h 31m 39s\tremaining: 4h 18m 11s\n",
            "262:\tlearn: 0.8637567\ttotal: 1h 32m\tremaining: 4h 17m 50s\n",
            "263:\tlearn: 0.8629520\ttotal: 1h 32m 21s\tremaining: 4h 17m 29s\n",
            "264:\tlearn: 0.8619951\ttotal: 1h 32m 42s\tremaining: 4h 17m 7s\n",
            "265:\tlearn: 0.8615494\ttotal: 1h 33m 3s\tremaining: 4h 16m 45s\n",
            "266:\tlearn: 0.8611850\ttotal: 1h 33m 24s\tremaining: 4h 16m 25s\n",
            "267:\tlearn: 0.8609881\ttotal: 1h 33m 45s\tremaining: 4h 16m 4s\n",
            "268:\tlearn: 0.8606983\ttotal: 1h 34m 6s\tremaining: 4h 15m 43s\n",
            "269:\tlearn: 0.8600237\ttotal: 1h 34m 27s\tremaining: 4h 15m 22s\n",
            "270:\tlearn: 0.8596878\ttotal: 1h 34m 48s\tremaining: 4h 15m 1s\n",
            "271:\tlearn: 0.8587966\ttotal: 1h 35m 8s\tremaining: 4h 14m 39s\n",
            "272:\tlearn: 0.8580020\ttotal: 1h 35m 29s\tremaining: 4h 14m 18s\n",
            "273:\tlearn: 0.8576444\ttotal: 1h 35m 50s\tremaining: 4h 13m 57s\n",
            "274:\tlearn: 0.8569611\ttotal: 1h 36m 11s\tremaining: 4h 13m 35s\n",
            "275:\tlearn: 0.8563816\ttotal: 1h 36m 32s\tremaining: 4h 13m 15s\n",
            "276:\tlearn: 0.8556232\ttotal: 1h 36m 53s\tremaining: 4h 12m 54s\n",
            "277:\tlearn: 0.8551074\ttotal: 1h 37m 14s\tremaining: 4h 12m 32s\n",
            "278:\tlearn: 0.8545254\ttotal: 1h 37m 35s\tremaining: 4h 12m 11s\n",
            "279:\tlearn: 0.8540152\ttotal: 1h 37m 56s\tremaining: 4h 11m 50s\n",
            "280:\tlearn: 0.8531015\ttotal: 1h 38m 17s\tremaining: 4h 11m 28s\n",
            "281:\tlearn: 0.8529726\ttotal: 1h 38m 38s\tremaining: 4h 11m 8s\n",
            "282:\tlearn: 0.8523841\ttotal: 1h 38m 59s\tremaining: 4h 10m 47s\n",
            "283:\tlearn: 0.8520727\ttotal: 1h 39m 20s\tremaining: 4h 10m 26s\n",
            "284:\tlearn: 0.8514032\ttotal: 1h 39m 40s\tremaining: 4h 10m 4s\n",
            "285:\tlearn: 0.8506372\ttotal: 1h 40m 1s\tremaining: 4h 9m 43s\n",
            "286:\tlearn: 0.8499193\ttotal: 1h 40m 26s\tremaining: 4h 9m 30s\n",
            "287:\tlearn: 0.8491792\ttotal: 1h 40m 47s\tremaining: 4h 9m 9s\n",
            "288:\tlearn: 0.8486341\ttotal: 1h 41m 7s\tremaining: 4h 8m 48s\n",
            "289:\tlearn: 0.8476294\ttotal: 1h 41m 28s\tremaining: 4h 8m 26s\n",
            "290:\tlearn: 0.8471416\ttotal: 1h 41m 49s\tremaining: 4h 8m 5s\n",
            "291:\tlearn: 0.8462654\ttotal: 1h 42m 10s\tremaining: 4h 7m 44s\n",
            "292:\tlearn: 0.8460058\ttotal: 1h 42m 31s\tremaining: 4h 7m 23s\n",
            "293:\tlearn: 0.8456149\ttotal: 1h 42m 52s\tremaining: 4h 7m 2s\n",
            "294:\tlearn: 0.8443906\ttotal: 1h 43m 13s\tremaining: 4h 6m 40s\n",
            "295:\tlearn: 0.8438817\ttotal: 1h 43m 34s\tremaining: 4h 6m 20s\n",
            "296:\tlearn: 0.8434838\ttotal: 1h 43m 55s\tremaining: 4h 5m 58s\n",
            "297:\tlearn: 0.8428917\ttotal: 1h 44m 16s\tremaining: 4h 5m 38s\n",
            "298:\tlearn: 0.8421586\ttotal: 1h 44m 37s\tremaining: 4h 5m 16s\n",
            "299:\tlearn: 0.8420883\ttotal: 1h 44m 58s\tremaining: 4h 4m 56s\n",
            "300:\tlearn: 0.8416860\ttotal: 1h 45m 19s\tremaining: 4h 4m 35s\n",
            "301:\tlearn: 0.8407434\ttotal: 1h 45m 40s\tremaining: 4h 4m 14s\n",
            "302:\tlearn: 0.8406145\ttotal: 1h 46m 1s\tremaining: 4h 3m 53s\n",
            "303:\tlearn: 0.8402191\ttotal: 1h 46m 22s\tremaining: 4h 3m 32s\n",
            "304:\tlearn: 0.8397979\ttotal: 1h 46m 43s\tremaining: 4h 3m 12s\n",
            "305:\tlearn: 0.8392706\ttotal: 1h 47m 4s\tremaining: 4h 2m 51s\n",
            "306:\tlearn: 0.8391205\ttotal: 1h 47m 26s\tremaining: 4h 2m 30s\n",
            "307:\tlearn: 0.8389395\ttotal: 1h 47m 47s\tremaining: 4h 2m 10s\n",
            "308:\tlearn: 0.8386998\ttotal: 1h 48m 8s\tremaining: 4h 1m 49s\n",
            "309:\tlearn: 0.8381148\ttotal: 1h 48m 29s\tremaining: 4h 1m 28s\n",
            "310:\tlearn: 0.8373755\ttotal: 1h 48m 50s\tremaining: 4h 1m 7s\n",
            "311:\tlearn: 0.8369391\ttotal: 1h 49m 10s\tremaining: 4h 45s\n",
            "312:\tlearn: 0.8364571\ttotal: 1h 49m 31s\tremaining: 4h 24s\n",
            "313:\tlearn: 0.8360888\ttotal: 1h 49m 52s\tremaining: 4h 3s\n",
            "314:\tlearn: 0.8357118\ttotal: 1h 50m 13s\tremaining: 3h 59m 42s\n",
            "315:\tlearn: 0.8352614\ttotal: 1h 50m 39s\tremaining: 3h 59m 30s\n",
            "316:\tlearn: 0.8349139\ttotal: 1h 50m 59s\tremaining: 3h 59m 9s\n",
            "317:\tlearn: 0.8347864\ttotal: 1h 51m 21s\tremaining: 3h 58m 48s\n",
            "318:\tlearn: 0.8338353\ttotal: 1h 51m 41s\tremaining: 3h 58m 27s\n",
            "319:\tlearn: 0.8333906\ttotal: 1h 52m 2s\tremaining: 3h 58m 6s\n",
            "320:\tlearn: 0.8328072\ttotal: 1h 52m 23s\tremaining: 3h 57m 44s\n",
            "321:\tlearn: 0.8324721\ttotal: 1h 52m 44s\tremaining: 3h 57m 23s\n",
            "322:\tlearn: 0.8321580\ttotal: 1h 53m 5s\tremaining: 3h 57m 2s\n",
            "323:\tlearn: 0.8320556\ttotal: 1h 53m 26s\tremaining: 3h 56m 41s\n",
            "324:\tlearn: 0.8317789\ttotal: 1h 53m 47s\tremaining: 3h 56m 20s\n",
            "325:\tlearn: 0.8313520\ttotal: 1h 54m 8s\tremaining: 3h 55m 59s\n",
            "326:\tlearn: 0.8311246\ttotal: 1h 54m 29s\tremaining: 3h 55m 38s\n",
            "327:\tlearn: 0.8310775\ttotal: 1h 54m 50s\tremaining: 3h 55m 17s\n",
            "328:\tlearn: 0.8305315\ttotal: 1h 55m 11s\tremaining: 3h 54m 56s\n",
            "329:\tlearn: 0.8300978\ttotal: 1h 55m 32s\tremaining: 3h 54m 35s\n",
            "330:\tlearn: 0.8298381\ttotal: 1h 55m 53s\tremaining: 3h 54m 14s\n",
            "331:\tlearn: 0.8288196\ttotal: 1h 56m 14s\tremaining: 3h 53m 53s\n",
            "332:\tlearn: 0.8284723\ttotal: 1h 56m 35s\tremaining: 3h 53m 32s\n",
            "333:\tlearn: 0.8280023\ttotal: 1h 56m 56s\tremaining: 3h 53m 11s\n",
            "334:\tlearn: 0.8276077\ttotal: 1h 57m 17s\tremaining: 3h 52m 50s\n",
            "335:\tlearn: 0.8273231\ttotal: 1h 57m 39s\tremaining: 3h 52m 30s\n",
            "336:\tlearn: 0.8269545\ttotal: 1h 58m\tremaining: 3h 52m 9s\n",
            "337:\tlearn: 0.8263794\ttotal: 1h 58m 21s\tremaining: 3h 51m 48s\n",
            "338:\tlearn: 0.8263466\ttotal: 1h 58m 42s\tremaining: 3h 51m 27s\n",
            "339:\tlearn: 0.8259967\ttotal: 1h 59m 3s\tremaining: 3h 51m 6s\n",
            "340:\tlearn: 0.8257820\ttotal: 1h 59m 24s\tremaining: 3h 50m 44s\n",
            "341:\tlearn: 0.8256404\ttotal: 1h 59m 45s\tremaining: 3h 50m 24s\n",
            "342:\tlearn: 0.8252832\ttotal: 2h 6s\tremaining: 3h 50m 3s\n",
            "343:\tlearn: 0.8249922\ttotal: 2h 28s\tremaining: 3h 49m 43s\n",
            "344:\tlearn: 0.8246648\ttotal: 2h 52s\tremaining: 3h 49m 28s\n",
            "345:\tlearn: 0.8241382\ttotal: 2h 1m 13s\tremaining: 3h 49m 7s\n",
            "346:\tlearn: 0.8240084\ttotal: 2h 1m 34s\tremaining: 3h 48m 47s\n",
            "347:\tlearn: 0.8235511\ttotal: 2h 1m 55s\tremaining: 3h 48m 26s\n",
            "348:\tlearn: 0.8230929\ttotal: 2h 2m 16s\tremaining: 3h 48m 5s\n",
            "349:\tlearn: 0.8223020\ttotal: 2h 2m 37s\tremaining: 3h 47m 44s\n",
            "350:\tlearn: 0.8221659\ttotal: 2h 2m 58s\tremaining: 3h 47m 23s\n",
            "351:\tlearn: 0.8217614\ttotal: 2h 3m 20s\tremaining: 3h 47m 2s\n",
            "352:\tlearn: 0.8214047\ttotal: 2h 3m 41s\tremaining: 3h 46m 41s\n",
            "353:\tlearn: 0.8207882\ttotal: 2h 4m 2s\tremaining: 3h 46m 20s\n",
            "354:\tlearn: 0.8206589\ttotal: 2h 4m 23s\tremaining: 3h 45m 59s\n",
            "355:\tlearn: 0.8202624\ttotal: 2h 4m 44s\tremaining: 3h 45m 38s\n",
            "356:\tlearn: 0.8199308\ttotal: 2h 5m 5s\tremaining: 3h 45m 17s\n",
            "357:\tlearn: 0.8196561\ttotal: 2h 5m 26s\tremaining: 3h 44m 57s\n",
            "358:\tlearn: 0.8194614\ttotal: 2h 5m 47s\tremaining: 3h 44m 36s\n",
            "359:\tlearn: 0.8188657\ttotal: 2h 6m 8s\tremaining: 3h 44m 15s\n",
            "360:\tlearn: 0.8187239\ttotal: 2h 6m 29s\tremaining: 3h 43m 54s\n",
            "361:\tlearn: 0.8181015\ttotal: 2h 6m 50s\tremaining: 3h 43m 33s\n",
            "362:\tlearn: 0.8176432\ttotal: 2h 7m 11s\tremaining: 3h 43m 12s\n",
            "363:\tlearn: 0.8170590\ttotal: 2h 7m 32s\tremaining: 3h 42m 51s\n",
            "364:\tlearn: 0.8166850\ttotal: 2h 7m 53s\tremaining: 3h 42m 30s\n",
            "365:\tlearn: 0.8160401\ttotal: 2h 8m 14s\tremaining: 3h 42m 9s\n",
            "366:\tlearn: 0.8155155\ttotal: 2h 8m 35s\tremaining: 3h 41m 47s\n",
            "367:\tlearn: 0.8151676\ttotal: 2h 8m 56s\tremaining: 3h 41m 26s\n",
            "368:\tlearn: 0.8145197\ttotal: 2h 9m 17s\tremaining: 3h 41m 5s\n",
            "369:\tlearn: 0.8137205\ttotal: 2h 9m 38s\tremaining: 3h 40m 44s\n",
            "370:\tlearn: 0.8135872\ttotal: 2h 9m 59s\tremaining: 3h 40m 23s\n",
            "371:\tlearn: 0.8131120\ttotal: 2h 10m 20s\tremaining: 3h 40m 3s\n",
            "372:\tlearn: 0.8123538\ttotal: 2h 10m 41s\tremaining: 3h 39m 41s\n",
            "373:\tlearn: 0.8123023\ttotal: 2h 11m 3s\tremaining: 3h 39m 21s\n",
            "374:\tlearn: 0.8120368\ttotal: 2h 11m 24s\tremaining: 3h 39m\n",
            "375:\tlearn: 0.8116787\ttotal: 2h 11m 45s\tremaining: 3h 38m 39s\n",
            "376:\tlearn: 0.8113802\ttotal: 2h 12m 6s\tremaining: 3h 38m 19s\n",
            "377:\tlearn: 0.8109520\ttotal: 2h 12m 27s\tremaining: 3h 37m 58s\n",
            "378:\tlearn: 0.8108013\ttotal: 2h 12m 49s\tremaining: 3h 37m 37s\n",
            "379:\tlearn: 0.8105743\ttotal: 2h 13m 10s\tremaining: 3h 37m 16s\n",
            "380:\tlearn: 0.8103091\ttotal: 2h 13m 31s\tremaining: 3h 36m 55s\n",
            "381:\tlearn: 0.8100782\ttotal: 2h 13m 52s\tremaining: 3h 36m 35s\n",
            "382:\tlearn: 0.8099501\ttotal: 2h 14m 13s\tremaining: 3h 36m 14s\n",
            "383:\tlearn: 0.8098751\ttotal: 2h 14m 34s\tremaining: 3h 35m 53s\n",
            "384:\tlearn: 0.8098191\ttotal: 2h 14m 55s\tremaining: 3h 35m 32s\n",
            "385:\tlearn: 0.8091952\ttotal: 2h 15m 16s\tremaining: 3h 35m 11s\n",
            "386:\tlearn: 0.8089013\ttotal: 2h 15m 38s\tremaining: 3h 34m 50s\n",
            "387:\tlearn: 0.8087536\ttotal: 2h 15m 59s\tremaining: 3h 34m 29s\n",
            "388:\tlearn: 0.8084995\ttotal: 2h 16m 20s\tremaining: 3h 34m 8s\n",
            "389:\tlearn: 0.8083498\ttotal: 2h 16m 41s\tremaining: 3h 33m 48s\n",
            "390:\tlearn: 0.8083121\ttotal: 2h 17m 2s\tremaining: 3h 33m 27s\n",
            "391:\tlearn: 0.8079161\ttotal: 2h 17m 23s\tremaining: 3h 33m 6s\n",
            "392:\tlearn: 0.8075020\ttotal: 2h 17m 44s\tremaining: 3h 32m 45s\n",
            "393:\tlearn: 0.8073932\ttotal: 2h 18m 5s\tremaining: 3h 32m 24s\n",
            "394:\tlearn: 0.8072095\ttotal: 2h 18m 27s\tremaining: 3h 32m 3s\n",
            "395:\tlearn: 0.8068151\ttotal: 2h 18m 48s\tremaining: 3h 31m 42s\n",
            "396:\tlearn: 0.8065840\ttotal: 2h 19m 8s\tremaining: 3h 31m 21s\n",
            "397:\tlearn: 0.8063823\ttotal: 2h 19m 30s\tremaining: 3h 31m\n",
            "398:\tlearn: 0.8062639\ttotal: 2h 19m 51s\tremaining: 3h 30m 39s\n",
            "399:\tlearn: 0.8062364\ttotal: 2h 20m 12s\tremaining: 3h 30m 18s\n",
            "400:\tlearn: 0.8059654\ttotal: 2h 20m 33s\tremaining: 3h 29m 57s\n",
            "401:\tlearn: 0.8058418\ttotal: 2h 20m 54s\tremaining: 3h 29m 36s\n",
            "402:\tlearn: 0.8055603\ttotal: 2h 21m 15s\tremaining: 3h 29m 15s\n",
            "403:\tlearn: 0.8052494\ttotal: 2h 21m 36s\tremaining: 3h 28m 54s\n",
            "404:\tlearn: 0.8050957\ttotal: 2h 21m 57s\tremaining: 3h 28m 33s\n",
            "405:\tlearn: 0.8047692\ttotal: 2h 22m 18s\tremaining: 3h 28m 12s\n",
            "406:\tlearn: 0.8041375\ttotal: 2h 22m 39s\tremaining: 3h 27m 51s\n",
            "407:\tlearn: 0.8038031\ttotal: 2h 23m 1s\tremaining: 3h 27m 30s\n",
            "408:\tlearn: 0.8035788\ttotal: 2h 23m 22s\tremaining: 3h 27m 9s\n",
            "409:\tlearn: 0.8028036\ttotal: 2h 23m 42s\tremaining: 3h 26m 48s\n",
            "410:\tlearn: 0.8023009\ttotal: 2h 24m 3s\tremaining: 3h 26m 27s\n",
            "411:\tlearn: 0.8021602\ttotal: 2h 24m 24s\tremaining: 3h 26m 6s\n",
            "412:\tlearn: 0.8020009\ttotal: 2h 24m 45s\tremaining: 3h 25m 45s\n",
            "413:\tlearn: 0.8018161\ttotal: 2h 25m 7s\tremaining: 3h 25m 24s\n",
            "414:\tlearn: 0.8017142\ttotal: 2h 25m 27s\tremaining: 3h 25m 3s\n",
            "415:\tlearn: 0.8013898\ttotal: 2h 25m 48s\tremaining: 3h 24m 42s\n",
            "416:\tlearn: 0.8008836\ttotal: 2h 26m 9s\tremaining: 3h 24m 20s\n",
            "417:\tlearn: 0.8003094\ttotal: 2h 26m 30s\tremaining: 3h 23m 59s\n",
            "418:\tlearn: 0.7999796\ttotal: 2h 26m 51s\tremaining: 3h 23m 38s\n",
            "419:\tlearn: 0.7999275\ttotal: 2h 27m 12s\tremaining: 3h 23m 17s\n",
            "420:\tlearn: 0.7996141\ttotal: 2h 27m 34s\tremaining: 3h 22m 57s\n",
            "421:\tlearn: 0.7991683\ttotal: 2h 27m 55s\tremaining: 3h 22m 36s\n",
            "422:\tlearn: 0.7990826\ttotal: 2h 28m 16s\tremaining: 3h 22m 15s\n",
            "423:\tlearn: 0.7988156\ttotal: 2h 28m 38s\tremaining: 3h 21m 55s\n",
            "424:\tlearn: 0.7985097\ttotal: 2h 28m 59s\tremaining: 3h 21m 34s\n",
            "425:\tlearn: 0.7980679\ttotal: 2h 29m 20s\tremaining: 3h 21m 13s\n",
            "426:\tlearn: 0.7977730\ttotal: 2h 29m 41s\tremaining: 3h 20m 52s\n",
            "427:\tlearn: 0.7971792\ttotal: 2h 30m 2s\tremaining: 3h 20m 31s\n",
            "428:\tlearn: 0.7969527\ttotal: 2h 30m 23s\tremaining: 3h 20m 10s\n",
            "429:\tlearn: 0.7966553\ttotal: 2h 30m 44s\tremaining: 3h 19m 49s\n",
            "430:\tlearn: 0.7966092\ttotal: 2h 31m 6s\tremaining: 3h 19m 29s\n",
            "431:\tlearn: 0.7965695\ttotal: 2h 31m 27s\tremaining: 3h 19m 8s\n",
            "432:\tlearn: 0.7962727\ttotal: 2h 31m 48s\tremaining: 3h 18m 47s\n",
            "433:\tlearn: 0.7960667\ttotal: 2h 32m 9s\tremaining: 3h 18m 26s\n",
            "434:\tlearn: 0.7960328\ttotal: 2h 32m 31s\tremaining: 3h 18m 6s\n",
            "435:\tlearn: 0.7957343\ttotal: 2h 32m 52s\tremaining: 3h 17m 45s\n",
            "436:\tlearn: 0.7956103\ttotal: 2h 33m 13s\tremaining: 3h 17m 24s\n",
            "437:\tlearn: 0.7951207\ttotal: 2h 33m 34s\tremaining: 3h 17m 3s\n",
            "438:\tlearn: 0.7948358\ttotal: 2h 33m 56s\tremaining: 3h 16m 42s\n",
            "439:\tlearn: 0.7946362\ttotal: 2h 34m 17s\tremaining: 3h 16m 22s\n",
            "440:\tlearn: 0.7943715\ttotal: 2h 34m 38s\tremaining: 3h 16m 1s\n",
            "441:\tlearn: 0.7943555\ttotal: 2h 34m 59s\tremaining: 3h 15m 40s\n",
            "442:\tlearn: 0.7941695\ttotal: 2h 35m 20s\tremaining: 3h 15m 19s\n",
            "443:\tlearn: 0.7937963\ttotal: 2h 35m 42s\tremaining: 3h 14m 58s\n",
            "444:\tlearn: 0.7934771\ttotal: 2h 36m 3s\tremaining: 3h 14m 37s\n",
            "445:\tlearn: 0.7930868\ttotal: 2h 36m 24s\tremaining: 3h 14m 17s\n",
            "446:\tlearn: 0.7930463\ttotal: 2h 36m 46s\tremaining: 3h 13m 56s\n",
            "447:\tlearn: 0.7927128\ttotal: 2h 37m 7s\tremaining: 3h 13m 35s\n",
            "448:\tlearn: 0.7926346\ttotal: 2h 37m 28s\tremaining: 3h 13m 14s\n",
            "449:\tlearn: 0.7926188\ttotal: 2h 37m 49s\tremaining: 3h 12m 54s\n",
            "450:\tlearn: 0.7925432\ttotal: 2h 38m 10s\tremaining: 3h 12m 33s\n",
            "451:\tlearn: 0.7922447\ttotal: 2h 38m 31s\tremaining: 3h 12m 12s\n",
            "452:\tlearn: 0.7920833\ttotal: 2h 38m 53s\tremaining: 3h 11m 51s\n",
            "453:\tlearn: 0.7918524\ttotal: 2h 39m 14s\tremaining: 3h 11m 30s\n",
            "454:\tlearn: 0.7916838\ttotal: 2h 39m 35s\tremaining: 3h 11m 9s\n",
            "455:\tlearn: 0.7915596\ttotal: 2h 39m 56s\tremaining: 3h 10m 48s\n",
            "456:\tlearn: 0.7914009\ttotal: 2h 40m 17s\tremaining: 3h 10m 27s\n",
            "457:\tlearn: 0.7913608\ttotal: 2h 40m 39s\tremaining: 3h 10m 7s\n",
            "458:\tlearn: 0.7910326\ttotal: 2h 41m\tremaining: 3h 9m 46s\n",
            "459:\tlearn: 0.7906897\ttotal: 2h 41m 21s\tremaining: 3h 9m 24s\n",
            "460:\tlearn: 0.7906611\ttotal: 2h 41m 42s\tremaining: 3h 9m 4s\n",
            "461:\tlearn: 0.7906529\ttotal: 2h 42m 3s\tremaining: 3h 8m 43s\n",
            "462:\tlearn: 0.7902331\ttotal: 2h 42m 25s\tremaining: 3h 8m 22s\n",
            "463:\tlearn: 0.7900246\ttotal: 2h 42m 46s\tremaining: 3h 8m 1s\n",
            "464:\tlearn: 0.7900063\ttotal: 2h 43m 7s\tremaining: 3h 7m 41s\n",
            "465:\tlearn: 0.7897971\ttotal: 2h 43m 29s\tremaining: 3h 7m 20s\n",
            "466:\tlearn: 0.7893423\ttotal: 2h 43m 50s\tremaining: 3h 6m 59s\n",
            "467:\tlearn: 0.7893342\ttotal: 2h 44m 11s\tremaining: 3h 6m 38s\n",
            "468:\tlearn: 0.7888296\ttotal: 2h 44m 32s\tremaining: 3h 6m 17s\n",
            "469:\tlearn: 0.7885121\ttotal: 2h 44m 53s\tremaining: 3h 5m 56s\n",
            "470:\tlearn: 0.7884823\ttotal: 2h 45m 15s\tremaining: 3h 5m 36s\n",
            "471:\tlearn: 0.7884411\ttotal: 2h 45m 36s\tremaining: 3h 5m 15s\n",
            "472:\tlearn: 0.7882048\ttotal: 2h 45m 57s\tremaining: 3h 4m 54s\n",
            "473:\tlearn: 0.7879734\ttotal: 2h 46m 18s\tremaining: 3h 4m 33s\n",
            "474:\tlearn: 0.7878972\ttotal: 2h 46m 40s\tremaining: 3h 4m 12s\n",
            "475:\tlearn: 0.7876899\ttotal: 2h 47m 1s\tremaining: 3h 3m 52s\n",
            "476:\tlearn: 0.7872341\ttotal: 2h 47m 22s\tremaining: 3h 3m 30s\n",
            "477:\tlearn: 0.7871930\ttotal: 2h 47m 43s\tremaining: 3h 3m 10s\n",
            "478:\tlearn: 0.7871795\ttotal: 2h 48m 5s\tremaining: 3h 2m 49s\n",
            "479:\tlearn: 0.7871523\ttotal: 2h 48m 26s\tremaining: 3h 2m 28s\n",
            "480:\tlearn: 0.7870503\ttotal: 2h 48m 47s\tremaining: 3h 2m 7s\n",
            "481:\tlearn: 0.7869998\ttotal: 2h 49m 8s\tremaining: 3h 1m 46s\n",
            "482:\tlearn: 0.7868718\ttotal: 2h 49m 30s\tremaining: 3h 1m 26s\n",
            "483:\tlearn: 0.7867746\ttotal: 2h 49m 51s\tremaining: 3h 1m 5s\n",
            "484:\tlearn: 0.7863573\ttotal: 2h 50m 12s\tremaining: 3h 43s\n",
            "485:\tlearn: 0.7861577\ttotal: 2h 50m 33s\tremaining: 3h 22s\n",
            "486:\tlearn: 0.7860503\ttotal: 2h 50m 54s\tremaining: 3h 1s\n",
            "487:\tlearn: 0.7858952\ttotal: 2h 51m 15s\tremaining: 2h 59m 41s\n",
            "488:\tlearn: 0.7858679\ttotal: 2h 51m 37s\tremaining: 2h 59m 20s\n",
            "489:\tlearn: 0.7858564\ttotal: 2h 51m 58s\tremaining: 2h 58m 59s\n",
            "490:\tlearn: 0.7858356\ttotal: 2h 52m 20s\tremaining: 2h 58m 39s\n",
            "491:\tlearn: 0.7856433\ttotal: 2h 52m 41s\tremaining: 2h 58m 18s\n",
            "492:\tlearn: 0.7854984\ttotal: 2h 53m 2s\tremaining: 2h 57m 57s\n",
            "493:\tlearn: 0.7852883\ttotal: 2h 53m 23s\tremaining: 2h 57m 36s\n",
            "494:\tlearn: 0.7852677\ttotal: 2h 53m 44s\tremaining: 2h 57m 15s\n",
            "495:\tlearn: 0.7852474\ttotal: 2h 54m 6s\tremaining: 2h 56m 54s\n",
            "496:\tlearn: 0.7850085\ttotal: 2h 54m 27s\tremaining: 2h 56m 33s\n",
            "497:\tlearn: 0.7849953\ttotal: 2h 54m 48s\tremaining: 2h 56m 12s\n",
            "498:\tlearn: 0.7845211\ttotal: 2h 55m 9s\tremaining: 2h 55m 51s\n",
            "499:\tlearn: 0.7844826\ttotal: 2h 55m 30s\tremaining: 2h 55m 30s\n",
            "500:\tlearn: 0.7838990\ttotal: 2h 55m 51s\tremaining: 2h 55m 9s\n",
            "501:\tlearn: 0.7838886\ttotal: 2h 56m 12s\tremaining: 2h 54m 48s\n",
            "502:\tlearn: 0.7837736\ttotal: 2h 56m 34s\tremaining: 2h 54m 27s\n",
            "503:\tlearn: 0.7836695\ttotal: 2h 56m 55s\tremaining: 2h 54m 6s\n",
            "504:\tlearn: 0.7834667\ttotal: 2h 57m 16s\tremaining: 2h 53m 46s\n",
            "505:\tlearn: 0.7831791\ttotal: 2h 57m 38s\tremaining: 2h 53m 25s\n",
            "506:\tlearn: 0.7829788\ttotal: 2h 57m 59s\tremaining: 2h 53m 4s\n",
            "507:\tlearn: 0.7827930\ttotal: 2h 58m 20s\tremaining: 2h 52m 43s\n",
            "508:\tlearn: 0.7827492\ttotal: 2h 58m 41s\tremaining: 2h 52m 22s\n",
            "509:\tlearn: 0.7823343\ttotal: 2h 59m 2s\tremaining: 2h 52m 1s\n",
            "510:\tlearn: 0.7823241\ttotal: 2h 59m 23s\tremaining: 2h 51m 40s\n",
            "511:\tlearn: 0.7819670\ttotal: 2h 59m 45s\tremaining: 2h 51m 19s\n",
            "512:\tlearn: 0.7819397\ttotal: 3h 6s\tremaining: 2h 50m 58s\n",
            "513:\tlearn: 0.7819019\ttotal: 3h 27s\tremaining: 2h 50m 37s\n",
            "514:\tlearn: 0.7818136\ttotal: 3h 48s\tremaining: 2h 50m 17s\n",
            "515:\tlearn: 0.7816176\ttotal: 3h 1m 10s\tremaining: 2h 49m 56s\n",
            "516:\tlearn: 0.7815941\ttotal: 3h 1m 31s\tremaining: 2h 49m 35s\n",
            "517:\tlearn: 0.7813397\ttotal: 3h 1m 52s\tremaining: 2h 49m 14s\n",
            "518:\tlearn: 0.7813124\ttotal: 3h 2m 13s\tremaining: 2h 48m 53s\n",
            "519:\tlearn: 0.7812386\ttotal: 3h 2m 35s\tremaining: 2h 48m 32s\n",
            "520:\tlearn: 0.7812151\ttotal: 3h 2m 56s\tremaining: 2h 48m 11s\n",
            "521:\tlearn: 0.7811050\ttotal: 3h 3m 17s\tremaining: 2h 47m 50s\n",
            "522:\tlearn: 0.7810818\ttotal: 3h 3m 38s\tremaining: 2h 47m 29s\n",
            "523:\tlearn: 0.7809489\ttotal: 3h 3m 59s\tremaining: 2h 47m 8s\n",
            "524:\tlearn: 0.7808895\ttotal: 3h 4m 21s\tremaining: 2h 46m 47s\n",
            "525:\tlearn: 0.7807913\ttotal: 3h 4m 42s\tremaining: 2h 46m 26s\n",
            "526:\tlearn: 0.7807659\ttotal: 3h 5m 3s\tremaining: 2h 46m 5s\n",
            "527:\tlearn: 0.7807274\ttotal: 3h 5m 24s\tremaining: 2h 45m 44s\n",
            "528:\tlearn: 0.7807060\ttotal: 3h 5m 46s\tremaining: 2h 45m 23s\n",
            "529:\tlearn: 0.7803240\ttotal: 3h 6m 7s\tremaining: 2h 45m 2s\n",
            "530:\tlearn: 0.7802741\ttotal: 3h 6m 28s\tremaining: 2h 44m 42s\n",
            "531:\tlearn: 0.7801450\ttotal: 3h 6m 49s\tremaining: 2h 44m 21s\n",
            "532:\tlearn: 0.7799354\ttotal: 3h 7m 10s\tremaining: 2h 44m\n",
            "533:\tlearn: 0.7799142\ttotal: 3h 7m 32s\tremaining: 2h 43m 39s\n",
            "534:\tlearn: 0.7795525\ttotal: 3h 7m 53s\tremaining: 2h 43m 18s\n",
            "535:\tlearn: 0.7795073\ttotal: 3h 8m 14s\tremaining: 2h 42m 57s\n",
            "536:\tlearn: 0.7789012\ttotal: 3h 8m 35s\tremaining: 2h 42m 35s\n",
            "537:\tlearn: 0.7788219\ttotal: 3h 8m 56s\tremaining: 2h 42m 14s\n",
            "538:\tlearn: 0.7787120\ttotal: 3h 9m 17s\tremaining: 2h 41m 53s\n",
            "539:\tlearn: 0.7785103\ttotal: 3h 9m 38s\tremaining: 2h 41m 32s\n",
            "540:\tlearn: 0.7785025\ttotal: 3h 9m 59s\tremaining: 2h 41m 11s\n",
            "541:\tlearn: 0.7782062\ttotal: 3h 10m 20s\tremaining: 2h 40m 50s\n",
            "542:\tlearn: 0.7780542\ttotal: 3h 10m 41s\tremaining: 2h 40m 29s\n",
            "543:\tlearn: 0.7780025\ttotal: 3h 11m 2s\tremaining: 2h 40m 8s\n",
            "544:\tlearn: 0.7775730\ttotal: 3h 11m 23s\tremaining: 2h 39m 47s\n",
            "545:\tlearn: 0.7774106\ttotal: 3h 11m 44s\tremaining: 2h 39m 26s\n",
            "546:\tlearn: 0.7772238\ttotal: 3h 12m 6s\tremaining: 2h 39m 5s\n",
            "547:\tlearn: 0.7771622\ttotal: 3h 12m 27s\tremaining: 2h 38m 44s\n",
            "548:\tlearn: 0.7771282\ttotal: 3h 12m 48s\tremaining: 2h 38m 23s\n",
            "549:\tlearn: 0.7771176\ttotal: 3h 13m 9s\tremaining: 2h 38m 2s\n",
            "550:\tlearn: 0.7766386\ttotal: 3h 13m 30s\tremaining: 2h 37m 41s\n",
            "551:\tlearn: 0.7766003\ttotal: 3h 13m 51s\tremaining: 2h 37m 20s\n",
            "552:\tlearn: 0.7765400\ttotal: 3h 14m 12s\tremaining: 2h 36m 58s\n",
            "553:\tlearn: 0.7764549\ttotal: 3h 14m 33s\tremaining: 2h 36m 37s\n",
            "554:\tlearn: 0.7764466\ttotal: 3h 14m 54s\tremaining: 2h 36m 16s\n",
            "555:\tlearn: 0.7764194\ttotal: 3h 15m 15s\tremaining: 2h 35m 55s\n",
            "556:\tlearn: 0.7764052\ttotal: 3h 15m 37s\tremaining: 2h 35m 34s\n",
            "557:\tlearn: 0.7763934\ttotal: 3h 15m 58s\tremaining: 2h 35m 13s\n",
            "558:\tlearn: 0.7763747\ttotal: 3h 16m 19s\tremaining: 2h 34m 52s\n",
            "559:\tlearn: 0.7762675\ttotal: 3h 16m 40s\tremaining: 2h 34m 31s\n",
            "560:\tlearn: 0.7761609\ttotal: 3h 17m 1s\tremaining: 2h 34m 10s\n",
            "561:\tlearn: 0.7757353\ttotal: 3h 17m 22s\tremaining: 2h 33m 49s\n",
            "562:\tlearn: 0.7755193\ttotal: 3h 17m 43s\tremaining: 2h 33m 28s\n",
            "563:\tlearn: 0.7755053\ttotal: 3h 18m 4s\tremaining: 2h 33m 7s\n",
            "564:\tlearn: 0.7752956\ttotal: 3h 18m 25s\tremaining: 2h 32m 46s\n",
            "565:\tlearn: 0.7751481\ttotal: 3h 18m 46s\tremaining: 2h 32m 25s\n",
            "566:\tlearn: 0.7747051\ttotal: 3h 19m 7s\tremaining: 2h 32m 3s\n",
            "567:\tlearn: 0.7746880\ttotal: 3h 19m 28s\tremaining: 2h 31m 42s\n",
            "568:\tlearn: 0.7745487\ttotal: 3h 19m 49s\tremaining: 2h 31m 21s\n",
            "569:\tlearn: 0.7745417\ttotal: 3h 20m 10s\tremaining: 2h 31m\n",
            "570:\tlearn: 0.7743010\ttotal: 3h 20m 32s\tremaining: 2h 30m 39s\n",
            "571:\tlearn: 0.7741698\ttotal: 3h 20m 52s\tremaining: 2h 30m 18s\n",
            "572:\tlearn: 0.7741441\ttotal: 3h 21m 14s\tremaining: 2h 29m 57s\n",
            "573:\tlearn: 0.7740112\ttotal: 3h 21m 35s\tremaining: 2h 29m 36s\n",
            "574:\tlearn: 0.7739427\ttotal: 3h 21m 56s\tremaining: 2h 29m 15s\n",
            "575:\tlearn: 0.7737508\ttotal: 3h 22m 17s\tremaining: 2h 28m 54s\n",
            "576:\tlearn: 0.7737418\ttotal: 3h 22m 38s\tremaining: 2h 28m 33s\n",
            "577:\tlearn: 0.7736559\ttotal: 3h 22m 59s\tremaining: 2h 28m 12s\n",
            "578:\tlearn: 0.7735285\ttotal: 3h 23m 20s\tremaining: 2h 27m 51s\n",
            "579:\tlearn: 0.7730701\ttotal: 3h 23m 41s\tremaining: 2h 27m 30s\n",
            "580:\tlearn: 0.7730602\ttotal: 3h 24m 3s\tremaining: 2h 27m 9s\n",
            "581:\tlearn: 0.7727728\ttotal: 3h 24m 23s\tremaining: 2h 26m 48s\n",
            "582:\tlearn: 0.7727468\ttotal: 3h 24m 45s\tremaining: 2h 26m 27s\n",
            "583:\tlearn: 0.7722671\ttotal: 3h 25m 6s\tremaining: 2h 26m 6s\n",
            "584:\tlearn: 0.7721153\ttotal: 3h 25m 27s\tremaining: 2h 25m 45s\n",
            "585:\tlearn: 0.7720967\ttotal: 3h 25m 48s\tremaining: 2h 25m 24s\n",
            "586:\tlearn: 0.7720614\ttotal: 3h 26m 9s\tremaining: 2h 25m 2s\n",
            "587:\tlearn: 0.7720546\ttotal: 3h 26m 30s\tremaining: 2h 24m 41s\n",
            "588:\tlearn: 0.7719102\ttotal: 3h 26m 51s\tremaining: 2h 24m 20s\n",
            "589:\tlearn: 0.7718628\ttotal: 3h 27m 13s\tremaining: 2h 23m 59s\n",
            "590:\tlearn: 0.7714558\ttotal: 3h 27m 34s\tremaining: 2h 23m 38s\n",
            "591:\tlearn: 0.7714361\ttotal: 3h 27m 55s\tremaining: 2h 23m 17s\n",
            "592:\tlearn: 0.7714275\ttotal: 3h 28m 16s\tremaining: 2h 22m 56s\n",
            "593:\tlearn: 0.7712925\ttotal: 3h 28m 37s\tremaining: 2h 22m 35s\n",
            "594:\tlearn: 0.7709647\ttotal: 3h 28m 58s\tremaining: 2h 22m 14s\n",
            "595:\tlearn: 0.7708726\ttotal: 3h 29m 19s\tremaining: 2h 21m 53s\n",
            "596:\tlearn: 0.7705130\ttotal: 3h 29m 40s\tremaining: 2h 21m 32s\n",
            "597:\tlearn: 0.7704808\ttotal: 3h 30m 2s\tremaining: 2h 21m 11s\n",
            "598:\tlearn: 0.7704726\ttotal: 3h 30m 23s\tremaining: 2h 20m 50s\n",
            "599:\tlearn: 0.7702327\ttotal: 3h 30m 45s\tremaining: 2h 20m 30s\n",
            "600:\tlearn: 0.7702214\ttotal: 3h 31m 6s\tremaining: 2h 20m 9s\n",
            "601:\tlearn: 0.7699515\ttotal: 3h 31m 27s\tremaining: 2h 19m 48s\n",
            "602:\tlearn: 0.7698187\ttotal: 3h 31m 48s\tremaining: 2h 19m 27s\n",
            "603:\tlearn: 0.7696558\ttotal: 3h 32m 10s\tremaining: 2h 19m 6s\n",
            "604:\tlearn: 0.7694515\ttotal: 3h 32m 31s\tremaining: 2h 18m 45s\n",
            "605:\tlearn: 0.7693173\ttotal: 3h 32m 52s\tremaining: 2h 18m 24s\n",
            "606:\tlearn: 0.7692122\ttotal: 3h 33m 14s\tremaining: 2h 18m 3s\n",
            "607:\tlearn: 0.7691519\ttotal: 3h 33m 35s\tremaining: 2h 17m 42s\n",
            "608:\tlearn: 0.7688177\ttotal: 3h 33m 56s\tremaining: 2h 17m 21s\n",
            "609:\tlearn: 0.7688023\ttotal: 3h 34m 17s\tremaining: 2h 17m\n",
            "610:\tlearn: 0.7687126\ttotal: 3h 34m 39s\tremaining: 2h 16m 39s\n",
            "611:\tlearn: 0.7686773\ttotal: 3h 35m\tremaining: 2h 16m 18s\n",
            "612:\tlearn: 0.7686509\ttotal: 3h 35m 21s\tremaining: 2h 15m 57s\n",
            "613:\tlearn: 0.7686177\ttotal: 3h 35m 42s\tremaining: 2h 15m 36s\n",
            "614:\tlearn: 0.7686087\ttotal: 3h 36m 4s\tremaining: 2h 15m 15s\n",
            "615:\tlearn: 0.7683796\ttotal: 3h 36m 25s\tremaining: 2h 14m 54s\n",
            "616:\tlearn: 0.7683665\ttotal: 3h 36m 46s\tremaining: 2h 14m 33s\n",
            "617:\tlearn: 0.7683171\ttotal: 3h 37m 7s\tremaining: 2h 14m 12s\n",
            "618:\tlearn: 0.7682974\ttotal: 3h 37m 28s\tremaining: 2h 13m 51s\n",
            "619:\tlearn: 0.7682589\ttotal: 3h 37m 49s\tremaining: 2h 13m 30s\n",
            "620:\tlearn: 0.7680889\ttotal: 3h 38m 10s\tremaining: 2h 13m 9s\n",
            "621:\tlearn: 0.7680300\ttotal: 3h 38m 31s\tremaining: 2h 12m 47s\n",
            "622:\tlearn: 0.7677801\ttotal: 3h 38m 52s\tremaining: 2h 12m 26s\n",
            "623:\tlearn: 0.7675907\ttotal: 3h 39m 13s\tremaining: 2h 12m 5s\n",
            "624:\tlearn: 0.7674749\ttotal: 3h 39m 34s\tremaining: 2h 11m 44s\n",
            "625:\tlearn: 0.7674240\ttotal: 3h 39m 55s\tremaining: 2h 11m 23s\n",
            "626:\tlearn: 0.7673963\ttotal: 3h 40m 16s\tremaining: 2h 11m 2s\n",
            "627:\tlearn: 0.7672615\ttotal: 3h 40m 37s\tremaining: 2h 10m 41s\n",
            "628:\tlearn: 0.7672399\ttotal: 3h 40m 58s\tremaining: 2h 10m 20s\n",
            "629:\tlearn: 0.7669144\ttotal: 3h 41m 19s\tremaining: 2h 9m 58s\n",
            "630:\tlearn: 0.7669075\ttotal: 3h 41m 40s\tremaining: 2h 9m 37s\n",
            "631:\tlearn: 0.7668863\ttotal: 3h 42m 1s\tremaining: 2h 9m 16s\n",
            "632:\tlearn: 0.7668577\ttotal: 3h 42m 22s\tremaining: 2h 8m 55s\n",
            "633:\tlearn: 0.7667938\ttotal: 3h 42m 43s\tremaining: 2h 8m 34s\n",
            "634:\tlearn: 0.7667609\ttotal: 3h 43m 4s\tremaining: 2h 8m 13s\n",
            "635:\tlearn: 0.7666371\ttotal: 3h 43m 26s\tremaining: 2h 7m 52s\n",
            "636:\tlearn: 0.7666280\ttotal: 3h 43m 47s\tremaining: 2h 7m 31s\n",
            "637:\tlearn: 0.7665030\ttotal: 3h 44m 8s\tremaining: 2h 7m 10s\n",
            "638:\tlearn: 0.7663293\ttotal: 3h 44m 29s\tremaining: 2h 6m 49s\n",
            "639:\tlearn: 0.7663215\ttotal: 3h 44m 50s\tremaining: 2h 6m 28s\n",
            "640:\tlearn: 0.7660876\ttotal: 3h 45m 11s\tremaining: 2h 6m 7s\n",
            "641:\tlearn: 0.7660447\ttotal: 3h 45m 32s\tremaining: 2h 5m 46s\n",
            "642:\tlearn: 0.7657950\ttotal: 3h 45m 53s\tremaining: 2h 5m 24s\n",
            "643:\tlearn: 0.7656767\ttotal: 3h 46m 14s\tremaining: 2h 5m 3s\n",
            "644:\tlearn: 0.7654580\ttotal: 3h 46m 35s\tremaining: 2h 4m 42s\n",
            "645:\tlearn: 0.7652120\ttotal: 3h 46m 56s\tremaining: 2h 4m 21s\n",
            "646:\tlearn: 0.7651837\ttotal: 3h 47m 17s\tremaining: 2h 4m\n",
            "647:\tlearn: 0.7647729\ttotal: 3h 47m 38s\tremaining: 2h 3m 39s\n",
            "648:\tlearn: 0.7646687\ttotal: 3h 47m 59s\tremaining: 2h 3m 18s\n",
            "649:\tlearn: 0.7645154\ttotal: 3h 48m 20s\tremaining: 2h 2m 57s\n",
            "650:\tlearn: 0.7644981\ttotal: 3h 48m 41s\tremaining: 2h 2m 36s\n",
            "651:\tlearn: 0.7641671\ttotal: 3h 49m 2s\tremaining: 2h 2m 14s\n",
            "652:\tlearn: 0.7641617\ttotal: 3h 49m 23s\tremaining: 2h 1m 53s\n",
            "653:\tlearn: 0.7639197\ttotal: 3h 49m 44s\tremaining: 2h 1m 32s\n",
            "654:\tlearn: 0.7637739\ttotal: 3h 50m 5s\tremaining: 2h 1m 11s\n",
            "655:\tlearn: 0.7636656\ttotal: 3h 50m 26s\tremaining: 2h 50s\n",
            "656:\tlearn: 0.7635212\ttotal: 3h 50m 48s\tremaining: 2h 29s\n",
            "657:\tlearn: 0.7634725\ttotal: 3h 51m 9s\tremaining: 2h 8s\n",
            "658:\tlearn: 0.7633704\ttotal: 3h 51m 30s\tremaining: 1h 59m 47s\n",
            "659:\tlearn: 0.7631702\ttotal: 3h 51m 51s\tremaining: 1h 59m 26s\n",
            "660:\tlearn: 0.7627886\ttotal: 3h 52m 12s\tremaining: 1h 59m 5s\n",
            "661:\tlearn: 0.7626646\ttotal: 3h 52m 34s\tremaining: 1h 58m 44s\n",
            "662:\tlearn: 0.7624257\ttotal: 3h 52m 55s\tremaining: 1h 58m 23s\n",
            "663:\tlearn: 0.7623480\ttotal: 3h 53m 16s\tremaining: 1h 58m 2s\n",
            "664:\tlearn: 0.7622768\ttotal: 3h 53m 38s\tremaining: 1h 57m 41s\n",
            "665:\tlearn: 0.7621518\ttotal: 3h 53m 59s\tremaining: 1h 57m 20s\n",
            "666:\tlearn: 0.7621427\ttotal: 3h 54m 20s\tremaining: 1h 56m 59s\n",
            "667:\tlearn: 0.7621280\ttotal: 3h 54m 41s\tremaining: 1h 56m 38s\n",
            "668:\tlearn: 0.7621181\ttotal: 3h 55m 2s\tremaining: 1h 56m 17s\n",
            "669:\tlearn: 0.7619578\ttotal: 3h 55m 24s\tremaining: 1h 55m 56s\n",
            "670:\tlearn: 0.7619495\ttotal: 3h 55m 45s\tremaining: 1h 55m 35s\n",
            "671:\tlearn: 0.7619182\ttotal: 3h 56m 6s\tremaining: 1h 55m 14s\n",
            "672:\tlearn: 0.7616978\ttotal: 3h 56m 27s\tremaining: 1h 54m 53s\n",
            "673:\tlearn: 0.7613654\ttotal: 3h 56m 48s\tremaining: 1h 54m 32s\n",
            "674:\tlearn: 0.7611223\ttotal: 3h 57m 10s\tremaining: 1h 54m 11s\n",
            "675:\tlearn: 0.7611121\ttotal: 3h 57m 31s\tremaining: 1h 53m 50s\n",
            "676:\tlearn: 0.7609860\ttotal: 3h 57m 52s\tremaining: 1h 53m 29s\n",
            "677:\tlearn: 0.7609751\ttotal: 3h 58m 14s\tremaining: 1h 53m 8s\n",
            "678:\tlearn: 0.7609294\ttotal: 3h 58m 35s\tremaining: 1h 52m 47s\n",
            "679:\tlearn: 0.7609229\ttotal: 3h 58m 56s\tremaining: 1h 52m 26s\n",
            "680:\tlearn: 0.7606816\ttotal: 3h 59m 18s\tremaining: 1h 52m 5s\n",
            "681:\tlearn: 0.7605281\ttotal: 3h 59m 39s\tremaining: 1h 51m 44s\n",
            "682:\tlearn: 0.7605211\ttotal: 4h\tremaining: 1h 51m 23s\n",
            "683:\tlearn: 0.7605109\ttotal: 4h 22s\tremaining: 1h 51m 2s\n",
            "684:\tlearn: 0.7603284\ttotal: 4h 43s\tremaining: 1h 50m 41s\n",
            "685:\tlearn: 0.7603218\ttotal: 4h 1m 4s\tremaining: 1h 50m 20s\n",
            "686:\tlearn: 0.7602285\ttotal: 4h 1m 26s\tremaining: 1h 49m 59s\n",
            "687:\tlearn: 0.7601660\ttotal: 4h 1m 47s\tremaining: 1h 49m 38s\n",
            "688:\tlearn: 0.7601458\ttotal: 4h 2m 8s\tremaining: 1h 49m 17s\n",
            "689:\tlearn: 0.7601300\ttotal: 4h 2m 30s\tremaining: 1h 48m 56s\n",
            "690:\tlearn: 0.7598681\ttotal: 4h 2m 51s\tremaining: 1h 48m 35s\n",
            "691:\tlearn: 0.7598622\ttotal: 4h 3m 12s\tremaining: 1h 48m 14s\n",
            "692:\tlearn: 0.7597798\ttotal: 4h 3m 33s\tremaining: 1h 47m 53s\n",
            "693:\tlearn: 0.7596873\ttotal: 4h 3m 54s\tremaining: 1h 47m 32s\n",
            "694:\tlearn: 0.7596212\ttotal: 4h 4m 16s\tremaining: 1h 47m 11s\n",
            "695:\tlearn: 0.7596123\ttotal: 4h 4m 37s\tremaining: 1h 46m 50s\n",
            "696:\tlearn: 0.7594511\ttotal: 4h 4m 58s\tremaining: 1h 46m 29s\n",
            "697:\tlearn: 0.7593382\ttotal: 4h 5m 19s\tremaining: 1h 46m 8s\n",
            "698:\tlearn: 0.7593286\ttotal: 4h 5m 40s\tremaining: 1h 45m 47s\n",
            "699:\tlearn: 0.7592360\ttotal: 4h 6m 2s\tremaining: 1h 45m 26s\n",
            "700:\tlearn: 0.7591480\ttotal: 4h 6m 23s\tremaining: 1h 45m 5s\n",
            "701:\tlearn: 0.7590318\ttotal: 4h 6m 44s\tremaining: 1h 44m 44s\n",
            "702:\tlearn: 0.7587931\ttotal: 4h 7m 5s\tremaining: 1h 44m 23s\n",
            "703:\tlearn: 0.7587767\ttotal: 4h 7m 26s\tremaining: 1h 44m 2s\n",
            "704:\tlearn: 0.7587581\ttotal: 4h 7m 47s\tremaining: 1h 43m 41s\n",
            "705:\tlearn: 0.7587375\ttotal: 4h 8m 8s\tremaining: 1h 43m 20s\n",
            "706:\tlearn: 0.7587279\ttotal: 4h 8m 29s\tremaining: 1h 42m 59s\n",
            "707:\tlearn: 0.7586048\ttotal: 4h 8m 50s\tremaining: 1h 42m 37s\n",
            "708:\tlearn: 0.7585187\ttotal: 4h 9m 12s\tremaining: 1h 42m 16s\n",
            "709:\tlearn: 0.7584561\ttotal: 4h 9m 33s\tremaining: 1h 41m 55s\n",
            "710:\tlearn: 0.7584480\ttotal: 4h 9m 54s\tremaining: 1h 41m 34s\n",
            "711:\tlearn: 0.7584292\ttotal: 4h 10m 15s\tremaining: 1h 41m 13s\n",
            "712:\tlearn: 0.7582543\ttotal: 4h 10m 37s\tremaining: 1h 40m 52s\n",
            "713:\tlearn: 0.7581308\ttotal: 4h 10m 58s\tremaining: 1h 40m 31s\n",
            "714:\tlearn: 0.7581148\ttotal: 4h 11m 19s\tremaining: 1h 40m 10s\n",
            "715:\tlearn: 0.7580361\ttotal: 4h 11m 40s\tremaining: 1h 39m 49s\n",
            "716:\tlearn: 0.7580266\ttotal: 4h 12m 2s\tremaining: 1h 39m 28s\n",
            "717:\tlearn: 0.7580175\ttotal: 4h 12m 23s\tremaining: 1h 39m 7s\n",
            "718:\tlearn: 0.7576083\ttotal: 4h 12m 44s\tremaining: 1h 38m 46s\n",
            "719:\tlearn: 0.7575981\ttotal: 4h 13m 5s\tremaining: 1h 38m 25s\n",
            "720:\tlearn: 0.7575198\ttotal: 4h 13m 26s\tremaining: 1h 38m 4s\n",
            "721:\tlearn: 0.7574990\ttotal: 4h 13m 47s\tremaining: 1h 37m 43s\n",
            "722:\tlearn: 0.7574837\ttotal: 4h 14m 8s\tremaining: 1h 37m 22s\n",
            "723:\tlearn: 0.7574714\ttotal: 4h 14m 30s\tremaining: 1h 37m 1s\n",
            "724:\tlearn: 0.7574654\ttotal: 4h 14m 51s\tremaining: 1h 36m 40s\n",
            "725:\tlearn: 0.7573371\ttotal: 4h 15m 12s\tremaining: 1h 36m 19s\n",
            "726:\tlearn: 0.7572489\ttotal: 4h 15m 33s\tremaining: 1h 35m 57s\n",
            "727:\tlearn: 0.7571717\ttotal: 4h 15m 54s\tremaining: 1h 35m 36s\n",
            "728:\tlearn: 0.7568727\ttotal: 4h 16m 15s\tremaining: 1h 35m 15s\n",
            "729:\tlearn: 0.7568548\ttotal: 4h 16m 36s\tremaining: 1h 34m 54s\n",
            "730:\tlearn: 0.7567845\ttotal: 4h 16m 58s\tremaining: 1h 34m 33s\n",
            "731:\tlearn: 0.7567689\ttotal: 4h 17m 19s\tremaining: 1h 34m 12s\n",
            "732:\tlearn: 0.7567494\ttotal: 4h 17m 40s\tremaining: 1h 33m 51s\n",
            "733:\tlearn: 0.7567379\ttotal: 4h 18m 1s\tremaining: 1h 33m 30s\n",
            "734:\tlearn: 0.7567311\ttotal: 4h 18m 22s\tremaining: 1h 33m 9s\n",
            "735:\tlearn: 0.7567180\ttotal: 4h 18m 44s\tremaining: 1h 32m 48s\n",
            "736:\tlearn: 0.7566235\ttotal: 4h 19m 5s\tremaining: 1h 32m 27s\n",
            "737:\tlearn: 0.7565987\ttotal: 4h 19m 26s\tremaining: 1h 32m 6s\n",
            "738:\tlearn: 0.7565923\ttotal: 4h 19m 47s\tremaining: 1h 31m 45s\n",
            "739:\tlearn: 0.7564278\ttotal: 4h 20m 8s\tremaining: 1h 31m 23s\n",
            "740:\tlearn: 0.7560363\ttotal: 4h 20m 29s\tremaining: 1h 31m 2s\n",
            "741:\tlearn: 0.7560312\ttotal: 4h 20m 50s\tremaining: 1h 30m 41s\n",
            "742:\tlearn: 0.7560214\ttotal: 4h 21m 11s\tremaining: 1h 30m 20s\n",
            "743:\tlearn: 0.7559012\ttotal: 4h 21m 32s\tremaining: 1h 29m 59s\n",
            "744:\tlearn: 0.7558291\ttotal: 4h 21m 53s\tremaining: 1h 29m 38s\n",
            "745:\tlearn: 0.7558190\ttotal: 4h 22m 14s\tremaining: 1h 29m 17s\n",
            "746:\tlearn: 0.7554979\ttotal: 4h 22m 36s\tremaining: 1h 28m 56s\n",
            "747:\tlearn: 0.7554674\ttotal: 4h 22m 57s\tremaining: 1h 28m 35s\n",
            "748:\tlearn: 0.7550095\ttotal: 4h 23m 18s\tremaining: 1h 28m 14s\n",
            "749:\tlearn: 0.7550019\ttotal: 4h 23m 39s\tremaining: 1h 27m 53s\n",
            "750:\tlearn: 0.7548086\ttotal: 4h 24m\tremaining: 1h 27m 32s\n",
            "751:\tlearn: 0.7545487\ttotal: 4h 24m 21s\tremaining: 1h 27m 11s\n",
            "752:\tlearn: 0.7543454\ttotal: 4h 24m 43s\tremaining: 1h 26m 49s\n",
            "753:\tlearn: 0.7543259\ttotal: 4h 25m 4s\tremaining: 1h 26m 28s\n",
            "754:\tlearn: 0.7542561\ttotal: 4h 25m 25s\tremaining: 1h 26m 7s\n",
            "755:\tlearn: 0.7538980\ttotal: 4h 25m 46s\tremaining: 1h 25m 46s\n",
            "756:\tlearn: 0.7538920\ttotal: 4h 26m 7s\tremaining: 1h 25m 25s\n",
            "757:\tlearn: 0.7538792\ttotal: 4h 26m 29s\tremaining: 1h 25m 4s\n",
            "758:\tlearn: 0.7538164\ttotal: 4h 26m 50s\tremaining: 1h 24m 43s\n",
            "759:\tlearn: 0.7538046\ttotal: 4h 27m 11s\tremaining: 1h 24m 22s\n",
            "760:\tlearn: 0.7537810\ttotal: 4h 27m 32s\tremaining: 1h 24m 1s\n",
            "761:\tlearn: 0.7537494\ttotal: 4h 27m 54s\tremaining: 1h 23m 40s\n",
            "762:\tlearn: 0.7537355\ttotal: 4h 28m 15s\tremaining: 1h 23m 19s\n",
            "763:\tlearn: 0.7536996\ttotal: 4h 28m 36s\tremaining: 1h 22m 58s\n",
            "764:\tlearn: 0.7536893\ttotal: 4h 28m 57s\tremaining: 1h 22m 37s\n",
            "765:\tlearn: 0.7536199\ttotal: 4h 29m 18s\tremaining: 1h 22m 16s\n",
            "766:\tlearn: 0.7536051\ttotal: 4h 29m 40s\tremaining: 1h 21m 55s\n",
            "767:\tlearn: 0.7535030\ttotal: 4h 30m 1s\tremaining: 1h 21m 34s\n",
            "768:\tlearn: 0.7533871\ttotal: 4h 30m 22s\tremaining: 1h 21m 13s\n",
            "769:\tlearn: 0.7532305\ttotal: 4h 30m 43s\tremaining: 1h 20m 51s\n",
            "770:\tlearn: 0.7532221\ttotal: 4h 31m 4s\tremaining: 1h 20m 30s\n",
            "771:\tlearn: 0.7532068\ttotal: 4h 31m 26s\tremaining: 1h 20m 9s\n",
            "772:\tlearn: 0.7531915\ttotal: 4h 31m 47s\tremaining: 1h 19m 48s\n",
            "773:\tlearn: 0.7531528\ttotal: 4h 32m 8s\tremaining: 1h 19m 27s\n",
            "774:\tlearn: 0.7531390\ttotal: 4h 32m 29s\tremaining: 1h 19m 6s\n",
            "775:\tlearn: 0.7529584\ttotal: 4h 32m 51s\tremaining: 1h 18m 45s\n",
            "776:\tlearn: 0.7529526\ttotal: 4h 33m 12s\tremaining: 1h 18m 24s\n",
            "777:\tlearn: 0.7529315\ttotal: 4h 33m 33s\tremaining: 1h 18m 3s\n",
            "778:\tlearn: 0.7529161\ttotal: 4h 33m 54s\tremaining: 1h 17m 42s\n",
            "779:\tlearn: 0.7529043\ttotal: 4h 34m 15s\tremaining: 1h 17m 21s\n",
            "780:\tlearn: 0.7528347\ttotal: 4h 34m 37s\tremaining: 1h 17m\n",
            "781:\tlearn: 0.7526333\ttotal: 4h 34m 58s\tremaining: 1h 16m 39s\n",
            "782:\tlearn: 0.7526272\ttotal: 4h 35m 19s\tremaining: 1h 16m 18s\n",
            "783:\tlearn: 0.7525058\ttotal: 4h 35m 40s\tremaining: 1h 15m 57s\n",
            "784:\tlearn: 0.7524974\ttotal: 4h 36m 1s\tremaining: 1h 15m 36s\n",
            "785:\tlearn: 0.7524793\ttotal: 4h 36m 23s\tremaining: 1h 15m 14s\n",
            "786:\tlearn: 0.7523412\ttotal: 4h 36m 44s\tremaining: 1h 14m 53s\n",
            "787:\tlearn: 0.7523364\ttotal: 4h 37m 5s\tremaining: 1h 14m 32s\n",
            "788:\tlearn: 0.7520625\ttotal: 4h 37m 26s\tremaining: 1h 14m 11s\n",
            "789:\tlearn: 0.7520572\ttotal: 4h 37m 47s\tremaining: 1h 13m 50s\n",
            "790:\tlearn: 0.7519967\ttotal: 4h 38m 8s\tremaining: 1h 13m 29s\n",
            "791:\tlearn: 0.7518981\ttotal: 4h 38m 29s\tremaining: 1h 13m 8s\n",
            "792:\tlearn: 0.7514963\ttotal: 4h 38m 50s\tremaining: 1h 12m 47s\n",
            "793:\tlearn: 0.7514828\ttotal: 4h 39m 12s\tremaining: 1h 12m 26s\n",
            "794:\tlearn: 0.7513969\ttotal: 4h 39m 33s\tremaining: 1h 12m 5s\n",
            "795:\tlearn: 0.7511315\ttotal: 4h 39m 54s\tremaining: 1h 11m 44s\n",
            "796:\tlearn: 0.7510541\ttotal: 4h 40m 15s\tremaining: 1h 11m 23s\n",
            "797:\tlearn: 0.7509591\ttotal: 4h 40m 37s\tremaining: 1h 11m 2s\n",
            "798:\tlearn: 0.7507641\ttotal: 4h 40m 58s\tremaining: 1h 10m 40s\n",
            "799:\tlearn: 0.7505925\ttotal: 4h 41m 19s\tremaining: 1h 10m 19s\n",
            "800:\tlearn: 0.7504107\ttotal: 4h 41m 40s\tremaining: 1h 9m 58s\n",
            "801:\tlearn: 0.7504025\ttotal: 4h 42m 2s\tremaining: 1h 9m 37s\n",
            "802:\tlearn: 0.7503967\ttotal: 4h 42m 23s\tremaining: 1h 9m 16s\n",
            "803:\tlearn: 0.7502877\ttotal: 4h 42m 44s\tremaining: 1h 8m 55s\n",
            "804:\tlearn: 0.7502592\ttotal: 4h 43m 5s\tremaining: 1h 8m 34s\n",
            "805:\tlearn: 0.7502458\ttotal: 4h 43m 27s\tremaining: 1h 8m 13s\n",
            "806:\tlearn: 0.7502203\ttotal: 4h 43m 48s\tremaining: 1h 7m 52s\n",
            "807:\tlearn: 0.7502088\ttotal: 4h 44m 9s\tremaining: 1h 7m 31s\n",
            "808:\tlearn: 0.7498884\ttotal: 4h 44m 30s\tremaining: 1h 7m 10s\n",
            "809:\tlearn: 0.7498721\ttotal: 4h 44m 51s\tremaining: 1h 6m 49s\n",
            "810:\tlearn: 0.7498475\ttotal: 4h 45m 13s\tremaining: 1h 6m 28s\n",
            "811:\tlearn: 0.7498184\ttotal: 4h 45m 34s\tremaining: 1h 6m 7s\n",
            "812:\tlearn: 0.7497805\ttotal: 4h 45m 55s\tremaining: 1h 5m 46s\n",
            "813:\tlearn: 0.7496729\ttotal: 4h 46m 17s\tremaining: 1h 5m 25s\n",
            "814:\tlearn: 0.7496216\ttotal: 4h 46m 38s\tremaining: 1h 5m 4s\n",
            "815:\tlearn: 0.7495386\ttotal: 4h 47m\tremaining: 1h 4m 42s\n",
            "816:\tlearn: 0.7495267\ttotal: 4h 47m 21s\tremaining: 1h 4m 21s\n",
            "817:\tlearn: 0.7495164\ttotal: 4h 47m 42s\tremaining: 1h 4m\n",
            "818:\tlearn: 0.7495021\ttotal: 4h 48m 4s\tremaining: 1h 3m 39s\n",
            "819:\tlearn: 0.7494901\ttotal: 4h 48m 25s\tremaining: 1h 3m 18s\n",
            "820:\tlearn: 0.7494815\ttotal: 4h 48m 46s\tremaining: 1h 2m 57s\n",
            "821:\tlearn: 0.7494763\ttotal: 4h 49m 8s\tremaining: 1h 2m 36s\n",
            "822:\tlearn: 0.7494626\ttotal: 4h 49m 29s\tremaining: 1h 2m 15s\n",
            "823:\tlearn: 0.7491798\ttotal: 4h 49m 50s\tremaining: 1h 1m 54s\n",
            "824:\tlearn: 0.7490477\ttotal: 4h 50m 12s\tremaining: 1h 1m 33s\n",
            "825:\tlearn: 0.7490338\ttotal: 4h 50m 33s\tremaining: 1h 1m 12s\n",
            "826:\tlearn: 0.7490214\ttotal: 4h 50m 54s\tremaining: 1h 51s\n",
            "827:\tlearn: 0.7490112\ttotal: 4h 51m 16s\tremaining: 1h 30s\n",
            "828:\tlearn: 0.7490042\ttotal: 4h 51m 37s\tremaining: 1h 9s\n",
            "829:\tlearn: 0.7489980\ttotal: 4h 51m 59s\tremaining: 59m 48s\n",
            "830:\tlearn: 0.7489909\ttotal: 4h 52m 20s\tremaining: 59m 27s\n",
            "831:\tlearn: 0.7489759\ttotal: 4h 52m 42s\tremaining: 59m 6s\n",
            "832:\tlearn: 0.7489701\ttotal: 4h 53m 3s\tremaining: 58m 45s\n",
            "833:\tlearn: 0.7489599\ttotal: 4h 53m 24s\tremaining: 58m 24s\n",
            "834:\tlearn: 0.7487497\ttotal: 4h 53m 46s\tremaining: 58m 3s\n",
            "835:\tlearn: 0.7487050\ttotal: 4h 54m 7s\tremaining: 57m 41s\n",
            "836:\tlearn: 0.7485916\ttotal: 4h 54m 28s\tremaining: 57m 20s\n",
            "837:\tlearn: 0.7485784\ttotal: 4h 54m 50s\tremaining: 56m 59s\n",
            "838:\tlearn: 0.7485732\ttotal: 4h 55m 11s\tremaining: 56m 38s\n",
            "839:\tlearn: 0.7485577\ttotal: 4h 55m 32s\tremaining: 56m 17s\n",
            "840:\tlearn: 0.7485349\ttotal: 4h 55m 53s\tremaining: 55m 56s\n",
            "841:\tlearn: 0.7484850\ttotal: 4h 56m 15s\tremaining: 55m 35s\n",
            "842:\tlearn: 0.7483841\ttotal: 4h 56m 36s\tremaining: 55m 14s\n",
            "843:\tlearn: 0.7483751\ttotal: 4h 56m 57s\tremaining: 54m 53s\n",
            "844:\tlearn: 0.7483628\ttotal: 4h 57m 18s\tremaining: 54m 32s\n",
            "845:\tlearn: 0.7483530\ttotal: 4h 57m 40s\tremaining: 54m 11s\n",
            "846:\tlearn: 0.7482292\ttotal: 4h 58m 1s\tremaining: 53m 50s\n",
            "847:\tlearn: 0.7481021\ttotal: 4h 58m 22s\tremaining: 53m 28s\n",
            "848:\tlearn: 0.7480776\ttotal: 4h 58m 43s\tremaining: 53m 7s\n",
            "849:\tlearn: 0.7479986\ttotal: 4h 59m 5s\tremaining: 52m 46s\n",
            "850:\tlearn: 0.7478661\ttotal: 4h 59m 26s\tremaining: 52m 25s\n",
            "851:\tlearn: 0.7478580\ttotal: 4h 59m 47s\tremaining: 52m 4s\n",
            "852:\tlearn: 0.7478518\ttotal: 5h 8s\tremaining: 51m 43s\n",
            "853:\tlearn: 0.7478409\ttotal: 5h 30s\tremaining: 51m 22s\n",
            "854:\tlearn: 0.7476154\ttotal: 5h 51s\tremaining: 51m 1s\n",
            "855:\tlearn: 0.7476050\ttotal: 5h 1m 12s\tremaining: 50m 40s\n",
            "856:\tlearn: 0.7475469\ttotal: 5h 1m 34s\tremaining: 50m 19s\n",
            "857:\tlearn: 0.7475254\ttotal: 5h 1m 55s\tremaining: 49m 58s\n",
            "858:\tlearn: 0.7473891\ttotal: 5h 2m 16s\tremaining: 49m 37s\n",
            "859:\tlearn: 0.7471627\ttotal: 5h 2m 38s\tremaining: 49m 15s\n",
            "860:\tlearn: 0.7471087\ttotal: 5h 2m 59s\tremaining: 48m 54s\n",
            "861:\tlearn: 0.7469497\ttotal: 5h 3m 20s\tremaining: 48m 33s\n",
            "862:\tlearn: 0.7469425\ttotal: 5h 3m 41s\tremaining: 48m 12s\n",
            "863:\tlearn: 0.7469303\ttotal: 5h 4m 2s\tremaining: 47m 51s\n",
            "864:\tlearn: 0.7468358\ttotal: 5h 4m 23s\tremaining: 47m 30s\n",
            "865:\tlearn: 0.7467807\ttotal: 5h 4m 45s\tremaining: 47m 9s\n",
            "866:\tlearn: 0.7466778\ttotal: 5h 5m 6s\tremaining: 46m 48s\n",
            "867:\tlearn: 0.7466642\ttotal: 5h 5m 27s\tremaining: 46m 27s\n",
            "868:\tlearn: 0.7463778\ttotal: 5h 5m 48s\tremaining: 46m 6s\n",
            "869:\tlearn: 0.7463102\ttotal: 5h 6m 9s\tremaining: 45m 44s\n",
            "870:\tlearn: 0.7462770\ttotal: 5h 6m 30s\tremaining: 45m 23s\n",
            "871:\tlearn: 0.7461644\ttotal: 5h 6m 51s\tremaining: 45m 2s\n",
            "872:\tlearn: 0.7460671\ttotal: 5h 7m 12s\tremaining: 44m 41s\n",
            "873:\tlearn: 0.7460536\ttotal: 5h 7m 34s\tremaining: 44m 20s\n",
            "874:\tlearn: 0.7459596\ttotal: 5h 7m 55s\tremaining: 43m 59s\n",
            "875:\tlearn: 0.7456650\ttotal: 5h 8m 15s\tremaining: 43m 38s\n",
            "876:\tlearn: 0.7456539\ttotal: 5h 8m 37s\tremaining: 43m 17s\n",
            "877:\tlearn: 0.7456393\ttotal: 5h 8m 58s\tremaining: 42m 55s\n",
            "878:\tlearn: 0.7456309\ttotal: 5h 9m 19s\tremaining: 42m 34s\n",
            "879:\tlearn: 0.7456202\ttotal: 5h 9m 40s\tremaining: 42m 13s\n",
            "880:\tlearn: 0.7456141\ttotal: 5h 10m 1s\tremaining: 41m 52s\n",
            "881:\tlearn: 0.7455975\ttotal: 5h 10m 22s\tremaining: 41m 31s\n",
            "882:\tlearn: 0.7453773\ttotal: 5h 10m 43s\tremaining: 41m 10s\n",
            "883:\tlearn: 0.7453696\ttotal: 5h 11m 5s\tremaining: 40m 49s\n",
            "884:\tlearn: 0.7453619\ttotal: 5h 11m 26s\tremaining: 40m 28s\n",
            "885:\tlearn: 0.7453548\ttotal: 5h 11m 47s\tremaining: 40m 7s\n",
            "886:\tlearn: 0.7452925\ttotal: 5h 12m 8s\tremaining: 39m 45s\n",
            "887:\tlearn: 0.7451723\ttotal: 5h 12m 29s\tremaining: 39m 24s\n",
            "888:\tlearn: 0.7451674\ttotal: 5h 12m 50s\tremaining: 39m 3s\n",
            "889:\tlearn: 0.7449016\ttotal: 5h 13m 11s\tremaining: 38m 42s\n",
            "890:\tlearn: 0.7448963\ttotal: 5h 13m 32s\tremaining: 38m 21s\n",
            "891:\tlearn: 0.7448806\ttotal: 5h 13m 53s\tremaining: 38m\n",
            "892:\tlearn: 0.7448360\ttotal: 5h 14m 15s\tremaining: 37m 39s\n",
            "893:\tlearn: 0.7448230\ttotal: 5h 14m 36s\tremaining: 37m 18s\n",
            "894:\tlearn: 0.7447241\ttotal: 5h 14m 57s\tremaining: 36m 56s\n",
            "895:\tlearn: 0.7446980\ttotal: 5h 15m 18s\tremaining: 36m 35s\n",
            "896:\tlearn: 0.7445468\ttotal: 5h 15m 39s\tremaining: 36m 14s\n",
            "897:\tlearn: 0.7443179\ttotal: 5h 16m\tremaining: 35m 53s\n",
            "898:\tlearn: 0.7442685\ttotal: 5h 16m 21s\tremaining: 35m 32s\n",
            "899:\tlearn: 0.7442546\ttotal: 5h 16m 42s\tremaining: 35m 11s\n",
            "900:\tlearn: 0.7441777\ttotal: 5h 17m 3s\tremaining: 34m 50s\n",
            "901:\tlearn: 0.7441732\ttotal: 5h 17m 25s\tremaining: 34m 29s\n",
            "902:\tlearn: 0.7436423\ttotal: 5h 17m 45s\tremaining: 34m 8s\n",
            "903:\tlearn: 0.7435641\ttotal: 5h 18m 7s\tremaining: 33m 46s\n",
            "904:\tlearn: 0.7435568\ttotal: 5h 18m 28s\tremaining: 33m 25s\n",
            "905:\tlearn: 0.7434316\ttotal: 5h 18m 49s\tremaining: 33m 4s\n",
            "906:\tlearn: 0.7434263\ttotal: 5h 19m 10s\tremaining: 32m 43s\n",
            "907:\tlearn: 0.7433991\ttotal: 5h 19m 31s\tremaining: 32m 22s\n",
            "908:\tlearn: 0.7433754\ttotal: 5h 19m 52s\tremaining: 32m 1s\n",
            "909:\tlearn: 0.7433437\ttotal: 5h 20m 14s\tremaining: 31m 40s\n",
            "910:\tlearn: 0.7433247\ttotal: 5h 20m 35s\tremaining: 31m 19s\n",
            "911:\tlearn: 0.7432654\ttotal: 5h 20m 56s\tremaining: 30m 58s\n",
            "912:\tlearn: 0.7431100\ttotal: 5h 21m 18s\tremaining: 30m 37s\n",
            "913:\tlearn: 0.7429942\ttotal: 5h 21m 39s\tremaining: 30m 15s\n",
            "914:\tlearn: 0.7429874\ttotal: 5h 22m\tremaining: 29m 54s\n",
            "915:\tlearn: 0.7429801\ttotal: 5h 22m 21s\tremaining: 29m 33s\n",
            "916:\tlearn: 0.7429693\ttotal: 5h 22m 42s\tremaining: 29m 12s\n",
            "917:\tlearn: 0.7428926\ttotal: 5h 23m 4s\tremaining: 28m 51s\n",
            "918:\tlearn: 0.7428806\ttotal: 5h 23m 25s\tremaining: 28m 30s\n",
            "919:\tlearn: 0.7426754\ttotal: 5h 23m 46s\tremaining: 28m 9s\n",
            "920:\tlearn: 0.7425025\ttotal: 5h 24m 7s\tremaining: 27m 48s\n",
            "921:\tlearn: 0.7424923\ttotal: 5h 24m 28s\tremaining: 27m 27s\n",
            "922:\tlearn: 0.7424653\ttotal: 5h 24m 50s\tremaining: 27m 5s\n",
            "923:\tlearn: 0.7424615\ttotal: 5h 25m 11s\tremaining: 26m 44s\n",
            "924:\tlearn: 0.7424262\ttotal: 5h 25m 32s\tremaining: 26m 23s\n",
            "925:\tlearn: 0.7423417\ttotal: 5h 25m 53s\tremaining: 26m 2s\n",
            "926:\tlearn: 0.7421879\ttotal: 5h 26m 14s\tremaining: 25m 41s\n",
            "927:\tlearn: 0.7421807\ttotal: 5h 26m 35s\tremaining: 25m 20s\n",
            "928:\tlearn: 0.7421737\ttotal: 5h 26m 56s\tremaining: 24m 59s\n",
            "929:\tlearn: 0.7421204\ttotal: 5h 27m 18s\tremaining: 24m 38s\n",
            "930:\tlearn: 0.7420913\ttotal: 5h 27m 39s\tremaining: 24m 17s\n",
            "931:\tlearn: 0.7420733\ttotal: 5h 28m\tremaining: 23m 55s\n",
            "932:\tlearn: 0.7420668\ttotal: 5h 28m 22s\tremaining: 23m 34s\n",
            "933:\tlearn: 0.7419965\ttotal: 5h 28m 43s\tremaining: 23m 13s\n",
            "934:\tlearn: 0.7419687\ttotal: 5h 29m 4s\tremaining: 22m 52s\n",
            "935:\tlearn: 0.7416550\ttotal: 5h 29m 25s\tremaining: 22m 31s\n",
            "936:\tlearn: 0.7416393\ttotal: 5h 29m 46s\tremaining: 22m 10s\n",
            "937:\tlearn: 0.7414259\ttotal: 5h 30m 8s\tremaining: 21m 49s\n",
            "938:\tlearn: 0.7413915\ttotal: 5h 30m 29s\tremaining: 21m 28s\n",
            "939:\tlearn: 0.7413826\ttotal: 5h 30m 50s\tremaining: 21m 7s\n",
            "940:\tlearn: 0.7413642\ttotal: 5h 31m 11s\tremaining: 20m 45s\n",
            "941:\tlearn: 0.7412472\ttotal: 5h 31m 32s\tremaining: 20m 24s\n",
            "942:\tlearn: 0.7412406\ttotal: 5h 31m 54s\tremaining: 20m 3s\n",
            "943:\tlearn: 0.7412332\ttotal: 5h 32m 15s\tremaining: 19m 42s\n",
            "944:\tlearn: 0.7412147\ttotal: 5h 32m 36s\tremaining: 19m 21s\n",
            "945:\tlearn: 0.7411338\ttotal: 5h 32m 57s\tremaining: 19m\n",
            "946:\tlearn: 0.7409835\ttotal: 5h 33m 19s\tremaining: 18m 39s\n",
            "947:\tlearn: 0.7409736\ttotal: 5h 33m 40s\tremaining: 18m 18s\n",
            "948:\tlearn: 0.7409533\ttotal: 5h 34m 1s\tremaining: 17m 57s\n",
            "949:\tlearn: 0.7409465\ttotal: 5h 34m 22s\tremaining: 17m 35s\n",
            "950:\tlearn: 0.7408498\ttotal: 5h 34m 43s\tremaining: 17m 14s\n",
            "951:\tlearn: 0.7408439\ttotal: 5h 35m 5s\tremaining: 16m 53s\n",
            "952:\tlearn: 0.7408104\ttotal: 5h 35m 26s\tremaining: 16m 32s\n",
            "953:\tlearn: 0.7408012\ttotal: 5h 35m 47s\tremaining: 16m 11s\n",
            "954:\tlearn: 0.7407844\ttotal: 5h 36m 8s\tremaining: 15m 50s\n",
            "955:\tlearn: 0.7407705\ttotal: 5h 36m 29s\tremaining: 15m 29s\n",
            "956:\tlearn: 0.7406950\ttotal: 5h 36m 51s\tremaining: 15m 8s\n",
            "957:\tlearn: 0.7405957\ttotal: 5h 37m 12s\tremaining: 14m 47s\n",
            "958:\tlearn: 0.7405731\ttotal: 5h 37m 33s\tremaining: 14m 25s\n",
            "959:\tlearn: 0.7405481\ttotal: 5h 37m 55s\tremaining: 14m 4s\n",
            "960:\tlearn: 0.7403445\ttotal: 5h 38m 16s\tremaining: 13m 43s\n",
            "961:\tlearn: 0.7403289\ttotal: 5h 38m 37s\tremaining: 13m 22s\n",
            "962:\tlearn: 0.7402388\ttotal: 5h 38m 58s\tremaining: 13m 1s\n",
            "963:\tlearn: 0.7402181\ttotal: 5h 39m 19s\tremaining: 12m 40s\n",
            "964:\tlearn: 0.7401964\ttotal: 5h 39m 40s\tremaining: 12m 19s\n",
            "965:\tlearn: 0.7401878\ttotal: 5h 40m 1s\tremaining: 11m 58s\n",
            "966:\tlearn: 0.7401008\ttotal: 5h 40m 22s\tremaining: 11m 36s\n",
            "967:\tlearn: 0.7400926\ttotal: 5h 40m 44s\tremaining: 11m 15s\n",
            "968:\tlearn: 0.7400733\ttotal: 5h 41m 5s\tremaining: 10m 54s\n",
            "969:\tlearn: 0.7399816\ttotal: 5h 41m 26s\tremaining: 10m 33s\n",
            "970:\tlearn: 0.7398764\ttotal: 5h 41m 47s\tremaining: 10m 12s\n",
            "971:\tlearn: 0.7398601\ttotal: 5h 42m 9s\tremaining: 9m 51s\n",
            "972:\tlearn: 0.7398477\ttotal: 5h 42m 30s\tremaining: 9m 30s\n",
            "973:\tlearn: 0.7398366\ttotal: 5h 42m 51s\tremaining: 9m 9s\n",
            "974:\tlearn: 0.7398298\ttotal: 5h 43m 12s\tremaining: 8m 48s\n",
            "975:\tlearn: 0.7398249\ttotal: 5h 43m 34s\tremaining: 8m 26s\n",
            "976:\tlearn: 0.7397261\ttotal: 5h 43m 55s\tremaining: 8m 5s\n",
            "977:\tlearn: 0.7397203\ttotal: 5h 44m 16s\tremaining: 7m 44s\n",
            "978:\tlearn: 0.7397025\ttotal: 5h 44m 37s\tremaining: 7m 23s\n",
            "979:\tlearn: 0.7396360\ttotal: 5h 44m 58s\tremaining: 7m 2s\n",
            "980:\tlearn: 0.7396255\ttotal: 5h 45m 19s\tremaining: 6m 41s\n",
            "981:\tlearn: 0.7396188\ttotal: 5h 45m 41s\tremaining: 6m 20s\n",
            "982:\tlearn: 0.7395121\ttotal: 5h 46m 2s\tremaining: 5m 59s\n",
            "983:\tlearn: 0.7394945\ttotal: 5h 46m 23s\tremaining: 5m 37s\n",
            "984:\tlearn: 0.7394895\ttotal: 5h 46m 44s\tremaining: 5m 16s\n",
            "985:\tlearn: 0.7393519\ttotal: 5h 47m 5s\tremaining: 4m 55s\n",
            "986:\tlearn: 0.7393445\ttotal: 5h 47m 26s\tremaining: 4m 34s\n",
            "987:\tlearn: 0.7393393\ttotal: 5h 47m 48s\tremaining: 4m 13s\n",
            "988:\tlearn: 0.7393138\ttotal: 5h 48m 9s\tremaining: 3m 52s\n",
            "989:\tlearn: 0.7393057\ttotal: 5h 48m 30s\tremaining: 3m 31s\n",
            "990:\tlearn: 0.7392989\ttotal: 5h 48m 52s\tremaining: 3m 10s\n",
            "991:\tlearn: 0.7391457\ttotal: 5h 49m 13s\tremaining: 2m 48s\n",
            "992:\tlearn: 0.7391312\ttotal: 5h 49m 34s\tremaining: 2m 27s\n",
            "993:\tlearn: 0.7390571\ttotal: 5h 49m 55s\tremaining: 2m 6s\n",
            "994:\tlearn: 0.7390525\ttotal: 5h 50m 16s\tremaining: 1m 45s\n",
            "995:\tlearn: 0.7390003\ttotal: 5h 50m 38s\tremaining: 1m 24s\n",
            "996:\tlearn: 0.7389858\ttotal: 5h 50m 59s\tremaining: 1m 3s\n",
            "997:\tlearn: 0.7389795\ttotal: 5h 51m 20s\tremaining: 42.2s\n",
            "998:\tlearn: 0.7389070\ttotal: 5h 51m 42s\tremaining: 21.1s\n",
            "999:\tlearn: 0.7388261\ttotal: 5h 52m 3s\tremaining: 0us\n"
          ]
        },
        {
          "output_type": "execute_result",
          "data": {
            "text/plain": [
              "<catboost.core.CatBoostClassifier at 0x7fb9e623b890>"
            ]
          },
          "metadata": {},
          "execution_count": 44
        }
      ]
    },
    {
      "cell_type": "code",
      "metadata": {
        "colab": {
          "base_uri": "https://localhost:8080/"
        },
        "id": "vgMORf6NBt5L",
        "outputId": "6b991a81-7b44-4a9c-8e59-5595da53d7f7"
      },
      "source": [
        "y_predc = cat.predict(x_test)\n",
        "confusion_matrix(ytest, y_predc)"
      ],
      "execution_count": null,
      "outputs": [
        {
          "output_type": "execute_result",
          "data": {
            "text/plain": [
              "array([[ 844,    3,   50,    1,   26,    5,    6,   15,    9,   32,    4,\n",
              "          12],\n",
              "       [   4,  129,   14,    2,   17,  177,    0,    2,   36,   13,    4,\n",
              "          25],\n",
              "       [  65,    5, 1032,    5,   45,   29,    8,   21,   25,  122,    0,\n",
              "          15],\n",
              "       [   2,    2,    2,  423,   11,   10,    1,   10,   31,   34,   20,\n",
              "           0],\n",
              "       [  19,   17,   47,   10, 1368,   35,   33,   25,   80,  221,   17,\n",
              "          57],\n",
              "       [  21,   55,   37,    0,   56, 1277,    2,   13,   24,   40,   13,\n",
              "          45],\n",
              "       [  20,    8,   16,   14,  140,   23,  256,   13,   38,  134,    6,\n",
              "          20],\n",
              "       [  18,    3,   20,   12,   16,   30,    8,  593,   44,   34,   14,\n",
              "          32],\n",
              "       [   9,   24,   22,   17,   97,   43,   16,   14,  900,  107,   10,\n",
              "          27],\n",
              "       [  19,    2,   73,   30,  141,   30,   17,   24,   82, 2723,    2,\n",
              "          31],\n",
              "       [   7,    1,   20,   20,   19,   32,    1,   17,   15,   11,  316,\n",
              "           4],\n",
              "       [  28,   13,   20,    1,   56,   55,    0,   17,   14,   50,   11,\n",
              "        1631]])"
            ]
          },
          "metadata": {},
          "execution_count": 45
        }
      ]
    },
    {
      "cell_type": "code",
      "metadata": {
        "colab": {
          "base_uri": "https://localhost:8080/"
        },
        "id": "Y2Jq2RPCCc8F",
        "outputId": "495637cc-5293-4ffe-ad19-20a8e55c2cae"
      },
      "source": [
        "print(classification_report(ytest, y_predc))"
      ],
      "execution_count": null,
      "outputs": [
        {
          "output_type": "stream",
          "name": "stdout",
          "text": [
            "              precision    recall  f1-score   support\n",
            "\n",
            "           0       0.80      0.84      0.82      1007\n",
            "           1       0.49      0.30      0.38       423\n",
            "           2       0.76      0.75      0.76      1372\n",
            "           3       0.79      0.77      0.78       546\n",
            "           4       0.69      0.71      0.70      1929\n",
            "           5       0.73      0.81      0.77      1583\n",
            "           6       0.74      0.37      0.49       688\n",
            "           7       0.78      0.72      0.75       824\n",
            "           8       0.69      0.70      0.70      1286\n",
            "           9       0.77      0.86      0.81      3174\n",
            "          10       0.76      0.68      0.72       463\n",
            "          11       0.86      0.86      0.86      1896\n",
            "\n",
            "    accuracy                           0.76     15191\n",
            "   macro avg       0.74      0.70      0.71     15191\n",
            "weighted avg       0.75      0.76      0.75     15191\n",
            "\n"
          ]
        }
      ]
    },
    {
      "cell_type": "code",
      "metadata": {
        "colab": {
          "base_uri": "https://localhost:8080/"
        },
        "id": "D4NNT6YpCgl5",
        "outputId": "ebcd49bf-9c6c-41f4-904d-c1219b48cdda"
      },
      "source": [
        "cat.score(x_train, ytrain)"
      ],
      "execution_count": null,
      "outputs": [
        {
          "output_type": "execute_result",
          "data": {
            "text/plain": [
              "0.7795918367346939"
            ]
          },
          "metadata": {},
          "execution_count": 47
        }
      ]
    },
    {
      "cell_type": "code",
      "metadata": {
        "id": "i_T7J_tBziCz",
        "colab": {
          "base_uri": "https://localhost:8080/"
        },
        "outputId": "9e660a57-fff0-4dc3-b5b9-c14bb4770555"
      },
      "source": [
        "from sklearn.ensemble import AdaBoostClassifier\n",
        "ada = AdaBoostClassifier()\n",
        "ada.fit(x_train, ytrain)"
      ],
      "execution_count": null,
      "outputs": [
        {
          "output_type": "execute_result",
          "data": {
            "text/plain": [
              "AdaBoostClassifier(algorithm='SAMME.R', base_estimator=None, learning_rate=1.0,\n",
              "                   n_estimators=50, random_state=None)"
            ]
          },
          "metadata": {},
          "execution_count": 25
        }
      ]
    },
    {
      "cell_type": "code",
      "metadata": {
        "colab": {
          "base_uri": "https://localhost:8080/"
        },
        "id": "N_p1fip7fNmF",
        "outputId": "2f27ed0e-bfd0-46c9-e210-4bbe53795594"
      },
      "source": [
        "y_preda = ada.predict(x_test)\n",
        "confusion_matrix(ytest, y_preda)"
      ],
      "execution_count": null,
      "outputs": [
        {
          "output_type": "execute_result",
          "data": {
            "text/plain": [
              "array([[ 808,    3,   84,    2,   25,    9,    6,   18,    8,   23,    3,\n",
              "          18],\n",
              "       [   9,  199,   16,    4,   18,  101,    3,    5,   21,   10,    4,\n",
              "          33],\n",
              "       [ 392,   22,  518,   17,   67,   79,   10,   28,   24,  147,    8,\n",
              "          60],\n",
              "       [   5,    3,    6,  326,   53,   17,    6,   23,   37,   44,   23,\n",
              "           3],\n",
              "       [  84,   48,   54,   29,  872,  129,   65,   42,   94,  321,   34,\n",
              "         157],\n",
              "       [  36,  187,   44,   15,   98,  918,    3,   34,   44,   45,   49,\n",
              "         110],\n",
              "       [  36,   18,   28,   43,  156,   32,   91,   21,   39,  161,   12,\n",
              "          51],\n",
              "       [  46,   14,   48,   13,   41,   53,    2,  426,   42,   83,   14,\n",
              "          42],\n",
              "       [  46,   46,   65,   43,  180,   82,   19,   33,  441,  249,   33,\n",
              "          49],\n",
              "       [  75,    9,  100,   57,  156,   59,   14,   56,  114, 2447,    4,\n",
              "          83],\n",
              "       [  15,   41,    9,   27,   68,   53,    4,   24,   24,   15,  169,\n",
              "          14],\n",
              "       [  56,   29,   18,    8,   63,  127,    3,   81,   14,   54,   14,\n",
              "        1429]])"
            ]
          },
          "metadata": {},
          "execution_count": 26
        }
      ]
    },
    {
      "cell_type": "code",
      "metadata": {
        "colab": {
          "base_uri": "https://localhost:8080/"
        },
        "id": "UNatKuuefZAx",
        "outputId": "1988d719-d841-4907-9f92-79958c5717ae"
      },
      "source": [
        "print(classification_report(ytest, y_preda))"
      ],
      "execution_count": null,
      "outputs": [
        {
          "output_type": "stream",
          "name": "stdout",
          "text": [
            "              precision    recall  f1-score   support\n",
            "\n",
            "           0       0.50      0.80      0.62      1007\n",
            "           1       0.32      0.47      0.38       423\n",
            "           2       0.52      0.38      0.44      1372\n",
            "           3       0.56      0.60      0.58       546\n",
            "           4       0.49      0.45      0.47      1929\n",
            "           5       0.55      0.58      0.57      1583\n",
            "           6       0.40      0.13      0.20       688\n",
            "           7       0.54      0.52      0.53       824\n",
            "           8       0.49      0.34      0.40      1286\n",
            "           9       0.68      0.77      0.72      3174\n",
            "          10       0.46      0.37      0.41       463\n",
            "          11       0.70      0.75      0.72      1896\n",
            "\n",
            "    accuracy                           0.57     15191\n",
            "   macro avg       0.52      0.51      0.50     15191\n",
            "weighted avg       0.56      0.57      0.56     15191\n",
            "\n"
          ]
        }
      ]
    },
    {
      "cell_type": "code",
      "metadata": {
        "colab": {
          "base_uri": "https://localhost:8080/"
        },
        "id": "SAq_iA9tfcwS",
        "outputId": "e6f3d417-e09f-4f91-f0c9-d3939bfe43a8"
      },
      "source": [
        "ada.score(x_train, ytrain)"
      ],
      "execution_count": null,
      "outputs": [
        {
          "output_type": "execute_result",
          "data": {
            "text/plain": [
              "0.5680052666227782"
            ]
          },
          "metadata": {},
          "execution_count": 28
        }
      ]
    },
    {
      "cell_type": "code",
      "metadata": {
        "colab": {
          "base_uri": "https://localhost:8080/"
        },
        "id": "HxR635xXoM0w",
        "outputId": "7854e9a4-c0be-462d-9f0c-e5c003c5dbd7"
      },
      "source": [
        "from xgboost import XGBClassifier\n",
        "xgb = XGBClassifier(n_estimators = 1000)\n",
        "xgb.fit(x_train, ytrain)"
      ],
      "execution_count": null,
      "outputs": [
        {
          "output_type": "execute_result",
          "data": {
            "text/plain": [
              "XGBClassifier(base_score=0.5, booster='gbtree', colsample_bylevel=1,\n",
              "              colsample_bynode=1, colsample_bytree=1, gamma=0,\n",
              "              learning_rate=0.1, max_delta_step=0, max_depth=3,\n",
              "              min_child_weight=1, missing=None, n_estimators=1000, n_jobs=1,\n",
              "              nthread=None, objective='multi:softprob', random_state=0,\n",
              "              reg_alpha=0, reg_lambda=1, scale_pos_weight=1, seed=None,\n",
              "              silent=None, subsample=1, verbosity=1)"
            ]
          },
          "metadata": {
            "tags": []
          },
          "execution_count": 21
        }
      ]
    },
    {
      "cell_type": "code",
      "metadata": {
        "colab": {
          "base_uri": "https://localhost:8080/"
        },
        "id": "webJVt_2EyjR",
        "outputId": "bb6f21d2-7862-4879-f775-59c254eeb077"
      },
      "source": [
        "y_predx = xgb.predict(x_test)\n",
        "confusion_matrix(ytest, y_predx)"
      ],
      "execution_count": null,
      "outputs": [
        {
          "output_type": "execute_result",
          "data": {
            "text/plain": [
              "array([[ 859,    4,   40,    1,   26,    6,   11,    9,    9,   27,    3,\n",
              "          12],\n",
              "       [   7,  160,   12,    0,   16,  152,    1,    6,   32,    9,    5,\n",
              "          23],\n",
              "       [  41,    8, 1089,    4,   35,   19,   13,   14,   19,  121,    0,\n",
              "           9],\n",
              "       [   0,    2,    5,  442,    5,    7,    2,    9,   26,   35,   13,\n",
              "           0],\n",
              "       [  17,   18,   39,    6, 1370,   38,   41,   28,   67,  234,   17,\n",
              "          54],\n",
              "       [  13,   96,   34,    0,   53, 1255,    4,   12,   22,   40,   16,\n",
              "          38],\n",
              "       [  16,    8,   16,   11,  117,   20,  305,    8,   45,  119,    6,\n",
              "          17],\n",
              "       [  11,    6,   15,    9,   16,   14,    7,  646,   32,   28,   12,\n",
              "          28],\n",
              "       [   8,   22,   18,   15,   76,   44,   20,   11,  932,  108,   10,\n",
              "          22],\n",
              "       [  22,    4,   71,   27,  143,   34,   34,   18,   79, 2716,    2,\n",
              "          24],\n",
              "       [   9,    5,   16,   13,   15,   30,    4,   13,   12,    7,  335,\n",
              "           4],\n",
              "       [  25,   20,   20,    3,   42,   49,    3,   20,   10,   47,    9,\n",
              "        1648]])"
            ]
          },
          "metadata": {
            "tags": []
          },
          "execution_count": 22
        }
      ]
    },
    {
      "cell_type": "code",
      "metadata": {
        "colab": {
          "base_uri": "https://localhost:8080/"
        },
        "id": "4LgYGwZkFEgb",
        "outputId": "a0231dca-590b-4f04-9684-25800c119fec"
      },
      "source": [
        "print(classification_report(ytest, y_predx))"
      ],
      "execution_count": null,
      "outputs": [
        {
          "output_type": "stream",
          "text": [
            "              precision    recall  f1-score   support\n",
            "\n",
            "           0       0.84      0.85      0.84      1007\n",
            "           1       0.45      0.38      0.41       423\n",
            "           2       0.79      0.79      0.79      1372\n",
            "           3       0.83      0.81      0.82       546\n",
            "           4       0.72      0.71      0.71      1929\n",
            "           5       0.75      0.79      0.77      1583\n",
            "           6       0.69      0.44      0.54       688\n",
            "           7       0.81      0.78      0.80       824\n",
            "           8       0.73      0.72      0.73      1286\n",
            "           9       0.78      0.86      0.82      3174\n",
            "          10       0.78      0.72      0.75       463\n",
            "          11       0.88      0.87      0.87      1896\n",
            "\n",
            "    accuracy                           0.77     15191\n",
            "   macro avg       0.75      0.73      0.74     15191\n",
            "weighted avg       0.77      0.77      0.77     15191\n",
            "\n"
          ],
          "name": "stdout"
        }
      ]
    },
    {
      "cell_type": "code",
      "metadata": {
        "colab": {
          "base_uri": "https://localhost:8080/"
        },
        "id": "FqgFf771pJwa",
        "outputId": "428d7848-5e9d-48fd-c7b7-950b3c71a3d5"
      },
      "source": [
        "xgb.score(x_train, ytrain)"
      ],
      "execution_count": null,
      "outputs": [
        {
          "output_type": "execute_result",
          "data": {
            "text/plain": [
              "0.8836899275839368"
            ]
          },
          "metadata": {
            "tags": []
          },
          "execution_count": 24
        }
      ]
    },
    {
      "cell_type": "code",
      "metadata": {
        "colab": {
          "base_uri": "https://localhost:8080/"
        },
        "id": "ehX5jiqQJvcQ",
        "outputId": "491790e9-5d0c-40b9-d338-1860ab3dfb22"
      },
      "source": [
        "from sklearn.naive_bayes import MultinomialNB\n",
        "mNB = MultinomialNB(alpha = 0.01)\n",
        "mNB.fit(x_train, ytrain)"
      ],
      "execution_count": null,
      "outputs": [
        {
          "output_type": "execute_result",
          "data": {
            "text/plain": [
              "MultinomialNB(alpha=0.01, class_prior=None, fit_prior=True)"
            ]
          },
          "metadata": {},
          "execution_count": 22
        }
      ]
    },
    {
      "cell_type": "code",
      "metadata": {
        "colab": {
          "base_uri": "https://localhost:8080/"
        },
        "id": "iMllXYDHMp4E",
        "outputId": "b22bee32-4ac4-4422-95ff-f11c2dd4f30a"
      },
      "source": [
        "y_predm = mNB.predict(x_test)\n",
        "confusion_matrix(ytest, y_predm)"
      ],
      "execution_count": null,
      "outputs": [
        {
          "output_type": "execute_result",
          "data": {
            "text/plain": [
              "array([[ 787,    2,   67,    1,   25,    5,   13,   37,    7,   50,    3,\n",
              "          10],\n",
              "       [   3,  111,   13,    0,   19,  198,    0,    2,   33,   26,    3,\n",
              "          15],\n",
              "       [ 107,    4,  980,    3,   36,   15,    7,   24,   13,  181,    0,\n",
              "           2],\n",
              "       [   2,    1,    2,  373,   25,   10,    5,    7,   33,   73,   12,\n",
              "           3],\n",
              "       [  23,   17,   66,    6, 1222,   44,   30,   33,   63,  352,   15,\n",
              "          58],\n",
              "       [  15,   36,   59,    0,   66, 1227,    4,   26,   16,  101,   12,\n",
              "          21],\n",
              "       [  20,   11,   22,   14,  108,   12,  225,   13,   29,  222,    1,\n",
              "          11],\n",
              "       [   7,    5,   11,    3,   17,   25,    5,  601,   41,   67,   15,\n",
              "          27],\n",
              "       [   6,   26,   17,   17,  120,   47,   25,   39,  705,  248,   13,\n",
              "          23],\n",
              "       [  30,    3,   61,   19,  153,   20,   20,   20,   50, 2780,    2,\n",
              "          16],\n",
              "       [   7,    0,   14,    7,   30,   25,    3,   13,   30,   17,  313,\n",
              "           4],\n",
              "       [  37,   10,   35,    2,   35,   52,    2,   15,    7,   73,   13,\n",
              "        1615]])"
            ]
          },
          "metadata": {},
          "execution_count": 23
        }
      ]
    },
    {
      "cell_type": "code",
      "metadata": {
        "colab": {
          "base_uri": "https://localhost:8080/"
        },
        "id": "SG5QCiRsM2YO",
        "outputId": "ca94301c-4738-4be0-ff00-2788a54f65ee"
      },
      "source": [
        "print(classification_report(ytest, y_predm))"
      ],
      "execution_count": null,
      "outputs": [
        {
          "output_type": "stream",
          "name": "stdout",
          "text": [
            "              precision    recall  f1-score   support\n",
            "\n",
            "           0       0.75      0.78      0.77      1007\n",
            "           1       0.49      0.26      0.34       423\n",
            "           2       0.73      0.71      0.72      1372\n",
            "           3       0.84      0.68      0.75       546\n",
            "           4       0.66      0.63      0.65      1929\n",
            "           5       0.73      0.78      0.75      1583\n",
            "           6       0.66      0.33      0.44       688\n",
            "           7       0.72      0.73      0.73       824\n",
            "           8       0.69      0.55      0.61      1286\n",
            "           9       0.66      0.88      0.76      3174\n",
            "          10       0.78      0.68      0.72       463\n",
            "          11       0.89      0.85      0.87      1896\n",
            "\n",
            "    accuracy                           0.72     15191\n",
            "   macro avg       0.72      0.65      0.68     15191\n",
            "weighted avg       0.72      0.72      0.71     15191\n",
            "\n"
          ]
        }
      ]
    },
    {
      "cell_type": "code",
      "metadata": {
        "colab": {
          "base_uri": "https://localhost:8080/"
        },
        "id": "EZtTMYbbK9Zu",
        "outputId": "f673d169-9a45-4b3f-e0cb-4ab794b31d60"
      },
      "source": [
        "mNB.score(x_train, ytrain)"
      ],
      "execution_count": null,
      "outputs": [
        {
          "output_type": "execute_result",
          "data": {
            "text/plain": [
              "0.7847267939433838"
            ]
          },
          "metadata": {},
          "execution_count": 25
        }
      ]
    },
    {
      "cell_type": "code",
      "metadata": {
        "colab": {
          "base_uri": "https://localhost:8080/"
        },
        "id": "e_TG-o3xitbJ",
        "outputId": "110181ca-f3cc-4c17-e1e7-1895dffe53fa"
      },
      "source": [
        "from sklearn.neural_network import MLPClassifier\n",
        "nnc=MLPClassifier(max_iter = 1000)\n",
        "nnc.fit(x_train, ytrain)"
      ],
      "execution_count": null,
      "outputs": [
        {
          "output_type": "execute_result",
          "data": {
            "text/plain": [
              "MLPClassifier(activation='relu', alpha=0.0001, batch_size='auto', beta_1=0.9,\n",
              "              beta_2=0.999, early_stopping=False, epsilon=1e-08,\n",
              "              hidden_layer_sizes=(100,), learning_rate='constant',\n",
              "              learning_rate_init=0.001, max_fun=15000, max_iter=1000,\n",
              "              momentum=0.9, n_iter_no_change=10, nesterovs_momentum=True,\n",
              "              power_t=0.5, random_state=None, shuffle=True, solver='adam',\n",
              "              tol=0.0001, validation_fraction=0.1, verbose=False,\n",
              "              warm_start=False)"
            ]
          },
          "metadata": {
            "tags": []
          },
          "execution_count": 40
        }
      ]
    },
    {
      "cell_type": "code",
      "metadata": {
        "colab": {
          "base_uri": "https://localhost:8080/"
        },
        "id": "1Mmk3TTIyOP5",
        "outputId": "e4051848-547c-4c3e-bf39-27b874573685"
      },
      "source": [
        "y_predM = nnc.predict(x_test)\n",
        "confusion_matrix(ytest, y_predM)"
      ],
      "execution_count": null,
      "outputs": [
        {
          "output_type": "execute_result",
          "data": {
            "text/plain": [
              "array([[ 793,    5,   68,    2,   33,   11,   13,   11,    4,   34,    6,\n",
              "          27],\n",
              "       [   8,  118,   13,    1,   39,  140,    9,    8,   37,   17,    8,\n",
              "          25],\n",
              "       [  46,   12,  985,    8,   71,   41,   24,   18,   20,  115,    5,\n",
              "          27],\n",
              "       [   5,    1,    2,  433,   15,    7,    5,   11,   24,   32,    8,\n",
              "           3],\n",
              "       [  13,   16,   53,   11, 1306,   50,   86,   14,   98,  211,   11,\n",
              "          60],\n",
              "       [  18,   99,   58,    2,   83, 1115,   18,   16,   31,   50,   25,\n",
              "          68],\n",
              "       [  27,    3,   22,   17,  133,   17,  275,   14,   51,  101,    7,\n",
              "          21],\n",
              "       [  14,    3,   18,   11,   25,   27,   19,  600,   34,   25,   17,\n",
              "          31],\n",
              "       [   9,   20,   30,   19,  121,   47,   27,   17,  842,  112,   16,\n",
              "          26],\n",
              "       [  32,    6,   92,   24,  259,   46,   83,   31,  102, 2448,    3,\n",
              "          48],\n",
              "       [   4,    3,   13,   17,   28,   25,   10,   16,   26,    9,  305,\n",
              "           7],\n",
              "       [  27,   18,   30,    5,   66,   47,   17,   24,   17,   47,   11,\n",
              "        1587]])"
            ]
          },
          "metadata": {
            "tags": []
          },
          "execution_count": 72
        }
      ]
    },
    {
      "cell_type": "code",
      "metadata": {
        "colab": {
          "base_uri": "https://localhost:8080/"
        },
        "id": "uNE1kVZ3mwso",
        "outputId": "8bb2a5cb-75ed-4ffa-a2e0-4c75c0d58535"
      },
      "source": [
        "print(classification_report(ytest, y_predM))"
      ],
      "execution_count": null,
      "outputs": [
        {
          "output_type": "stream",
          "text": [
            "              precision    recall  f1-score   support\n",
            "\n",
            "           0       0.80      0.79      0.79      1007\n",
            "           1       0.39      0.28      0.32       423\n",
            "           2       0.71      0.72      0.71      1372\n",
            "           3       0.79      0.79      0.79       546\n",
            "           4       0.60      0.68      0.64      1929\n",
            "           5       0.71      0.70      0.71      1583\n",
            "           6       0.47      0.40      0.43       688\n",
            "           7       0.77      0.73      0.75       824\n",
            "           8       0.65      0.65      0.65      1286\n",
            "           9       0.76      0.77      0.77      3174\n",
            "          10       0.72      0.66      0.69       463\n",
            "          11       0.82      0.84      0.83      1896\n",
            "\n",
            "    accuracy                           0.71     15191\n",
            "   macro avg       0.68      0.67      0.67     15191\n",
            "weighted avg       0.71      0.71      0.71     15191\n",
            "\n"
          ],
          "name": "stdout"
        }
      ]
    },
    {
      "cell_type": "code",
      "metadata": {
        "colab": {
          "base_uri": "https://localhost:8080/"
        },
        "id": "6yhM4yPUsR_H",
        "outputId": "634e22f5-3d07-4d6d-c131-0e5625f03dd3"
      },
      "source": [
        "nnc.score(x_train, ytrain)"
      ],
      "execution_count": null,
      "outputs": [
        {
          "output_type": "execute_result",
          "data": {
            "text/plain": [
              "0.9630842659644503"
            ]
          },
          "metadata": {
            "tags": []
          },
          "execution_count": 42
        }
      ]
    },
    {
      "cell_type": "code",
      "metadata": {
        "colab": {
          "base_uri": "https://localhost:8080/"
        },
        "id": "Y75UO5Bdx74U",
        "outputId": "3107a961-b88c-4cc5-914a-cbb4980ad548"
      },
      "source": [
        "from sklearn.svm import SVC\n",
        "svc = SVC()\n",
        "svc.fit(x_train, ytrain)"
      ],
      "execution_count": null,
      "outputs": [
        {
          "output_type": "execute_result",
          "data": {
            "text/plain": [
              "SVC(C=1.0, break_ties=False, cache_size=200, class_weight=None, coef0=0.0,\n",
              "    decision_function_shape='ovr', degree=3, gamma='scale', kernel='rbf',\n",
              "    max_iter=-1, probability=False, random_state=None, shrinking=True,\n",
              "    tol=0.001, verbose=False)"
            ]
          },
          "metadata": {
            "tags": []
          },
          "execution_count": 21
        }
      ]
    },
    {
      "cell_type": "code",
      "metadata": {
        "colab": {
          "base_uri": "https://localhost:8080/"
        },
        "id": "1DTaAUzC2kpY",
        "outputId": "52e29408-fcd9-438d-bd88-2bf5110eb111"
      },
      "source": [
        "y_predS = svc.predict(x_test)\n",
        "confusion_matrix(ytest, y_predS)"
      ],
      "execution_count": null,
      "outputs": [
        {
          "output_type": "execute_result",
          "data": {
            "text/plain": [
              "array([[ 876,    3,   34,    1,   19,    7,   10,   11,    6,   29,    3,\n",
              "           8],\n",
              "       [   3,  131,   14,    1,   26,  173,    1,    4,   30,   17,    3,\n",
              "          20],\n",
              "       [  33,    2, 1114,    1,   33,   25,   10,   14,   20,  118,    0,\n",
              "           2],\n",
              "       [   2,    0,    1,  465,    6,    6,    4,    9,   16,   23,   14,\n",
              "           0],\n",
              "       [  15,   13,   42,    9, 1389,   44,   38,   21,   75,  225,   12,\n",
              "          46],\n",
              "       [  16,   54,   35,    2,   54, 1291,    6,   22,   17,   52,   13,\n",
              "          21],\n",
              "       [  17,    6,   18,   17,  129,   19,  292,    7,   42,  126,    4,\n",
              "          11],\n",
              "       [  11,    4,    9,    7,   16,   19,    6,  658,   28,   23,   16,\n",
              "          27],\n",
              "       [  10,   24,   24,   22,   98,   37,   20,   17,  892,  104,   15,\n",
              "          23],\n",
              "       [  26,    5,   52,   22,  135,   24,   33,   20,   76, 2758,    3,\n",
              "          20],\n",
              "       [   7,    2,   17,   15,   16,   27,    1,   10,   17,    6,  343,\n",
              "           2],\n",
              "       [  29,   10,   22,    6,   38,   49,    1,   15,   10,   44,    9,\n",
              "        1663]])"
            ]
          },
          "metadata": {
            "tags": []
          },
          "execution_count": 22
        }
      ]
    },
    {
      "cell_type": "code",
      "metadata": {
        "colab": {
          "base_uri": "https://localhost:8080/"
        },
        "id": "T4tsiEbQUDAH",
        "outputId": "c43bb016-3291-48eb-f2f8-2803c6355d8b"
      },
      "source": [
        "print(classification_report(ytest, y_predS))"
      ],
      "execution_count": null,
      "outputs": [
        {
          "output_type": "stream",
          "text": [
            "              precision    recall  f1-score   support\n",
            "\n",
            "           0       0.84      0.87      0.85      1007\n",
            "           1       0.52      0.31      0.39       423\n",
            "           2       0.81      0.81      0.81      1372\n",
            "           3       0.82      0.85      0.83       546\n",
            "           4       0.71      0.72      0.71      1929\n",
            "           5       0.75      0.82      0.78      1583\n",
            "           6       0.69      0.42      0.53       688\n",
            "           7       0.81      0.80      0.81       824\n",
            "           8       0.73      0.69      0.71      1286\n",
            "           9       0.78      0.87      0.82      3174\n",
            "          10       0.79      0.74      0.76       463\n",
            "          11       0.90      0.88      0.89      1896\n",
            "\n",
            "    accuracy                           0.78     15191\n",
            "   macro avg       0.76      0.73      0.74     15191\n",
            "weighted avg       0.78      0.78      0.78     15191\n",
            "\n"
          ],
          "name": "stdout"
        }
      ]
    },
    {
      "cell_type": "code",
      "metadata": {
        "colab": {
          "base_uri": "https://localhost:8080/"
        },
        "id": "e2RLuEZ5Z6Td",
        "outputId": "abec6f96-4903-440b-848d-b2744f43b12a"
      },
      "source": [
        "svc.score(x_train, ytrain)"
      ],
      "execution_count": null,
      "outputs": [
        {
          "output_type": "execute_result",
          "data": {
            "text/plain": [
              "0.9027649769585253"
            ]
          },
          "metadata": {
            "tags": []
          },
          "execution_count": 24
        }
      ]
    },
    {
      "cell_type": "code",
      "metadata": {
        "colab": {
          "base_uri": "https://localhost:8080/"
        },
        "id": "2W6yWvzWsbeb",
        "outputId": "db3e163b-6781-42cb-f579-60ff0aa0c95c"
      },
      "source": [
        "from sklearn.ensemble import ExtraTreesClassifier\n",
        "ex = ExtraTreesClassifier()\n",
        "ex.fit(x_train, ytrain)"
      ],
      "execution_count": null,
      "outputs": [
        {
          "output_type": "execute_result",
          "data": {
            "text/plain": [
              "ExtraTreesClassifier(bootstrap=False, ccp_alpha=0.0, class_weight=None,\n",
              "                     criterion='gini', max_depth=None, max_features='auto',\n",
              "                     max_leaf_nodes=None, max_samples=None,\n",
              "                     min_impurity_decrease=0.0, min_impurity_split=None,\n",
              "                     min_samples_leaf=1, min_samples_split=2,\n",
              "                     min_weight_fraction_leaf=0.0, n_estimators=100,\n",
              "                     n_jobs=None, oob_score=False, random_state=None, verbose=0,\n",
              "                     warm_start=False)"
            ]
          },
          "metadata": {},
          "execution_count": 29
        }
      ]
    },
    {
      "cell_type": "code",
      "metadata": {
        "colab": {
          "base_uri": "https://localhost:8080/"
        },
        "id": "Lc5W8DpatjGH",
        "outputId": "b4c29d3d-5415-48da-8498-7fce0a09b3ff"
      },
      "source": [
        "y_prede = ex.predict(x_test)\n",
        "confusion_matrix(ytest, y_prede)"
      ],
      "execution_count": null,
      "outputs": [
        {
          "output_type": "execute_result",
          "data": {
            "text/plain": [
              "array([[ 814,    1,   47,    0,   31,    6,    8,    9,    2,   74,    3,\n",
              "          12],\n",
              "       [   3,   27,   16,    0,   30,  214,    2,    4,   50,   35,    3,\n",
              "          39],\n",
              "       [  64,    8, 1012,    0,   27,   15,    3,    7,   13,  212,    1,\n",
              "          10],\n",
              "       [   1,    0,    3,  319,   23,   15,    1,    5,   25,  138,   11,\n",
              "           5],\n",
              "       [  22,    6,   52,    2, 1160,   52,   30,   13,   42,  478,    3,\n",
              "          69],\n",
              "       [  17,   68,   62,    0,   62, 1146,    5,   10,   13,  130,    8,\n",
              "          62],\n",
              "       [  14,    1,   29,    6,  142,   25,  117,   12,   33,  293,    2,\n",
              "          14],\n",
              "       [  11,    0,   28,    4,   26,   40,    3,  488,   25,  153,    5,\n",
              "          41],\n",
              "       [  10,    8,   21,    9,  146,   58,    7,   12,  605,  370,    6,\n",
              "          34],\n",
              "       [  26,    3,   49,    3,  138,   24,   40,    3,   43, 2818,    1,\n",
              "          26],\n",
              "       [   6,    6,   23,    6,   31,   39,    0,   10,   25,   37,  265,\n",
              "          15],\n",
              "       [  43,   12,   32,    0,   32,   47,    6,   12,   13,   71,    8,\n",
              "        1620]])"
            ]
          },
          "metadata": {},
          "execution_count": 30
        }
      ]
    },
    {
      "cell_type": "code",
      "metadata": {
        "colab": {
          "base_uri": "https://localhost:8080/"
        },
        "id": "M54jT_ZHtxqK",
        "outputId": "61b62ebf-9537-4270-8251-04a4db13c9d2"
      },
      "source": [
        "print(classification_report(ytest, y_prede))"
      ],
      "execution_count": null,
      "outputs": [
        {
          "output_type": "stream",
          "name": "stdout",
          "text": [
            "              precision    recall  f1-score   support\n",
            "\n",
            "           0       0.79      0.81      0.80      1007\n",
            "           1       0.19      0.06      0.10       423\n",
            "           2       0.74      0.74      0.74      1372\n",
            "           3       0.91      0.58      0.71       546\n",
            "           4       0.63      0.60      0.61      1929\n",
            "           5       0.68      0.72      0.70      1583\n",
            "           6       0.53      0.17      0.26       688\n",
            "           7       0.83      0.59      0.69       824\n",
            "           8       0.68      0.47      0.56      1286\n",
            "           9       0.59      0.89      0.71      3174\n",
            "          10       0.84      0.57      0.68       463\n",
            "          11       0.83      0.85      0.84      1896\n",
            "\n",
            "    accuracy                           0.68     15191\n",
            "   macro avg       0.69      0.59      0.62     15191\n",
            "weighted avg       0.69      0.68      0.67     15191\n",
            "\n"
          ]
        }
      ]
    },
    {
      "cell_type": "code",
      "metadata": {
        "colab": {
          "base_uri": "https://localhost:8080/"
        },
        "id": "tfFx4siet1Rv",
        "outputId": "c9ab4e02-242b-43cc-e457-9189228d6342"
      },
      "source": [
        "ex.score(x_train, ytrain)"
      ],
      "execution_count": null,
      "outputs": [
        {
          "output_type": "execute_result",
          "data": {
            "text/plain": [
              "0.9633475971033575"
            ]
          },
          "metadata": {},
          "execution_count": 32
        }
      ]
    },
    {
      "cell_type": "code",
      "metadata": {
        "colab": {
          "base_uri": "https://localhost:8080/"
        },
        "id": "ZJoV-WadZ6kr",
        "outputId": "1ba32bac-5942-48fa-85dc-a22c84b87c7f"
      },
      "source": [
        "from sklearn.ensemble import RandomForestClassifier\n",
        "rfc = RandomForestClassifier()\n",
        "rfc.fit(x_train, ytrain)"
      ],
      "execution_count": null,
      "outputs": [
        {
          "output_type": "execute_result",
          "data": {
            "text/plain": [
              "RandomForestClassifier(bootstrap=True, ccp_alpha=0.0, class_weight=None,\n",
              "                       criterion='gini', max_depth=None, max_features='auto',\n",
              "                       max_leaf_nodes=None, max_samples=None,\n",
              "                       min_impurity_decrease=0.0, min_impurity_split=None,\n",
              "                       min_samples_leaf=1, min_samples_split=2,\n",
              "                       min_weight_fraction_leaf=0.0, n_estimators=100,\n",
              "                       n_jobs=None, oob_score=False, random_state=None,\n",
              "                       verbose=0, warm_start=False)"
            ]
          },
          "metadata": {},
          "execution_count": 21
        }
      ]
    },
    {
      "cell_type": "code",
      "metadata": {
        "colab": {
          "base_uri": "https://localhost:8080/"
        },
        "id": "a8u_J6NK2BLF",
        "outputId": "8de1d242-77a5-4a20-e373-1f3a52eab7a1"
      },
      "source": [
        "y_predr = rfc.predict(x_test)\n",
        "confusion_matrix(ytest, y_predr)"
      ],
      "execution_count": null,
      "outputs": [
        {
          "output_type": "execute_result",
          "data": {
            "text/plain": [
              "array([[ 795,    1,   52,    0,   39,    7,    8,    7,    6,   75,    3,\n",
              "          14],\n",
              "       [   5,   17,   14,    0,   28,  232,    3,    3,   52,   37,    4,\n",
              "          28],\n",
              "       [  59,    7,  996,    0,   36,   18,    2,    8,   14,  223,    1,\n",
              "           8],\n",
              "       [   1,    0,    4,  299,   32,   16,    0,    9,   34,  129,   16,\n",
              "           6],\n",
              "       [  20,    4,   38,    3, 1177,   49,   27,    9,   52,  466,    7,\n",
              "          77],\n",
              "       [  13,   66,   60,    0,   70, 1147,    5,    3,   19,  125,    7,\n",
              "          68],\n",
              "       [  14,    2,   34,    1,  171,   21,   91,    6,   27,  299,    3,\n",
              "          19],\n",
              "       [  17,    0,   34,    2,   39,   48,    1,  432,   32,  160,    5,\n",
              "          54],\n",
              "       [   4,    3,   30,    5,  153,   67,    6,    6,  587,  382,    5,\n",
              "          38],\n",
              "       [  21,    2,   43,    2,  142,   24,   40,    5,   49, 2815,    2,\n",
              "          29],\n",
              "       [   6,    5,   18,    4,   35,   58,    0,    9,   25,   45,  243,\n",
              "          15],\n",
              "       [  37,   11,   39,    1,   44,   48,    6,    8,    7,   82,    7,\n",
              "        1606]])"
            ]
          },
          "metadata": {},
          "execution_count": 22
        }
      ]
    },
    {
      "cell_type": "code",
      "metadata": {
        "colab": {
          "base_uri": "https://localhost:8080/"
        },
        "id": "6q3WexYDz6D8",
        "outputId": "962b25c7-b4fe-40ec-f177-61b4d53ed427"
      },
      "source": [
        "print(classification_report(ytest, y_predr))"
      ],
      "execution_count": null,
      "outputs": [
        {
          "output_type": "stream",
          "name": "stdout",
          "text": [
            "              precision    recall  f1-score   support\n",
            "\n",
            "           0       0.80      0.79      0.80      1007\n",
            "           1       0.14      0.04      0.06       423\n",
            "           2       0.73      0.73      0.73      1372\n",
            "           3       0.94      0.55      0.69       546\n",
            "           4       0.60      0.61      0.60      1929\n",
            "           5       0.66      0.72      0.69      1583\n",
            "           6       0.48      0.13      0.21       688\n",
            "           7       0.86      0.52      0.65       824\n",
            "           8       0.65      0.46      0.54      1286\n",
            "           9       0.58      0.89      0.70      3174\n",
            "          10       0.80      0.52      0.63       463\n",
            "          11       0.82      0.85      0.83      1896\n",
            "\n",
            "    accuracy                           0.67     15191\n",
            "   macro avg       0.67      0.57      0.59     15191\n",
            "weighted avg       0.67      0.67      0.65     15191\n",
            "\n"
          ]
        }
      ]
    },
    {
      "cell_type": "code",
      "metadata": {
        "colab": {
          "base_uri": "https://localhost:8080/"
        },
        "id": "Ai9AXCmC1lO2",
        "outputId": "5ba74992-3b9a-4769-fe5c-308a61001ec0"
      },
      "source": [
        "rfc.score(x_train, ytrain)"
      ],
      "execution_count": null,
      "outputs": [
        {
          "output_type": "execute_result",
          "data": {
            "text/plain": [
              "0.9633475971033575"
            ]
          },
          "metadata": {},
          "execution_count": 24
        }
      ]
    },
    {
      "cell_type": "code",
      "metadata": {
        "colab": {
          "base_uri": "https://localhost:8080/"
        },
        "id": "k6aY2B7G1ldg",
        "outputId": "7f0d567f-a074-4e17-91b2-962fccd19314"
      },
      "source": [
        "from sklearn.tree import DecisionTreeClassifier\n",
        "clf = DecisionTreeClassifier()\n",
        "clf.fit(x_train, ytrain)\n",
        "y_predd = clf.predict(x_test)\n",
        "confusion_matrix(ytest, y_predd)"
      ],
      "execution_count": null,
      "outputs": [
        {
          "output_type": "execute_result",
          "data": {
            "text/plain": [
              "array([[ 688,    5,  111,    3,   43,   19,   29,   21,   12,   41,   11,\n",
              "          24],\n",
              "       [   6,   99,   21,    1,   37,  142,   10,   12,   38,   19,   13,\n",
              "          25],\n",
              "       [ 109,   16,  764,   22,   85,   57,   35,   43,   40,  151,   12,\n",
              "          38],\n",
              "       [   8,    4,   11,  308,   23,   14,   18,   23,   37,   60,   27,\n",
              "          13],\n",
              "       [  45,   25,   74,   20, 1016,   72,  140,   58,  113,  242,   39,\n",
              "          85],\n",
              "       [  25,  157,   59,   12,  112,  932,   24,   25,   57,   59,   40,\n",
              "          81],\n",
              "       [  23,   11,   32,   14,  154,   21,  165,   32,   56,  129,   16,\n",
              "          35],\n",
              "       [  23,    9,   50,   27,   47,   49,   26,  372,   75,   64,   26,\n",
              "          56],\n",
              "       [  26,   38,   58,   45,  156,   86,   60,   51,  510,  185,   31,\n",
              "          40],\n",
              "       [  46,   19,  134,   39,  303,   78,  127,   69,  195, 2084,   13,\n",
              "          67],\n",
              "       [   7,   16,   24,   33,   41,   44,    7,   26,   28,   14,  200,\n",
              "          23],\n",
              "       [  35,   50,   59,    7,  101,   83,   40,   50,   42,   64,   16,\n",
              "        1349]])"
            ]
          },
          "metadata": {
            "tags": []
          },
          "execution_count": 103
        }
      ]
    },
    {
      "cell_type": "code",
      "metadata": {
        "colab": {
          "base_uri": "https://localhost:8080/"
        },
        "id": "4PqJugcu8FPu",
        "outputId": "2d92b6e6-a524-4587-f34a-029dac19629c"
      },
      "source": [
        "print(classification_report(ytest, y_predd))"
      ],
      "execution_count": null,
      "outputs": [
        {
          "output_type": "stream",
          "text": [
            "              precision    recall  f1-score   support\n",
            "\n",
            "           0       0.66      0.68      0.67      1007\n",
            "           1       0.22      0.23      0.23       423\n",
            "           2       0.55      0.56      0.55      1372\n",
            "           3       0.58      0.56      0.57       546\n",
            "           4       0.48      0.53      0.50      1929\n",
            "           5       0.58      0.59      0.59      1583\n",
            "           6       0.24      0.24      0.24       688\n",
            "           7       0.48      0.45      0.46       824\n",
            "           8       0.42      0.40      0.41      1286\n",
            "           9       0.67      0.66      0.66      3174\n",
            "          10       0.45      0.43      0.44       463\n",
            "          11       0.73      0.71      0.72      1896\n",
            "\n",
            "    accuracy                           0.56     15191\n",
            "   macro avg       0.51      0.50      0.50     15191\n",
            "weighted avg       0.56      0.56      0.56     15191\n",
            "\n"
          ],
          "name": "stdout"
        }
      ]
    },
    {
      "cell_type": "code",
      "metadata": {
        "colab": {
          "base_uri": "https://localhost:8080/"
        },
        "id": "t9Cwe5nK9xcD",
        "outputId": "5f72efed-524b-419b-9ae7-80d96f76be0f"
      },
      "source": [
        "clf.score(x_train, ytrain)"
      ],
      "execution_count": null,
      "outputs": [
        {
          "output_type": "execute_result",
          "data": {
            "text/plain": [
              "0.9633475971033575"
            ]
          },
          "metadata": {
            "tags": []
          },
          "execution_count": 105
        }
      ]
    },
    {
      "cell_type": "code",
      "metadata": {
        "colab": {
          "base_uri": "https://localhost:8080/"
        },
        "id": "ZSEBA2Q8Yxu5",
        "outputId": "47cf9fe4-f129-49a0-f1a6-092d118504bf"
      },
      "source": [
        "from sklearn.linear_model import LogisticRegression\n",
        "CLF = LogisticRegression(max_iter = 500)\n",
        "CLF.fit(x_train, ytrain)\n",
        "y_predL = CLF.predict(x_test)\n",
        "confusion_matrix(ytest, y_predL)"
      ],
      "execution_count": null,
      "outputs": [
        {
          "output_type": "execute_result",
          "data": {
            "text/plain": [
              "array([[ 857,    2,   44,    2,   20,    9,   11,   10,    7,   27,    3,\n",
              "          15],\n",
              "       [   4,  135,   12,    1,   29,  168,    0,    5,   29,   15,    3,\n",
              "          22],\n",
              "       [  39,    4, 1074,    2,   38,   27,    9,   17,   23,  136,    0,\n",
              "           3],\n",
              "       [   1,    1,    2,  433,   11,    5,    3,   10,   27,   40,   12,\n",
              "           1],\n",
              "       [  19,    7,   44,   11, 1369,   44,   39,   29,   82,  223,   16,\n",
              "          46],\n",
              "       [  10,   54,   37,    3,   53, 1282,    6,   24,   23,   54,   14,\n",
              "          23],\n",
              "       [  19,    6,   18,   22,  109,   21,  293,   10,   47,  125,    6,\n",
              "          12],\n",
              "       [   8,    2,   13,    6,   18,   20,    8,  644,   33,   30,   14,\n",
              "          28],\n",
              "       [  11,   17,   26,   20,  108,   40,   20,   19,  873,  109,   14,\n",
              "          29],\n",
              "       [  29,    3,   67,   20,  157,   24,   34,   14,   82, 2721,    2,\n",
              "          21],\n",
              "       [   7,    4,   16,   14,   21,   30,    1,   14,   20,    9,  324,\n",
              "           3],\n",
              "       [  28,    7,   24,    7,   45,   49,    2,   25,   11,   42,    9,\n",
              "        1647]])"
            ]
          },
          "metadata": {
            "tags": []
          },
          "execution_count": 110
        }
      ]
    },
    {
      "cell_type": "code",
      "metadata": {
        "colab": {
          "base_uri": "https://localhost:8080/"
        },
        "id": "MdnQuKn9-Fze",
        "outputId": "302855c2-2d4f-4c9e-d4ce-16004cfbe2c6"
      },
      "source": [
        "print(classification_report(ytest, y_predL))"
      ],
      "execution_count": null,
      "outputs": [
        {
          "output_type": "stream",
          "text": [
            "              precision    recall  f1-score   support\n",
            "\n",
            "           0       0.83      0.85      0.84      1007\n",
            "           1       0.56      0.32      0.41       423\n",
            "           2       0.78      0.78      0.78      1372\n",
            "           3       0.80      0.79      0.80       546\n",
            "           4       0.69      0.71      0.70      1929\n",
            "           5       0.75      0.81      0.78      1583\n",
            "           6       0.69      0.43      0.53       688\n",
            "           7       0.78      0.78      0.78       824\n",
            "           8       0.69      0.68      0.69      1286\n",
            "           9       0.77      0.86      0.81      3174\n",
            "          10       0.78      0.70      0.74       463\n",
            "          11       0.89      0.87      0.88      1896\n",
            "\n",
            "    accuracy                           0.77     15191\n",
            "   macro avg       0.75      0.71      0.73     15191\n",
            "weighted avg       0.76      0.77      0.76     15191\n",
            "\n"
          ],
          "name": "stdout"
        }
      ]
    },
    {
      "cell_type": "code",
      "metadata": {
        "colab": {
          "base_uri": "https://localhost:8080/"
        },
        "id": "Z8qb8IcM9-6S",
        "outputId": "d898c90c-076f-460b-85ea-e4f9b205ac32"
      },
      "source": [
        "CLF.score(x_train, ytrain)"
      ],
      "execution_count": null,
      "outputs": [
        {
          "output_type": "execute_result",
          "data": {
            "text/plain": [
              "0.8040816326530612"
            ]
          },
          "metadata": {
            "tags": []
          },
          "execution_count": 112
        }
      ]
    },
    {
      "cell_type": "code",
      "metadata": {
        "colab": {
          "base_uri": "https://localhost:8080/"
        },
        "id": "P_POadqdbl3g",
        "outputId": "8582a3d1-e0c6-43ec-f0ae-df4c7171b506"
      },
      "source": [
        "from sklearn.linear_model import SGDClassifier\n",
        "Clf = SGDClassifier()\n",
        "Clf.fit(x_train, ytrain)"
      ],
      "execution_count": null,
      "outputs": [
        {
          "output_type": "execute_result",
          "data": {
            "text/plain": [
              "SGDClassifier(alpha=0.0001, average=False, class_weight=None,\n",
              "              early_stopping=False, epsilon=0.1, eta0=0.0, fit_intercept=True,\n",
              "              l1_ratio=0.15, learning_rate='optimal', loss='hinge',\n",
              "              max_iter=1000, n_iter_no_change=5, n_jobs=None, penalty='l2',\n",
              "              power_t=0.5, random_state=None, shuffle=True, tol=0.001,\n",
              "              validation_fraction=0.1, verbose=0, warm_start=False)"
            ]
          },
          "metadata": {
            "tags": []
          },
          "execution_count": 65
        }
      ]
    },
    {
      "cell_type": "code",
      "metadata": {
        "colab": {
          "base_uri": "https://localhost:8080/"
        },
        "id": "CRm3aWku3Y8J",
        "outputId": "a186a196-7b6c-431a-e95c-742a6689be18"
      },
      "source": [
        "y_preds = Clf.predict(x_test)\n",
        "confusion_matrix(ytest, y_preds)"
      ],
      "execution_count": null,
      "outputs": [
        {
          "output_type": "execute_result",
          "data": {
            "text/plain": [
              "array([[ 869,    1,   39,    4,   15,    6,    8,   12,    8,   30,    3,\n",
              "          12],\n",
              "       [   5,   77,   17,    2,   20,  206,    0,    5,   38,   21,    7,\n",
              "          25],\n",
              "       [  53,    1, 1038,    7,   32,   26,    6,   21,   27,  156,    1,\n",
              "           4],\n",
              "       [   2,    1,    1,  429,   11,    7,    1,   10,   25,   41,   17,\n",
              "           1],\n",
              "       [  24,    7,   43,   16, 1327,   43,   16,   24,   76,  276,   21,\n",
              "          56],\n",
              "       [  18,   12,   49,    2,   47, 1306,    2,   25,   19,   55,   17,\n",
              "          31],\n",
              "       [  22,    2,   20,   27,  116,   26,  232,   11,   46,  167,    6,\n",
              "          13],\n",
              "       [  13,    3,   20,    9,    9,   26,    5,  608,   36,   43,   17,\n",
              "          35],\n",
              "       [  13,   11,   25,   23,  120,   44,   17,   22,  822,  139,   16,\n",
              "          34],\n",
              "       [  34,    1,   51,   20,  106,   25,   13,   21,   78, 2801,    4,\n",
              "          20],\n",
              "       [   9,    0,   17,   13,   21,   27,    2,    8,   24,   10,  326,\n",
              "           6],\n",
              "       [  41,    4,   28,    7,   31,   51,    4,   17,    8,   46,   12,\n",
              "        1647]])"
            ]
          },
          "metadata": {
            "tags": []
          },
          "execution_count": 79
        }
      ]
    },
    {
      "cell_type": "code",
      "metadata": {
        "colab": {
          "base_uri": "https://localhost:8080/"
        },
        "id": "lYh7yTraByKv",
        "outputId": "691f0822-eb8e-4727-f203-a8859e1a82f6"
      },
      "source": [
        "print(classification_report(ytest, y_preds))"
      ],
      "execution_count": null,
      "outputs": [
        {
          "output_type": "stream",
          "text": [
            "              precision    recall  f1-score   support\n",
            "\n",
            "           0       0.79      0.86      0.82      1007\n",
            "           1       0.64      0.18      0.28       423\n",
            "           2       0.77      0.76      0.76      1372\n",
            "           3       0.77      0.79      0.78       546\n",
            "           4       0.72      0.69      0.70      1929\n",
            "           5       0.73      0.83      0.77      1583\n",
            "           6       0.76      0.34      0.47       688\n",
            "           7       0.78      0.74      0.76       824\n",
            "           8       0.68      0.64      0.66      1286\n",
            "           9       0.74      0.88      0.81      3174\n",
            "          10       0.73      0.70      0.72       463\n",
            "          11       0.87      0.87      0.87      1896\n",
            "\n",
            "    accuracy                           0.76     15191\n",
            "   macro avg       0.75      0.69      0.70     15191\n",
            "weighted avg       0.75      0.76      0.75     15191\n",
            "\n"
          ],
          "name": "stdout"
        }
      ]
    },
    {
      "cell_type": "code",
      "metadata": {
        "colab": {
          "base_uri": "https://localhost:8080/"
        },
        "id": "lDSZdfjMB2YF",
        "outputId": "78f6031b-0b8e-4899-c8dc-6c8339d7ad2c"
      },
      "source": [
        "Clf.score(x_train, ytrain)"
      ],
      "execution_count": null,
      "outputs": [
        {
          "output_type": "execute_result",
          "data": {
            "text/plain": [
              "0.7785385121790652"
            ]
          },
          "metadata": {
            "tags": []
          },
          "execution_count": 81
        }
      ]
    },
    {
      "cell_type": "code",
      "metadata": {
        "id": "WzggPpLQsqs1"
      },
      "source": [
        ""
      ],
      "execution_count": null,
      "outputs": []
    }
  ]
}